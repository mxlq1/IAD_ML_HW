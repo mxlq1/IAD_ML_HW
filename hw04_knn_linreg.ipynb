{
  "cells": [
    {
      "cell_type": "markdown",
      "metadata": {
        "id": "Xdj9KTpCgFQt"
      },
      "source": [
        "## Интеллектуальный анализ данных – весна 2024\n",
        "## Домашнее задание 4: kNN. Линейные модели. Работа с признаками"
      ]
    },
    {
      "cell_type": "markdown",
      "metadata": {
        "id": "umVNVVrwgFQv"
      },
      "source": [
        "Правила:\n",
        "\n",
        "* Домашнее задание оценивается в 10 баллов.\n",
        "\n",
        "* Можно использовать без доказательства любые результаты, встречавшиеся на лекциях или семинарах по курсу, если получение этих результатов не является вопросом задания.\n",
        "\n",
        "* Можно использовать любые свободные источники с *обязательным* указанием ссылки на них.\n",
        "\n",
        "* Плагиат не допускается. При обнаружении случаев списывания, 0 за работу выставляется всем участникам нарушения, даже если можно установить, кто у кого списал.\n",
        "\n",
        "* Старайтесь сделать код как можно более оптимальным. В частности, будет штрафоваться использование циклов в тех случаях, когда операцию можно совершить при помощи инструментов библиотек, о которых рассказывалось в курсе.  "
      ]
    },
    {
      "cell_type": "markdown",
      "metadata": {
        "id": "M_YUJjw3gFQv"
      },
      "source": [
        "### Задание 1:  Визуализация решающих поверхностей в kNN."
      ]
    },
    {
      "cell_type": "markdown",
      "metadata": {
        "id": "zaS6e29EgFQw"
      },
      "source": [
        "В этом задании мы изобразим решающую поверхность для классификатора kNN, чтобы наглядно увидеть, как классификатор принимает решения для новых объектов. Для простоты будем работать со встроенным в `sklearn` набором данных `wine`, содержащим информацию о характеристиках трёх видов вина. Описание набора можно найти [здесь](https://scikit-learn.org/stable/modules/generated/sklearn.datasets.load_wine.html#sklearn.datasets.load_wine) и [здесь](https://rdrr.io/cran/rattle.data/man/wine.html)."
      ]
    },
    {
      "cell_type": "markdown",
      "metadata": {
        "id": "ygPNcrxSgFQw"
      },
      "source": [
        "Загрузим набор данных и сохраним информацию о признаках в переменную `X`, а о зависимой переменной – в переменную `y`."
      ]
    },
    {
      "cell_type": "code",
      "execution_count": 1,
      "metadata": {
        "id": "7fgg6HGlgFQw"
      },
      "outputs": [],
      "source": [
        "import numpy as np\n",
        "import pandas as pd\n",
        "import matplotlib.pyplot as plt"
      ]
    },
    {
      "cell_type": "code",
      "execution_count": 2,
      "metadata": {
        "colab": {
          "base_uri": "https://localhost:8080/",
          "height": 300
        },
        "id": "VxWqG3fWgFQw",
        "outputId": "befebad4-1e1f-4e27-b647-e02d61f7b67d"
      },
      "outputs": [
        {
          "output_type": "execute_result",
          "data": {
            "text/plain": [
              "   alcohol  malic_acid   ash  alcalinity_of_ash  magnesium  total_phenols  \\\n",
              "0    14.23        1.71  2.43               15.6      127.0           2.80   \n",
              "1    13.20        1.78  2.14               11.2      100.0           2.65   \n",
              "2    13.16        2.36  2.67               18.6      101.0           2.80   \n",
              "3    14.37        1.95  2.50               16.8      113.0           3.85   \n",
              "4    13.24        2.59  2.87               21.0      118.0           2.80   \n",
              "5    14.20        1.76  2.45               15.2      112.0           3.27   \n",
              "6    14.39        1.87  2.45               14.6       96.0           2.50   \n",
              "7    14.06        2.15  2.61               17.6      121.0           2.60   \n",
              "\n",
              "   flavanoids  nonflavanoid_phenols  proanthocyanins  color_intensity   hue  \\\n",
              "0        3.06                  0.28             2.29             5.64  1.04   \n",
              "1        2.76                  0.26             1.28             4.38  1.05   \n",
              "2        3.24                  0.30             2.81             5.68  1.03   \n",
              "3        3.49                  0.24             2.18             7.80  0.86   \n",
              "4        2.69                  0.39             1.82             4.32  1.04   \n",
              "5        3.39                  0.34             1.97             6.75  1.05   \n",
              "6        2.52                  0.30             1.98             5.25  1.02   \n",
              "7        2.51                  0.31             1.25             5.05  1.06   \n",
              "\n",
              "   od280/od315_of_diluted_wines  proline  \n",
              "0                          3.92   1065.0  \n",
              "1                          3.40   1050.0  \n",
              "2                          3.17   1185.0  \n",
              "3                          3.45   1480.0  \n",
              "4                          2.93    735.0  \n",
              "5                          2.85   1450.0  \n",
              "6                          3.58   1290.0  \n",
              "7                          3.58   1295.0  "
            ],
            "text/html": [
              "\n",
              "  <div id=\"df-3097a03e-4dbe-4dc4-892a-91115ca89b1e\" class=\"colab-df-container\">\n",
              "    <div>\n",
              "<style scoped>\n",
              "    .dataframe tbody tr th:only-of-type {\n",
              "        vertical-align: middle;\n",
              "    }\n",
              "\n",
              "    .dataframe tbody tr th {\n",
              "        vertical-align: top;\n",
              "    }\n",
              "\n",
              "    .dataframe thead th {\n",
              "        text-align: right;\n",
              "    }\n",
              "</style>\n",
              "<table border=\"1\" class=\"dataframe\">\n",
              "  <thead>\n",
              "    <tr style=\"text-align: right;\">\n",
              "      <th></th>\n",
              "      <th>alcohol</th>\n",
              "      <th>malic_acid</th>\n",
              "      <th>ash</th>\n",
              "      <th>alcalinity_of_ash</th>\n",
              "      <th>magnesium</th>\n",
              "      <th>total_phenols</th>\n",
              "      <th>flavanoids</th>\n",
              "      <th>nonflavanoid_phenols</th>\n",
              "      <th>proanthocyanins</th>\n",
              "      <th>color_intensity</th>\n",
              "      <th>hue</th>\n",
              "      <th>od280/od315_of_diluted_wines</th>\n",
              "      <th>proline</th>\n",
              "    </tr>\n",
              "  </thead>\n",
              "  <tbody>\n",
              "    <tr>\n",
              "      <th>0</th>\n",
              "      <td>14.23</td>\n",
              "      <td>1.71</td>\n",
              "      <td>2.43</td>\n",
              "      <td>15.6</td>\n",
              "      <td>127.0</td>\n",
              "      <td>2.80</td>\n",
              "      <td>3.06</td>\n",
              "      <td>0.28</td>\n",
              "      <td>2.29</td>\n",
              "      <td>5.64</td>\n",
              "      <td>1.04</td>\n",
              "      <td>3.92</td>\n",
              "      <td>1065.0</td>\n",
              "    </tr>\n",
              "    <tr>\n",
              "      <th>1</th>\n",
              "      <td>13.20</td>\n",
              "      <td>1.78</td>\n",
              "      <td>2.14</td>\n",
              "      <td>11.2</td>\n",
              "      <td>100.0</td>\n",
              "      <td>2.65</td>\n",
              "      <td>2.76</td>\n",
              "      <td>0.26</td>\n",
              "      <td>1.28</td>\n",
              "      <td>4.38</td>\n",
              "      <td>1.05</td>\n",
              "      <td>3.40</td>\n",
              "      <td>1050.0</td>\n",
              "    </tr>\n",
              "    <tr>\n",
              "      <th>2</th>\n",
              "      <td>13.16</td>\n",
              "      <td>2.36</td>\n",
              "      <td>2.67</td>\n",
              "      <td>18.6</td>\n",
              "      <td>101.0</td>\n",
              "      <td>2.80</td>\n",
              "      <td>3.24</td>\n",
              "      <td>0.30</td>\n",
              "      <td>2.81</td>\n",
              "      <td>5.68</td>\n",
              "      <td>1.03</td>\n",
              "      <td>3.17</td>\n",
              "      <td>1185.0</td>\n",
              "    </tr>\n",
              "    <tr>\n",
              "      <th>3</th>\n",
              "      <td>14.37</td>\n",
              "      <td>1.95</td>\n",
              "      <td>2.50</td>\n",
              "      <td>16.8</td>\n",
              "      <td>113.0</td>\n",
              "      <td>3.85</td>\n",
              "      <td>3.49</td>\n",
              "      <td>0.24</td>\n",
              "      <td>2.18</td>\n",
              "      <td>7.80</td>\n",
              "      <td>0.86</td>\n",
              "      <td>3.45</td>\n",
              "      <td>1480.0</td>\n",
              "    </tr>\n",
              "    <tr>\n",
              "      <th>4</th>\n",
              "      <td>13.24</td>\n",
              "      <td>2.59</td>\n",
              "      <td>2.87</td>\n",
              "      <td>21.0</td>\n",
              "      <td>118.0</td>\n",
              "      <td>2.80</td>\n",
              "      <td>2.69</td>\n",
              "      <td>0.39</td>\n",
              "      <td>1.82</td>\n",
              "      <td>4.32</td>\n",
              "      <td>1.04</td>\n",
              "      <td>2.93</td>\n",
              "      <td>735.0</td>\n",
              "    </tr>\n",
              "    <tr>\n",
              "      <th>5</th>\n",
              "      <td>14.20</td>\n",
              "      <td>1.76</td>\n",
              "      <td>2.45</td>\n",
              "      <td>15.2</td>\n",
              "      <td>112.0</td>\n",
              "      <td>3.27</td>\n",
              "      <td>3.39</td>\n",
              "      <td>0.34</td>\n",
              "      <td>1.97</td>\n",
              "      <td>6.75</td>\n",
              "      <td>1.05</td>\n",
              "      <td>2.85</td>\n",
              "      <td>1450.0</td>\n",
              "    </tr>\n",
              "    <tr>\n",
              "      <th>6</th>\n",
              "      <td>14.39</td>\n",
              "      <td>1.87</td>\n",
              "      <td>2.45</td>\n",
              "      <td>14.6</td>\n",
              "      <td>96.0</td>\n",
              "      <td>2.50</td>\n",
              "      <td>2.52</td>\n",
              "      <td>0.30</td>\n",
              "      <td>1.98</td>\n",
              "      <td>5.25</td>\n",
              "      <td>1.02</td>\n",
              "      <td>3.58</td>\n",
              "      <td>1290.0</td>\n",
              "    </tr>\n",
              "    <tr>\n",
              "      <th>7</th>\n",
              "      <td>14.06</td>\n",
              "      <td>2.15</td>\n",
              "      <td>2.61</td>\n",
              "      <td>17.6</td>\n",
              "      <td>121.0</td>\n",
              "      <td>2.60</td>\n",
              "      <td>2.51</td>\n",
              "      <td>0.31</td>\n",
              "      <td>1.25</td>\n",
              "      <td>5.05</td>\n",
              "      <td>1.06</td>\n",
              "      <td>3.58</td>\n",
              "      <td>1295.0</td>\n",
              "    </tr>\n",
              "  </tbody>\n",
              "</table>\n",
              "</div>\n",
              "    <div class=\"colab-df-buttons\">\n",
              "\n",
              "  <div class=\"colab-df-container\">\n",
              "    <button class=\"colab-df-convert\" onclick=\"convertToInteractive('df-3097a03e-4dbe-4dc4-892a-91115ca89b1e')\"\n",
              "            title=\"Convert this dataframe to an interactive table.\"\n",
              "            style=\"display:none;\">\n",
              "\n",
              "  <svg xmlns=\"http://www.w3.org/2000/svg\" height=\"24px\" viewBox=\"0 -960 960 960\">\n",
              "    <path d=\"M120-120v-720h720v720H120Zm60-500h600v-160H180v160Zm220 220h160v-160H400v160Zm0 220h160v-160H400v160ZM180-400h160v-160H180v160Zm440 0h160v-160H620v160ZM180-180h160v-160H180v160Zm440 0h160v-160H620v160Z\"/>\n",
              "  </svg>\n",
              "    </button>\n",
              "\n",
              "  <style>\n",
              "    .colab-df-container {\n",
              "      display:flex;\n",
              "      gap: 12px;\n",
              "    }\n",
              "\n",
              "    .colab-df-convert {\n",
              "      background-color: #E8F0FE;\n",
              "      border: none;\n",
              "      border-radius: 50%;\n",
              "      cursor: pointer;\n",
              "      display: none;\n",
              "      fill: #1967D2;\n",
              "      height: 32px;\n",
              "      padding: 0 0 0 0;\n",
              "      width: 32px;\n",
              "    }\n",
              "\n",
              "    .colab-df-convert:hover {\n",
              "      background-color: #E2EBFA;\n",
              "      box-shadow: 0px 1px 2px rgba(60, 64, 67, 0.3), 0px 1px 3px 1px rgba(60, 64, 67, 0.15);\n",
              "      fill: #174EA6;\n",
              "    }\n",
              "\n",
              "    .colab-df-buttons div {\n",
              "      margin-bottom: 4px;\n",
              "    }\n",
              "\n",
              "    [theme=dark] .colab-df-convert {\n",
              "      background-color: #3B4455;\n",
              "      fill: #D2E3FC;\n",
              "    }\n",
              "\n",
              "    [theme=dark] .colab-df-convert:hover {\n",
              "      background-color: #434B5C;\n",
              "      box-shadow: 0px 1px 3px 1px rgba(0, 0, 0, 0.15);\n",
              "      filter: drop-shadow(0px 1px 2px rgba(0, 0, 0, 0.3));\n",
              "      fill: #FFFFFF;\n",
              "    }\n",
              "  </style>\n",
              "\n",
              "    <script>\n",
              "      const buttonEl =\n",
              "        document.querySelector('#df-3097a03e-4dbe-4dc4-892a-91115ca89b1e button.colab-df-convert');\n",
              "      buttonEl.style.display =\n",
              "        google.colab.kernel.accessAllowed ? 'block' : 'none';\n",
              "\n",
              "      async function convertToInteractive(key) {\n",
              "        const element = document.querySelector('#df-3097a03e-4dbe-4dc4-892a-91115ca89b1e');\n",
              "        const dataTable =\n",
              "          await google.colab.kernel.invokeFunction('convertToInteractive',\n",
              "                                                    [key], {});\n",
              "        if (!dataTable) return;\n",
              "\n",
              "        const docLinkHtml = 'Like what you see? Visit the ' +\n",
              "          '<a target=\"_blank\" href=https://colab.research.google.com/notebooks/data_table.ipynb>data table notebook</a>'\n",
              "          + ' to learn more about interactive tables.';\n",
              "        element.innerHTML = '';\n",
              "        dataTable['output_type'] = 'display_data';\n",
              "        await google.colab.output.renderOutput(dataTable, element);\n",
              "        const docLink = document.createElement('div');\n",
              "        docLink.innerHTML = docLinkHtml;\n",
              "        element.appendChild(docLink);\n",
              "      }\n",
              "    </script>\n",
              "  </div>\n",
              "\n",
              "\n",
              "<div id=\"df-76f68c8e-3229-4690-9590-ff3d600f1623\">\n",
              "  <button class=\"colab-df-quickchart\" onclick=\"quickchart('df-76f68c8e-3229-4690-9590-ff3d600f1623')\"\n",
              "            title=\"Suggest charts\"\n",
              "            style=\"display:none;\">\n",
              "\n",
              "<svg xmlns=\"http://www.w3.org/2000/svg\" height=\"24px\"viewBox=\"0 0 24 24\"\n",
              "     width=\"24px\">\n",
              "    <g>\n",
              "        <path d=\"M19 3H5c-1.1 0-2 .9-2 2v14c0 1.1.9 2 2 2h14c1.1 0 2-.9 2-2V5c0-1.1-.9-2-2-2zM9 17H7v-7h2v7zm4 0h-2V7h2v10zm4 0h-2v-4h2v4z\"/>\n",
              "    </g>\n",
              "</svg>\n",
              "  </button>\n",
              "\n",
              "<style>\n",
              "  .colab-df-quickchart {\n",
              "      --bg-color: #E8F0FE;\n",
              "      --fill-color: #1967D2;\n",
              "      --hover-bg-color: #E2EBFA;\n",
              "      --hover-fill-color: #174EA6;\n",
              "      --disabled-fill-color: #AAA;\n",
              "      --disabled-bg-color: #DDD;\n",
              "  }\n",
              "\n",
              "  [theme=dark] .colab-df-quickchart {\n",
              "      --bg-color: #3B4455;\n",
              "      --fill-color: #D2E3FC;\n",
              "      --hover-bg-color: #434B5C;\n",
              "      --hover-fill-color: #FFFFFF;\n",
              "      --disabled-bg-color: #3B4455;\n",
              "      --disabled-fill-color: #666;\n",
              "  }\n",
              "\n",
              "  .colab-df-quickchart {\n",
              "    background-color: var(--bg-color);\n",
              "    border: none;\n",
              "    border-radius: 50%;\n",
              "    cursor: pointer;\n",
              "    display: none;\n",
              "    fill: var(--fill-color);\n",
              "    height: 32px;\n",
              "    padding: 0;\n",
              "    width: 32px;\n",
              "  }\n",
              "\n",
              "  .colab-df-quickchart:hover {\n",
              "    background-color: var(--hover-bg-color);\n",
              "    box-shadow: 0 1px 2px rgba(60, 64, 67, 0.3), 0 1px 3px 1px rgba(60, 64, 67, 0.15);\n",
              "    fill: var(--button-hover-fill-color);\n",
              "  }\n",
              "\n",
              "  .colab-df-quickchart-complete:disabled,\n",
              "  .colab-df-quickchart-complete:disabled:hover {\n",
              "    background-color: var(--disabled-bg-color);\n",
              "    fill: var(--disabled-fill-color);\n",
              "    box-shadow: none;\n",
              "  }\n",
              "\n",
              "  .colab-df-spinner {\n",
              "    border: 2px solid var(--fill-color);\n",
              "    border-color: transparent;\n",
              "    border-bottom-color: var(--fill-color);\n",
              "    animation:\n",
              "      spin 1s steps(1) infinite;\n",
              "  }\n",
              "\n",
              "  @keyframes spin {\n",
              "    0% {\n",
              "      border-color: transparent;\n",
              "      border-bottom-color: var(--fill-color);\n",
              "      border-left-color: var(--fill-color);\n",
              "    }\n",
              "    20% {\n",
              "      border-color: transparent;\n",
              "      border-left-color: var(--fill-color);\n",
              "      border-top-color: var(--fill-color);\n",
              "    }\n",
              "    30% {\n",
              "      border-color: transparent;\n",
              "      border-left-color: var(--fill-color);\n",
              "      border-top-color: var(--fill-color);\n",
              "      border-right-color: var(--fill-color);\n",
              "    }\n",
              "    40% {\n",
              "      border-color: transparent;\n",
              "      border-right-color: var(--fill-color);\n",
              "      border-top-color: var(--fill-color);\n",
              "    }\n",
              "    60% {\n",
              "      border-color: transparent;\n",
              "      border-right-color: var(--fill-color);\n",
              "    }\n",
              "    80% {\n",
              "      border-color: transparent;\n",
              "      border-right-color: var(--fill-color);\n",
              "      border-bottom-color: var(--fill-color);\n",
              "    }\n",
              "    90% {\n",
              "      border-color: transparent;\n",
              "      border-bottom-color: var(--fill-color);\n",
              "    }\n",
              "  }\n",
              "</style>\n",
              "\n",
              "  <script>\n",
              "    async function quickchart(key) {\n",
              "      const quickchartButtonEl =\n",
              "        document.querySelector('#' + key + ' button');\n",
              "      quickchartButtonEl.disabled = true;  // To prevent multiple clicks.\n",
              "      quickchartButtonEl.classList.add('colab-df-spinner');\n",
              "      try {\n",
              "        const charts = await google.colab.kernel.invokeFunction(\n",
              "            'suggestCharts', [key], {});\n",
              "      } catch (error) {\n",
              "        console.error('Error during call to suggestCharts:', error);\n",
              "      }\n",
              "      quickchartButtonEl.classList.remove('colab-df-spinner');\n",
              "      quickchartButtonEl.classList.add('colab-df-quickchart-complete');\n",
              "    }\n",
              "    (() => {\n",
              "      let quickchartButtonEl =\n",
              "        document.querySelector('#df-76f68c8e-3229-4690-9590-ff3d600f1623 button');\n",
              "      quickchartButtonEl.style.display =\n",
              "        google.colab.kernel.accessAllowed ? 'block' : 'none';\n",
              "    })();\n",
              "  </script>\n",
              "</div>\n",
              "    </div>\n",
              "  </div>\n"
            ],
            "application/vnd.google.colaboratory.intrinsic+json": {
              "type": "dataframe",
              "variable_name": "X",
              "summary": "{\n  \"name\": \"X\",\n  \"rows\": 178,\n  \"fields\": [\n    {\n      \"column\": \"alcohol\",\n      \"properties\": {\n        \"dtype\": \"number\",\n        \"std\": 0.8118265380058575,\n        \"min\": 11.03,\n        \"max\": 14.83,\n        \"num_unique_values\": 126,\n        \"samples\": [\n          11.62,\n          13.64,\n          13.69\n        ],\n        \"semantic_type\": \"\",\n        \"description\": \"\"\n      }\n    },\n    {\n      \"column\": \"malic_acid\",\n      \"properties\": {\n        \"dtype\": \"number\",\n        \"std\": 1.1171460976144627,\n        \"min\": 0.74,\n        \"max\": 5.8,\n        \"num_unique_values\": 133,\n        \"samples\": [\n          1.21,\n          2.83,\n          1.8\n        ],\n        \"semantic_type\": \"\",\n        \"description\": \"\"\n      }\n    },\n    {\n      \"column\": \"ash\",\n      \"properties\": {\n        \"dtype\": \"number\",\n        \"std\": 0.27434400906081485,\n        \"min\": 1.36,\n        \"max\": 3.23,\n        \"num_unique_values\": 79,\n        \"samples\": [\n          2.31,\n          2.43,\n          2.52\n        ],\n        \"semantic_type\": \"\",\n        \"description\": \"\"\n      }\n    },\n    {\n      \"column\": \"alcalinity_of_ash\",\n      \"properties\": {\n        \"dtype\": \"number\",\n        \"std\": 3.339563767173505,\n        \"min\": 10.6,\n        \"max\": 30.0,\n        \"num_unique_values\": 63,\n        \"samples\": [\n          25.5,\n          28.5,\n          15.6\n        ],\n        \"semantic_type\": \"\",\n        \"description\": \"\"\n      }\n    },\n    {\n      \"column\": \"magnesium\",\n      \"properties\": {\n        \"dtype\": \"number\",\n        \"std\": 14.282483515295665,\n        \"min\": 70.0,\n        \"max\": 162.0,\n        \"num_unique_values\": 53,\n        \"samples\": [\n          126.0,\n          85.0,\n          162.0\n        ],\n        \"semantic_type\": \"\",\n        \"description\": \"\"\n      }\n    },\n    {\n      \"column\": \"total_phenols\",\n      \"properties\": {\n        \"dtype\": \"number\",\n        \"std\": 0.6258510488339893,\n        \"min\": 0.98,\n        \"max\": 3.88,\n        \"num_unique_values\": 97,\n        \"samples\": [\n          1.68,\n          2.11,\n          1.35\n        ],\n        \"semantic_type\": \"\",\n        \"description\": \"\"\n      }\n    },\n    {\n      \"column\": \"flavanoids\",\n      \"properties\": {\n        \"dtype\": \"number\",\n        \"std\": 0.9988586850169467,\n        \"min\": 0.34,\n        \"max\": 5.08,\n        \"num_unique_values\": 132,\n        \"samples\": [\n          3.18,\n          2.5,\n          3.17\n        ],\n        \"semantic_type\": \"\",\n        \"description\": \"\"\n      }\n    },\n    {\n      \"column\": \"nonflavanoid_phenols\",\n      \"properties\": {\n        \"dtype\": \"number\",\n        \"std\": 0.12445334029667937,\n        \"min\": 0.13,\n        \"max\": 0.66,\n        \"num_unique_values\": 39,\n        \"samples\": [\n          0.58,\n          0.41,\n          0.39\n        ],\n        \"semantic_type\": \"\",\n        \"description\": \"\"\n      }\n    },\n    {\n      \"column\": \"proanthocyanins\",\n      \"properties\": {\n        \"dtype\": \"number\",\n        \"std\": 0.5723588626747613,\n        \"min\": 0.41,\n        \"max\": 3.58,\n        \"num_unique_values\": 101,\n        \"samples\": [\n          0.75,\n          1.77,\n          1.42\n        ],\n        \"semantic_type\": \"\",\n        \"description\": \"\"\n      }\n    },\n    {\n      \"column\": \"color_intensity\",\n      \"properties\": {\n        \"dtype\": \"number\",\n        \"std\": 2.318285871822413,\n        \"min\": 1.28,\n        \"max\": 13.0,\n        \"num_unique_values\": 132,\n        \"samples\": [\n          2.95,\n          3.3,\n          5.1\n        ],\n        \"semantic_type\": \"\",\n        \"description\": \"\"\n      }\n    },\n    {\n      \"column\": \"hue\",\n      \"properties\": {\n        \"dtype\": \"number\",\n        \"std\": 0.22857156582982338,\n        \"min\": 0.48,\n        \"max\": 1.71,\n        \"num_unique_values\": 78,\n        \"samples\": [\n          1.22,\n          1.04,\n          1.45\n        ],\n        \"semantic_type\": \"\",\n        \"description\": \"\"\n      }\n    },\n    {\n      \"column\": \"od280/od315_of_diluted_wines\",\n      \"properties\": {\n        \"dtype\": \"number\",\n        \"std\": 0.7099904287650504,\n        \"min\": 1.27,\n        \"max\": 4.0,\n        \"num_unique_values\": 122,\n        \"samples\": [\n          4.0,\n          1.82,\n          1.59\n        ],\n        \"semantic_type\": \"\",\n        \"description\": \"\"\n      }\n    },\n    {\n      \"column\": \"proline\",\n      \"properties\": {\n        \"dtype\": \"number\",\n        \"std\": 314.9074742768491,\n        \"min\": 278.0,\n        \"max\": 1680.0,\n        \"num_unique_values\": 121,\n        \"samples\": [\n          1375.0,\n          1270.0,\n          735.0\n        ],\n        \"semantic_type\": \"\",\n        \"description\": \"\"\n      }\n    }\n  ]\n}"
            }
          },
          "metadata": {},
          "execution_count": 2
        }
      ],
      "source": [
        "from sklearn.datasets import load_wine\n",
        "\n",
        "data = load_wine()\n",
        "X = pd.DataFrame(data['data'], columns = data['feature_names'])\n",
        "y = data['target']\n",
        "X.head(8)"
      ]
    },
    {
      "cell_type": "markdown",
      "metadata": {
        "id": "b_U56JgAgFQx"
      },
      "source": [
        "**Задача 1.1 (0.5 балла)** Есть ли в наборе данных пропущенные значения? Если да, то удалите их. Есть ли в наборе данных категориальные переменные? Если да, то закодируйте их при помощи OneHot-кодирования. Используйте [OneHotEncoder](https://scikit-learn.org/stable/modules/generated/sklearn.preprocessing.OneHotEncoder.html)."
      ]
    },
    {
      "cell_type": "code",
      "source": [
        "cat_features_mask = (X.dtypes == \"object\").values\n",
        "cat_features_mask.any()"
      ],
      "metadata": {
        "colab": {
          "base_uri": "https://localhost:8080/"
        },
        "id": "yIzUq49RzlKr",
        "outputId": "c62fdcd8-555c-40da-c156-2766761b6f42"
      },
      "execution_count": 3,
      "outputs": [
        {
          "output_type": "execute_result",
          "data": {
            "text/plain": [
              "False"
            ]
          },
          "metadata": {},
          "execution_count": 3
        }
      ]
    },
    {
      "cell_type": "code",
      "execution_count": 4,
      "metadata": {
        "id": "fiSpOONkgFQx",
        "colab": {
          "base_uri": "https://localhost:8080/"
        },
        "outputId": "df06177a-c5a3-4e10-b487-892e65e5a68f"
      },
      "outputs": [
        {
          "output_type": "execute_result",
          "data": {
            "text/plain": [
              "alcohol                         False\n",
              "malic_acid                      False\n",
              "ash                             False\n",
              "alcalinity_of_ash               False\n",
              "magnesium                       False\n",
              "total_phenols                   False\n",
              "flavanoids                      False\n",
              "nonflavanoid_phenols            False\n",
              "proanthocyanins                 False\n",
              "color_intensity                 False\n",
              "hue                             False\n",
              "od280/od315_of_diluted_wines    False\n",
              "proline                         False\n",
              "dtype: bool"
            ]
          },
          "metadata": {},
          "execution_count": 4
        }
      ],
      "source": [
        "X.isna().any()\n"
      ]
    },
    {
      "cell_type": "code",
      "source": [
        "y.sum()"
      ],
      "metadata": {
        "colab": {
          "base_uri": "https://localhost:8080/"
        },
        "id": "CBRZazN-YvN4",
        "outputId": "88b129cc-41be-4627-d3b0-d928eb0a6784"
      },
      "execution_count": 5,
      "outputs": [
        {
          "output_type": "execute_result",
          "data": {
            "text/plain": [
              "167"
            ]
          },
          "metadata": {},
          "execution_count": 5
        }
      ]
    },
    {
      "cell_type": "markdown",
      "source": [
        "Категориальных признаков в X нет, пропусков тоже. Целевая переменная является категриальной, мы будем решать задачу классификации."
      ],
      "metadata": {
        "id": "-tV8xeWAbeqn"
      }
    },
    {
      "cell_type": "markdown",
      "metadata": {
        "id": "m9ormdqggFQx"
      },
      "source": [
        "**Задача 1.2 (0.5 балла)** Используя функцию `train_test_split()`, разделите выборку на тренировочную и тестовую, и долю тестовой выборки задайте равной 0.3. Так как разбиение осуществляется случайным образом, не забудьте зафиксировать `np.random.seed()` для воспроизводимости результатов.\n",
        "\n",
        "Используйте аргумент `stratify` при разбиении. Почему это важно?"
      ]
    },
    {
      "cell_type": "code",
      "source": [
        "from sklearn.model_selection import train_test_split"
      ],
      "metadata": {
        "id": "_qJr9-h2c8W0"
      },
      "execution_count": 6,
      "outputs": []
    },
    {
      "cell_type": "code",
      "source": [
        "k = np.random.seed(7777)"
      ],
      "metadata": {
        "id": "PsYBHGh4eZxa"
      },
      "execution_count": 7,
      "outputs": []
    },
    {
      "cell_type": "code",
      "execution_count": 8,
      "metadata": {
        "id": "9ejTIGB2gFQx"
      },
      "outputs": [],
      "source": [
        "X_train, X_test, y_train, y_test = train_test_split(X, y, test_size=0.3, stratify=y, random_state=k)"
      ]
    },
    {
      "cell_type": "markdown",
      "source": [
        "Stratify важно использовать, чтобы не было дисбаланса классов. Дисбаланс классов может повлиять на метрики модели и дать некорректные резульаты (90% точности константной модели, если доля класса 90%)"
      ],
      "metadata": {
        "id": "_Ma02nRze4Jg"
      }
    },
    {
      "cell_type": "markdown",
      "metadata": {
        "id": "_wMtxXo1gFQx"
      },
      "source": [
        "**Задача 1.3 (1 балл)** На тренировочной выборке обучите шесть классификаторов kNN, отличающихся только числом соседей. Для первого классификатора число соседей поставьте равным 1, для второго - 3, для третьего – 5, для четвертого – 10, для пятого – 15 и для шестого – 25 (обратите внимание на параметр `n_neighbours` класса `KNeighborsClassifier`). Для обучения используйте только два признака: `alcohol` и `magnesium` – и евклидово расстояние. Не забудьте масштабировать признаки, например, при помощи модуля `StandardScaler`.\n",
        "\n",
        "Выведите долю правильных ответов на тренировочной и тестовой выборках для каждого классификатора."
      ]
    },
    {
      "cell_type": "code",
      "source": [
        "from sklearn.neighbors import KNeighborsClassifier\n",
        "from sklearn.preprocessing import StandardScaler\n",
        "from sklearn.metrics import accuracy_score"
      ],
      "metadata": {
        "id": "6LHvC2Bt3ZwD"
      },
      "execution_count": 9,
      "outputs": []
    },
    {
      "cell_type": "code",
      "source": [
        "scaler = StandardScaler()\n",
        "X_train_scaled = scaler.fit_transform(X_train[['alcohol', 'magnesium']])\n",
        "X_test_scaled = scaler.transform(X_test[['alcohol', 'magnesium']])"
      ],
      "metadata": {
        "id": "r398W30dhc2Y"
      },
      "execution_count": 10,
      "outputs": []
    },
    {
      "cell_type": "code",
      "source": [
        "model1 = KNeighborsClassifier(n_neighbors=1, metric='minkowski', p=2)\n",
        "model2 = KNeighborsClassifier(n_neighbors=3, metric='minkowski', p=2)\n",
        "model3 = KNeighborsClassifier(n_neighbors=5, metric='minkowski', p=2)\n",
        "model4 = KNeighborsClassifier(n_neighbors=10, metric='minkowski', p=2)\n",
        "model5 = KNeighborsClassifier(n_neighbors=15, metric='minkowski', p=2)\n",
        "model6 = KNeighborsClassifier(n_neighbors=25, metric='minkowski', p=2)"
      ],
      "metadata": {
        "id": "SCM0OaHMh9By"
      },
      "execution_count": 11,
      "outputs": []
    },
    {
      "cell_type": "code",
      "source": [
        "model1.fit(X_train_scaled, y_train)\n",
        "model2.fit(X_train_scaled, y_train)\n",
        "model3.fit(X_train_scaled, y_train)\n",
        "model4.fit(X_train_scaled, y_train)\n",
        "model5.fit(X_train_scaled, y_train)\n",
        "model6.fit(X_train_scaled, y_train)"
      ],
      "metadata": {
        "colab": {
          "base_uri": "https://localhost:8080/",
          "height": 75
        },
        "id": "xWsrADPvkxl5",
        "outputId": "3bd1cf26-b8e2-42cf-8496-74c4d1b40018"
      },
      "execution_count": 12,
      "outputs": [
        {
          "output_type": "execute_result",
          "data": {
            "text/plain": [
              "KNeighborsClassifier(n_neighbors=25)"
            ],
            "text/html": [
              "<style>#sk-container-id-1 {color: black;background-color: white;}#sk-container-id-1 pre{padding: 0;}#sk-container-id-1 div.sk-toggleable {background-color: white;}#sk-container-id-1 label.sk-toggleable__label {cursor: pointer;display: block;width: 100%;margin-bottom: 0;padding: 0.3em;box-sizing: border-box;text-align: center;}#sk-container-id-1 label.sk-toggleable__label-arrow:before {content: \"▸\";float: left;margin-right: 0.25em;color: #696969;}#sk-container-id-1 label.sk-toggleable__label-arrow:hover:before {color: black;}#sk-container-id-1 div.sk-estimator:hover label.sk-toggleable__label-arrow:before {color: black;}#sk-container-id-1 div.sk-toggleable__content {max-height: 0;max-width: 0;overflow: hidden;text-align: left;background-color: #f0f8ff;}#sk-container-id-1 div.sk-toggleable__content pre {margin: 0.2em;color: black;border-radius: 0.25em;background-color: #f0f8ff;}#sk-container-id-1 input.sk-toggleable__control:checked~div.sk-toggleable__content {max-height: 200px;max-width: 100%;overflow: auto;}#sk-container-id-1 input.sk-toggleable__control:checked~label.sk-toggleable__label-arrow:before {content: \"▾\";}#sk-container-id-1 div.sk-estimator input.sk-toggleable__control:checked~label.sk-toggleable__label {background-color: #d4ebff;}#sk-container-id-1 div.sk-label input.sk-toggleable__control:checked~label.sk-toggleable__label {background-color: #d4ebff;}#sk-container-id-1 input.sk-hidden--visually {border: 0;clip: rect(1px 1px 1px 1px);clip: rect(1px, 1px, 1px, 1px);height: 1px;margin: -1px;overflow: hidden;padding: 0;position: absolute;width: 1px;}#sk-container-id-1 div.sk-estimator {font-family: monospace;background-color: #f0f8ff;border: 1px dotted black;border-radius: 0.25em;box-sizing: border-box;margin-bottom: 0.5em;}#sk-container-id-1 div.sk-estimator:hover {background-color: #d4ebff;}#sk-container-id-1 div.sk-parallel-item::after {content: \"\";width: 100%;border-bottom: 1px solid gray;flex-grow: 1;}#sk-container-id-1 div.sk-label:hover label.sk-toggleable__label {background-color: #d4ebff;}#sk-container-id-1 div.sk-serial::before {content: \"\";position: absolute;border-left: 1px solid gray;box-sizing: border-box;top: 0;bottom: 0;left: 50%;z-index: 0;}#sk-container-id-1 div.sk-serial {display: flex;flex-direction: column;align-items: center;background-color: white;padding-right: 0.2em;padding-left: 0.2em;position: relative;}#sk-container-id-1 div.sk-item {position: relative;z-index: 1;}#sk-container-id-1 div.sk-parallel {display: flex;align-items: stretch;justify-content: center;background-color: white;position: relative;}#sk-container-id-1 div.sk-item::before, #sk-container-id-1 div.sk-parallel-item::before {content: \"\";position: absolute;border-left: 1px solid gray;box-sizing: border-box;top: 0;bottom: 0;left: 50%;z-index: -1;}#sk-container-id-1 div.sk-parallel-item {display: flex;flex-direction: column;z-index: 1;position: relative;background-color: white;}#sk-container-id-1 div.sk-parallel-item:first-child::after {align-self: flex-end;width: 50%;}#sk-container-id-1 div.sk-parallel-item:last-child::after {align-self: flex-start;width: 50%;}#sk-container-id-1 div.sk-parallel-item:only-child::after {width: 0;}#sk-container-id-1 div.sk-dashed-wrapped {border: 1px dashed gray;margin: 0 0.4em 0.5em 0.4em;box-sizing: border-box;padding-bottom: 0.4em;background-color: white;}#sk-container-id-1 div.sk-label label {font-family: monospace;font-weight: bold;display: inline-block;line-height: 1.2em;}#sk-container-id-1 div.sk-label-container {text-align: center;}#sk-container-id-1 div.sk-container {/* jupyter's `normalize.less` sets `[hidden] { display: none; }` but bootstrap.min.css set `[hidden] { display: none !important; }` so we also need the `!important` here to be able to override the default hidden behavior on the sphinx rendered scikit-learn.org. See: https://github.com/scikit-learn/scikit-learn/issues/21755 */display: inline-block !important;position: relative;}#sk-container-id-1 div.sk-text-repr-fallback {display: none;}</style><div id=\"sk-container-id-1\" class=\"sk-top-container\"><div class=\"sk-text-repr-fallback\"><pre>KNeighborsClassifier(n_neighbors=25)</pre><b>In a Jupyter environment, please rerun this cell to show the HTML representation or trust the notebook. <br />On GitHub, the HTML representation is unable to render, please try loading this page with nbviewer.org.</b></div><div class=\"sk-container\" hidden><div class=\"sk-item\"><div class=\"sk-estimator sk-toggleable\"><input class=\"sk-toggleable__control sk-hidden--visually\" id=\"sk-estimator-id-1\" type=\"checkbox\" checked><label for=\"sk-estimator-id-1\" class=\"sk-toggleable__label sk-toggleable__label-arrow\">KNeighborsClassifier</label><div class=\"sk-toggleable__content\"><pre>KNeighborsClassifier(n_neighbors=25)</pre></div></div></div></div></div>"
            ]
          },
          "metadata": {},
          "execution_count": 12
        }
      ]
    },
    {
      "cell_type": "code",
      "source": [
        "predict1 = model1.predict(X_test_scaled)\n",
        "predict2 = model2.predict(X_test_scaled)\n",
        "predict3 = model3.predict(X_test_scaled)\n",
        "predict4 = model4.predict(X_test_scaled)\n",
        "predict5 = model5.predict(X_test_scaled)\n",
        "predict6 = model6.predict(X_test_scaled)"
      ],
      "metadata": {
        "id": "eXi_u-QOlVP7"
      },
      "execution_count": 13,
      "outputs": []
    },
    {
      "cell_type": "code",
      "source": [
        "train_predict1 = model1.predict(X_train_scaled)\n",
        "train_predict2 = model2.predict(X_train_scaled)\n",
        "train_predict3 = model3.predict(X_train_scaled)\n",
        "train_predict4 = model4.predict(X_train_scaled)\n",
        "train_predict5 = model5.predict(X_train_scaled)\n",
        "train_predict6 = model6.predict(X_train_scaled)"
      ],
      "metadata": {
        "id": "B7fvm8ownVv_"
      },
      "execution_count": 14,
      "outputs": []
    },
    {
      "cell_type": "code",
      "source": [
        "print(\"Train accuracy\")\n",
        "print(accuracy_score(y_train, train_predict1))\n",
        "print(accuracy_score(y_train, train_predict2))\n",
        "print(accuracy_score(y_train, train_predict3))\n",
        "print(accuracy_score(y_train, train_predict4))\n",
        "print(accuracy_score(y_train, train_predict5))\n",
        "print(accuracy_score(y_train, train_predict6))"
      ],
      "metadata": {
        "colab": {
          "base_uri": "https://localhost:8080/"
        },
        "id": "04aRAmLPnnir",
        "outputId": "54176bf4-52a9-4da1-fb19-ba0c29cc9c88"
      },
      "execution_count": 15,
      "outputs": [
        {
          "output_type": "stream",
          "name": "stdout",
          "text": [
            "Train accuracy\n",
            "1.0\n",
            "0.7903225806451613\n",
            "0.782258064516129\n",
            "0.7661290322580645\n",
            "0.7741935483870968\n",
            "0.7258064516129032\n"
          ]
        }
      ]
    },
    {
      "cell_type": "code",
      "source": [
        "print(\"Test accuracy\")\n",
        "print(accuracy_score(y_test, predict1))\n",
        "print(accuracy_score(y_test, predict2))\n",
        "print(accuracy_score(y_test, predict3))\n",
        "print(accuracy_score(y_test, predict4))\n",
        "print(accuracy_score(y_test, predict5))\n",
        "print(accuracy_score(y_test, predict6))"
      ],
      "metadata": {
        "colab": {
          "base_uri": "https://localhost:8080/"
        },
        "id": "WU4bV9t6mhwG",
        "outputId": "e0230d4c-9462-461f-89be-eb82d46e5ed4"
      },
      "execution_count": 16,
      "outputs": [
        {
          "output_type": "stream",
          "name": "stdout",
          "text": [
            "Test accuracy\n",
            "0.6481481481481481\n",
            "0.7222222222222222\n",
            "0.7407407407407407\n",
            "0.6666666666666666\n",
            "0.6481481481481481\n",
            "0.6851851851851852\n"
          ]
        }
      ]
    },
    {
      "cell_type": "markdown",
      "metadata": {
        "id": "kV1qB23NgFQy"
      },
      "source": [
        "**Задача 1.4 (0 баллов)** Установите библиотеку `mlxtend` командой ниже. Библиотеку также можно установить из терминала при помощи `pip` или `conda`, как указано [здесь](http://rasbt.github.io/mlxtend/installation/)."
      ]
    },
    {
      "cell_type": "code",
      "execution_count": null,
      "metadata": {
        "id": "oh8XCW-lgFQy",
        "colab": {
          "base_uri": "https://localhost:8080/"
        },
        "outputId": "892821d9-52f2-4811-a0e1-31b0b70399c2"
      },
      "outputs": [
        {
          "output_type": "stream",
          "name": "stdout",
          "text": [
            "Requirement already satisfied: mlxtend in /usr/local/lib/python3.10/dist-packages (0.22.0)\n",
            "Requirement already satisfied: scipy>=1.2.1 in /usr/local/lib/python3.10/dist-packages (from mlxtend) (1.11.4)\n",
            "Requirement already satisfied: numpy>=1.16.2 in /usr/local/lib/python3.10/dist-packages (from mlxtend) (1.25.2)\n",
            "Requirement already satisfied: pandas>=0.24.2 in /usr/local/lib/python3.10/dist-packages (from mlxtend) (1.5.3)\n",
            "Requirement already satisfied: scikit-learn>=1.0.2 in /usr/local/lib/python3.10/dist-packages (from mlxtend) (1.2.2)\n",
            "Requirement already satisfied: matplotlib>=3.0.0 in /usr/local/lib/python3.10/dist-packages (from mlxtend) (3.7.1)\n",
            "Requirement already satisfied: joblib>=0.13.2 in /usr/local/lib/python3.10/dist-packages (from mlxtend) (1.3.2)\n",
            "Requirement already satisfied: setuptools in /usr/local/lib/python3.10/dist-packages (from mlxtend) (67.7.2)\n",
            "Requirement already satisfied: contourpy>=1.0.1 in /usr/local/lib/python3.10/dist-packages (from matplotlib>=3.0.0->mlxtend) (1.2.0)\n",
            "Requirement already satisfied: cycler>=0.10 in /usr/local/lib/python3.10/dist-packages (from matplotlib>=3.0.0->mlxtend) (0.12.1)\n",
            "Requirement already satisfied: fonttools>=4.22.0 in /usr/local/lib/python3.10/dist-packages (from matplotlib>=3.0.0->mlxtend) (4.49.0)\n",
            "Requirement already satisfied: kiwisolver>=1.0.1 in /usr/local/lib/python3.10/dist-packages (from matplotlib>=3.0.0->mlxtend) (1.4.5)\n",
            "Requirement already satisfied: packaging>=20.0 in /usr/local/lib/python3.10/dist-packages (from matplotlib>=3.0.0->mlxtend) (23.2)\n",
            "Requirement already satisfied: pillow>=6.2.0 in /usr/local/lib/python3.10/dist-packages (from matplotlib>=3.0.0->mlxtend) (9.4.0)\n",
            "Requirement already satisfied: pyparsing>=2.3.1 in /usr/local/lib/python3.10/dist-packages (from matplotlib>=3.0.0->mlxtend) (3.1.1)\n",
            "Requirement already satisfied: python-dateutil>=2.7 in /usr/local/lib/python3.10/dist-packages (from matplotlib>=3.0.0->mlxtend) (2.8.2)\n",
            "Requirement already satisfied: pytz>=2020.1 in /usr/local/lib/python3.10/dist-packages (from pandas>=0.24.2->mlxtend) (2023.4)\n",
            "Requirement already satisfied: threadpoolctl>=2.0.0 in /usr/local/lib/python3.10/dist-packages (from scikit-learn>=1.0.2->mlxtend) (3.3.0)\n",
            "Requirement already satisfied: six>=1.5 in /usr/local/lib/python3.10/dist-packages (from python-dateutil>=2.7->matplotlib>=3.0.0->mlxtend) (1.16.0)\n"
          ]
        }
      ],
      "source": [
        "#!pip install mlxtend"
      ]
    },
    {
      "cell_type": "markdown",
      "metadata": {
        "id": "GPp6UcyZgFQy"
      },
      "source": [
        "Если всё прошло успешно, то в выводе команды выше вы увидите сообщение вроде \"successfully installed\", а следующая ячейка выполнится без ошибок."
      ]
    },
    {
      "cell_type": "code",
      "execution_count": 17,
      "metadata": {
        "id": "PX5FraBQgFQy"
      },
      "outputs": [],
      "source": [
        "import mlxtend"
      ]
    },
    {
      "cell_type": "markdown",
      "metadata": {
        "id": "UbKw2dSVgFQy"
      },
      "source": [
        "**Задача 1.5 (1 балл)** Библиотека `mlxtend` позволяет достаточно просто визуализировать решающие поверхности обученных классификаторов. Изучите [документацию](http://rasbt.github.io/mlxtend/user_guide/plotting/plot_decision_regions/) библиотеки и найдите, как можно построить несколько графиков решающих поверхностей на сетке (decision regions grid). Постройте такую сетку графиков для обученных выше классификаторов.\n",
        "\n",
        "**Подсказки:**\n",
        "1. Вы можете использовать готовый код, приведённый в документации, и адаптировать его для нашего случая.\n",
        "2. Вам могут понадобиться дополнительные библиотеки, которые используются в примере из документации.\n",
        "3. Обратите внимание на то, как нужно изменить параметры `gridspec.GridSpec()` и `itertools.product()` для нашего числа классификаторов.\n",
        "4. В функции `plot_decision_region()` используйте `y_train` и нужные столбцы из `X_train`. Возможно, их придётся перевести в формат массива `numpy`.\n",
        "5. Если в задаче 1.3 вы сохраните обученные классификаторы в список, то не будет необходимости обучать их заново.\n",
        "6. Построение графика может занять некоторое время – придётся немного подождать!"
      ]
    },
    {
      "cell_type": "code",
      "source": [
        "import matplotlib.pyplot as plt\n",
        "import matplotlib.gridspec as gridspec\n",
        "import itertools\n",
        "from mlxtend.plotting import plot_decision_regions\n",
        "import numpy as np"
      ],
      "metadata": {
        "id": "oHRnC8u87xQV"
      },
      "execution_count": 18,
      "outputs": []
    },
    {
      "cell_type": "code",
      "source": [
        "gs = gridspec.GridSpec(2, 3)\n",
        "\n",
        "fig = plt.figure(figsize=(16, 8))\n",
        "\n",
        "labels = ['n_1', 'n_2', 'n_3', 'n_4', 'n_5', 'n_6']\n",
        "for clf, lab, grd in zip([model1, model2, model3, model4, model5, model6],\n",
        "                         labels,\n",
        "                         itertools.product([0, 1], [0, 1, 2])):\n",
        "\n",
        "    #clf.fit(X, y)\n",
        "    ax = plt.subplot(gs[grd[0], grd[1]])\n",
        "    fig = plot_decision_regions(X=X_train_scaled, y=y_train, clf=clf, legend=2)\n",
        "    plt.title(lab)\n",
        "\n",
        "plt.show()"
      ],
      "metadata": {
        "colab": {
          "base_uri": "https://localhost:8080/",
          "height": 704
        },
        "id": "AwY3CKUZ7oah",
        "outputId": "ee292600-fb63-4c53-ab6c-2cb5fb33373a"
      },
      "execution_count": 19,
      "outputs": [
        {
          "output_type": "error",
          "ename": "KeyboardInterrupt",
          "evalue": "",
          "traceback": [
            "\u001b[0;31m---------------------------------------------------------------------------\u001b[0m",
            "\u001b[0;31mKeyboardInterrupt\u001b[0m                         Traceback (most recent call last)",
            "\u001b[0;32m<ipython-input-19-621b5d676df7>\u001b[0m in \u001b[0;36m<cell line: 6>\u001b[0;34m()\u001b[0m\n\u001b[1;32m     10\u001b[0m     \u001b[0;31m#clf.fit(X, y)\u001b[0m\u001b[0;34m\u001b[0m\u001b[0;34m\u001b[0m\u001b[0m\n\u001b[1;32m     11\u001b[0m     \u001b[0max\u001b[0m \u001b[0;34m=\u001b[0m \u001b[0mplt\u001b[0m\u001b[0;34m.\u001b[0m\u001b[0msubplot\u001b[0m\u001b[0;34m(\u001b[0m\u001b[0mgs\u001b[0m\u001b[0;34m[\u001b[0m\u001b[0mgrd\u001b[0m\u001b[0;34m[\u001b[0m\u001b[0;36m0\u001b[0m\u001b[0;34m]\u001b[0m\u001b[0;34m,\u001b[0m \u001b[0mgrd\u001b[0m\u001b[0;34m[\u001b[0m\u001b[0;36m1\u001b[0m\u001b[0;34m]\u001b[0m\u001b[0;34m]\u001b[0m\u001b[0;34m)\u001b[0m\u001b[0;34m\u001b[0m\u001b[0;34m\u001b[0m\u001b[0m\n\u001b[0;32m---> 12\u001b[0;31m     \u001b[0mfig\u001b[0m \u001b[0;34m=\u001b[0m \u001b[0mplot_decision_regions\u001b[0m\u001b[0;34m(\u001b[0m\u001b[0mX\u001b[0m\u001b[0;34m=\u001b[0m\u001b[0mX_train_scaled\u001b[0m\u001b[0;34m,\u001b[0m \u001b[0my\u001b[0m\u001b[0;34m=\u001b[0m\u001b[0my_train\u001b[0m\u001b[0;34m,\u001b[0m \u001b[0mclf\u001b[0m\u001b[0;34m=\u001b[0m\u001b[0mclf\u001b[0m\u001b[0;34m,\u001b[0m \u001b[0mlegend\u001b[0m\u001b[0;34m=\u001b[0m\u001b[0;36m2\u001b[0m\u001b[0;34m)\u001b[0m\u001b[0;34m\u001b[0m\u001b[0;34m\u001b[0m\u001b[0m\n\u001b[0m\u001b[1;32m     13\u001b[0m     \u001b[0mplt\u001b[0m\u001b[0;34m.\u001b[0m\u001b[0mtitle\u001b[0m\u001b[0;34m(\u001b[0m\u001b[0mlab\u001b[0m\u001b[0;34m)\u001b[0m\u001b[0;34m\u001b[0m\u001b[0;34m\u001b[0m\u001b[0m\n\u001b[1;32m     14\u001b[0m \u001b[0;34m\u001b[0m\u001b[0m\n",
            "\u001b[0;32m/usr/local/lib/python3.10/dist-packages/mlxtend/plotting/decision_regions.py\u001b[0m in \u001b[0;36mplot_decision_regions\u001b[0;34m(X, y, clf, feature_index, filler_feature_values, filler_feature_ranges, ax, X_highlight, zoom_factor, legend, hide_spines, markers, colors, scatter_kwargs, contourf_kwargs, contour_kwargs, scatter_highlight_kwargs, n_jobs)\u001b[0m\n\u001b[1;32m    273\u001b[0m \u001b[0;34m\u001b[0m\u001b[0m\n\u001b[1;32m    274\u001b[0m     \u001b[0;32mif\u001b[0m \u001b[0mn_jobs\u001b[0m \u001b[0;34m==\u001b[0m \u001b[0;36m1\u001b[0m\u001b[0;34m:\u001b[0m\u001b[0;34m\u001b[0m\u001b[0;34m\u001b[0m\u001b[0m\n\u001b[0;32m--> 275\u001b[0;31m         \u001b[0mZ\u001b[0m \u001b[0;34m=\u001b[0m \u001b[0mclf\u001b[0m\u001b[0;34m.\u001b[0m\u001b[0mpredict\u001b[0m\u001b[0;34m(\u001b[0m\u001b[0mX_predict\u001b[0m\u001b[0;34m.\u001b[0m\u001b[0mastype\u001b[0m\u001b[0;34m(\u001b[0m\u001b[0mX\u001b[0m\u001b[0;34m.\u001b[0m\u001b[0mdtype\u001b[0m\u001b[0;34m)\u001b[0m\u001b[0;34m)\u001b[0m\u001b[0;34m\u001b[0m\u001b[0;34m\u001b[0m\u001b[0m\n\u001b[0m\u001b[1;32m    276\u001b[0m         \u001b[0mZ\u001b[0m \u001b[0;34m=\u001b[0m \u001b[0mZ\u001b[0m\u001b[0;34m.\u001b[0m\u001b[0mreshape\u001b[0m\u001b[0;34m(\u001b[0m\u001b[0mxx\u001b[0m\u001b[0;34m.\u001b[0m\u001b[0mshape\u001b[0m\u001b[0;34m)\u001b[0m\u001b[0;34m\u001b[0m\u001b[0;34m\u001b[0m\u001b[0m\n\u001b[1;32m    277\u001b[0m     \u001b[0;32melse\u001b[0m\u001b[0;34m:\u001b[0m\u001b[0;34m\u001b[0m\u001b[0;34m\u001b[0m\u001b[0m\n",
            "\u001b[0;32m/usr/local/lib/python3.10/dist-packages/sklearn/neighbors/_classification.py\u001b[0m in \u001b[0;36mpredict\u001b[0;34m(self, X)\u001b[0m\n\u001b[1;32m    250\u001b[0m         \u001b[0;32mfor\u001b[0m \u001b[0mk\u001b[0m\u001b[0;34m,\u001b[0m \u001b[0mclasses_k\u001b[0m \u001b[0;32min\u001b[0m \u001b[0menumerate\u001b[0m\u001b[0;34m(\u001b[0m\u001b[0mclasses_\u001b[0m\u001b[0;34m)\u001b[0m\u001b[0;34m:\u001b[0m\u001b[0;34m\u001b[0m\u001b[0;34m\u001b[0m\u001b[0m\n\u001b[1;32m    251\u001b[0m             \u001b[0;32mif\u001b[0m \u001b[0mweights\u001b[0m \u001b[0;32mis\u001b[0m \u001b[0;32mNone\u001b[0m\u001b[0;34m:\u001b[0m\u001b[0;34m\u001b[0m\u001b[0;34m\u001b[0m\u001b[0m\n\u001b[0;32m--> 252\u001b[0;31m                 \u001b[0mmode\u001b[0m\u001b[0;34m,\u001b[0m \u001b[0m_\u001b[0m \u001b[0;34m=\u001b[0m \u001b[0m_mode\u001b[0m\u001b[0;34m(\u001b[0m\u001b[0m_y\u001b[0m\u001b[0;34m[\u001b[0m\u001b[0mneigh_ind\u001b[0m\u001b[0;34m,\u001b[0m \u001b[0mk\u001b[0m\u001b[0;34m]\u001b[0m\u001b[0;34m,\u001b[0m \u001b[0maxis\u001b[0m\u001b[0;34m=\u001b[0m\u001b[0;36m1\u001b[0m\u001b[0;34m)\u001b[0m\u001b[0;34m\u001b[0m\u001b[0;34m\u001b[0m\u001b[0m\n\u001b[0m\u001b[1;32m    253\u001b[0m             \u001b[0;32melse\u001b[0m\u001b[0;34m:\u001b[0m\u001b[0;34m\u001b[0m\u001b[0;34m\u001b[0m\u001b[0m\n\u001b[1;32m    254\u001b[0m                 \u001b[0mmode\u001b[0m\u001b[0;34m,\u001b[0m \u001b[0m_\u001b[0m \u001b[0;34m=\u001b[0m \u001b[0mweighted_mode\u001b[0m\u001b[0;34m(\u001b[0m\u001b[0m_y\u001b[0m\u001b[0;34m[\u001b[0m\u001b[0mneigh_ind\u001b[0m\u001b[0;34m,\u001b[0m \u001b[0mk\u001b[0m\u001b[0;34m]\u001b[0m\u001b[0;34m,\u001b[0m \u001b[0mweights\u001b[0m\u001b[0;34m,\u001b[0m \u001b[0maxis\u001b[0m\u001b[0;34m=\u001b[0m\u001b[0;36m1\u001b[0m\u001b[0;34m)\u001b[0m\u001b[0;34m\u001b[0m\u001b[0;34m\u001b[0m\u001b[0m\n",
            "\u001b[0;32m/usr/local/lib/python3.10/dist-packages/sklearn/utils/fixes.py\u001b[0m in \u001b[0;36m_mode\u001b[0;34m(a, axis)\u001b[0m\n\u001b[1;32m    167\u001b[0m \u001b[0;32mdef\u001b[0m \u001b[0m_mode\u001b[0m\u001b[0;34m(\u001b[0m\u001b[0ma\u001b[0m\u001b[0;34m,\u001b[0m \u001b[0maxis\u001b[0m\u001b[0;34m=\u001b[0m\u001b[0;36m0\u001b[0m\u001b[0;34m)\u001b[0m\u001b[0;34m:\u001b[0m\u001b[0;34m\u001b[0m\u001b[0;34m\u001b[0m\u001b[0m\n\u001b[1;32m    168\u001b[0m     \u001b[0;32mif\u001b[0m \u001b[0msp_version\u001b[0m \u001b[0;34m>=\u001b[0m \u001b[0mparse_version\u001b[0m\u001b[0;34m(\u001b[0m\u001b[0;34m\"1.9.0\"\u001b[0m\u001b[0;34m)\u001b[0m\u001b[0;34m:\u001b[0m\u001b[0;34m\u001b[0m\u001b[0;34m\u001b[0m\u001b[0m\n\u001b[0;32m--> 169\u001b[0;31m         \u001b[0mmode\u001b[0m \u001b[0;34m=\u001b[0m \u001b[0mscipy\u001b[0m\u001b[0;34m.\u001b[0m\u001b[0mstats\u001b[0m\u001b[0;34m.\u001b[0m\u001b[0mmode\u001b[0m\u001b[0;34m(\u001b[0m\u001b[0ma\u001b[0m\u001b[0;34m,\u001b[0m \u001b[0maxis\u001b[0m\u001b[0;34m=\u001b[0m\u001b[0maxis\u001b[0m\u001b[0;34m,\u001b[0m \u001b[0mkeepdims\u001b[0m\u001b[0;34m=\u001b[0m\u001b[0;32mTrue\u001b[0m\u001b[0;34m)\u001b[0m\u001b[0;34m\u001b[0m\u001b[0;34m\u001b[0m\u001b[0m\n\u001b[0m\u001b[1;32m    170\u001b[0m         \u001b[0;32mif\u001b[0m \u001b[0msp_version\u001b[0m \u001b[0;34m>=\u001b[0m \u001b[0mparse_version\u001b[0m\u001b[0;34m(\u001b[0m\u001b[0;34m\"1.10.999\"\u001b[0m\u001b[0;34m)\u001b[0m\u001b[0;34m:\u001b[0m\u001b[0;34m\u001b[0m\u001b[0;34m\u001b[0m\u001b[0m\n\u001b[1;32m    171\u001b[0m             \u001b[0;31m# scipy.stats.mode has changed returned array shape with axis=None\u001b[0m\u001b[0;34m\u001b[0m\u001b[0;34m\u001b[0m\u001b[0m\n",
            "\u001b[0;32m/usr/local/lib/python3.10/dist-packages/scipy/stats/_axis_nan_policy.py\u001b[0m in \u001b[0;36maxis_nan_policy_wrapper\u001b[0;34m(***failed resolving arguments***)\u001b[0m\n\u001b[1;32m    589\u001b[0m \u001b[0;34m\u001b[0m\u001b[0m\n\u001b[1;32m    590\u001b[0m             \u001b[0mx\u001b[0m \u001b[0;34m=\u001b[0m \u001b[0mnp\u001b[0m\u001b[0;34m.\u001b[0m\u001b[0mmoveaxis\u001b[0m\u001b[0;34m(\u001b[0m\u001b[0mx\u001b[0m\u001b[0;34m,\u001b[0m \u001b[0maxis\u001b[0m\u001b[0;34m,\u001b[0m \u001b[0;36m0\u001b[0m\u001b[0;34m)\u001b[0m\u001b[0;34m\u001b[0m\u001b[0;34m\u001b[0m\u001b[0m\n\u001b[0;32m--> 591\u001b[0;31m             \u001b[0mres\u001b[0m \u001b[0;34m=\u001b[0m \u001b[0mnp\u001b[0m\u001b[0;34m.\u001b[0m\u001b[0mapply_along_axis\u001b[0m\u001b[0;34m(\u001b[0m\u001b[0mhypotest_fun\u001b[0m\u001b[0;34m,\u001b[0m \u001b[0maxis\u001b[0m\u001b[0;34m=\u001b[0m\u001b[0;36m0\u001b[0m\u001b[0;34m,\u001b[0m \u001b[0marr\u001b[0m\u001b[0;34m=\u001b[0m\u001b[0mx\u001b[0m\u001b[0;34m)\u001b[0m\u001b[0;34m\u001b[0m\u001b[0;34m\u001b[0m\u001b[0m\n\u001b[0m\u001b[1;32m    592\u001b[0m             \u001b[0mres\u001b[0m \u001b[0;34m=\u001b[0m \u001b[0m_add_reduced_axes\u001b[0m\u001b[0;34m(\u001b[0m\u001b[0mres\u001b[0m\u001b[0;34m,\u001b[0m \u001b[0mreduced_axes\u001b[0m\u001b[0;34m,\u001b[0m \u001b[0mkeepdims\u001b[0m\u001b[0;34m)\u001b[0m\u001b[0;34m\u001b[0m\u001b[0;34m\u001b[0m\u001b[0m\n\u001b[1;32m    593\u001b[0m             \u001b[0;32mreturn\u001b[0m \u001b[0mtuple_to_result\u001b[0m\u001b[0;34m(\u001b[0m\u001b[0;34m*\u001b[0m\u001b[0mres\u001b[0m\u001b[0;34m)\u001b[0m\u001b[0;34m\u001b[0m\u001b[0;34m\u001b[0m\u001b[0m\n",
            "\u001b[0;32m/usr/local/lib/python3.10/dist-packages/numpy/lib/shape_base.py\u001b[0m in \u001b[0;36mapply_along_axis\u001b[0;34m(func1d, axis, arr, *args, **kwargs)\u001b[0m\n\u001b[1;32m    400\u001b[0m     \u001b[0mbuff\u001b[0m\u001b[0;34m[\u001b[0m\u001b[0mind0\u001b[0m\u001b[0;34m]\u001b[0m \u001b[0;34m=\u001b[0m \u001b[0mres\u001b[0m\u001b[0;34m\u001b[0m\u001b[0;34m\u001b[0m\u001b[0m\n\u001b[1;32m    401\u001b[0m     \u001b[0;32mfor\u001b[0m \u001b[0mind\u001b[0m \u001b[0;32min\u001b[0m \u001b[0minds\u001b[0m\u001b[0;34m:\u001b[0m\u001b[0;34m\u001b[0m\u001b[0;34m\u001b[0m\u001b[0m\n\u001b[0;32m--> 402\u001b[0;31m         \u001b[0mbuff\u001b[0m\u001b[0;34m[\u001b[0m\u001b[0mind\u001b[0m\u001b[0;34m]\u001b[0m \u001b[0;34m=\u001b[0m \u001b[0masanyarray\u001b[0m\u001b[0;34m(\u001b[0m\u001b[0mfunc1d\u001b[0m\u001b[0;34m(\u001b[0m\u001b[0minarr_view\u001b[0m\u001b[0;34m[\u001b[0m\u001b[0mind\u001b[0m\u001b[0;34m]\u001b[0m\u001b[0;34m,\u001b[0m \u001b[0;34m*\u001b[0m\u001b[0margs\u001b[0m\u001b[0;34m,\u001b[0m \u001b[0;34m**\u001b[0m\u001b[0mkwargs\u001b[0m\u001b[0;34m)\u001b[0m\u001b[0;34m)\u001b[0m\u001b[0;34m\u001b[0m\u001b[0;34m\u001b[0m\u001b[0m\n\u001b[0m\u001b[1;32m    403\u001b[0m \u001b[0;34m\u001b[0m\u001b[0m\n\u001b[1;32m    404\u001b[0m     \u001b[0;32mif\u001b[0m \u001b[0;32mnot\u001b[0m \u001b[0misinstance\u001b[0m\u001b[0;34m(\u001b[0m\u001b[0mres\u001b[0m\u001b[0;34m,\u001b[0m \u001b[0mmatrix\u001b[0m\u001b[0;34m)\u001b[0m\u001b[0;34m:\u001b[0m\u001b[0;34m\u001b[0m\u001b[0;34m\u001b[0m\u001b[0m\n",
            "\u001b[0;32m/usr/local/lib/python3.10/dist-packages/scipy/stats/_axis_nan_policy.py\u001b[0m in \u001b[0;36mhypotest_fun\u001b[0;34m(x)\u001b[0m\n\u001b[1;32m    586\u001b[0m                     \u001b[0;32mif\u001b[0m \u001b[0mis_too_small\u001b[0m\u001b[0;34m(\u001b[0m\u001b[0msamples\u001b[0m\u001b[0;34m)\u001b[0m\u001b[0;34m:\u001b[0m\u001b[0;34m\u001b[0m\u001b[0;34m\u001b[0m\u001b[0m\n\u001b[1;32m    587\u001b[0m                         \u001b[0;32mreturn\u001b[0m \u001b[0mnp\u001b[0m\u001b[0;34m.\u001b[0m\u001b[0mfull\u001b[0m\u001b[0;34m(\u001b[0m\u001b[0mn_out\u001b[0m\u001b[0;34m,\u001b[0m \u001b[0mnp\u001b[0m\u001b[0;34m.\u001b[0m\u001b[0mnan\u001b[0m\u001b[0;34m)\u001b[0m\u001b[0;34m\u001b[0m\u001b[0;34m\u001b[0m\u001b[0m\n\u001b[0;32m--> 588\u001b[0;31m                     \u001b[0;32mreturn\u001b[0m \u001b[0mresult_to_tuple\u001b[0m\u001b[0;34m(\u001b[0m\u001b[0mhypotest_fun_out\u001b[0m\u001b[0;34m(\u001b[0m\u001b[0;34m*\u001b[0m\u001b[0msamples\u001b[0m\u001b[0;34m,\u001b[0m \u001b[0;34m**\u001b[0m\u001b[0mkwds\u001b[0m\u001b[0;34m)\u001b[0m\u001b[0;34m)\u001b[0m\u001b[0;34m\u001b[0m\u001b[0;34m\u001b[0m\u001b[0m\n\u001b[0m\u001b[1;32m    589\u001b[0m \u001b[0;34m\u001b[0m\u001b[0m\n\u001b[1;32m    590\u001b[0m             \u001b[0mx\u001b[0m \u001b[0;34m=\u001b[0m \u001b[0mnp\u001b[0m\u001b[0;34m.\u001b[0m\u001b[0mmoveaxis\u001b[0m\u001b[0;34m(\u001b[0m\u001b[0mx\u001b[0m\u001b[0;34m,\u001b[0m \u001b[0maxis\u001b[0m\u001b[0;34m,\u001b[0m \u001b[0;36m0\u001b[0m\u001b[0;34m)\u001b[0m\u001b[0;34m\u001b[0m\u001b[0;34m\u001b[0m\u001b[0m\n",
            "\u001b[0;32m/usr/local/lib/python3.10/dist-packages/scipy/stats/_stats_py.py\u001b[0m in \u001b[0;36mmode\u001b[0;34m(a, axis, nan_policy, keepdims)\u001b[0m\n\u001b[1;32m    515\u001b[0m         \u001b[0;32mreturn\u001b[0m \u001b[0mModeResult\u001b[0m\u001b[0;34m(\u001b[0m\u001b[0;34m*\u001b[0m\u001b[0mnp\u001b[0m\u001b[0;34m.\u001b[0m\u001b[0marray\u001b[0m\u001b[0;34m(\u001b[0m\u001b[0;34m[\u001b[0m\u001b[0mNaN\u001b[0m\u001b[0;34m,\u001b[0m \u001b[0;36m0\u001b[0m\u001b[0;34m]\u001b[0m\u001b[0;34m,\u001b[0m \u001b[0mdtype\u001b[0m\u001b[0;34m=\u001b[0m\u001b[0mNaN\u001b[0m\u001b[0;34m.\u001b[0m\u001b[0mdtype\u001b[0m\u001b[0;34m)\u001b[0m\u001b[0;34m)\u001b[0m\u001b[0;34m\u001b[0m\u001b[0;34m\u001b[0m\u001b[0m\n\u001b[1;32m    516\u001b[0m \u001b[0;34m\u001b[0m\u001b[0m\n\u001b[0;32m--> 517\u001b[0;31m     \u001b[0mvals\u001b[0m\u001b[0;34m,\u001b[0m \u001b[0mcnts\u001b[0m \u001b[0;34m=\u001b[0m \u001b[0mnp\u001b[0m\u001b[0;34m.\u001b[0m\u001b[0munique\u001b[0m\u001b[0;34m(\u001b[0m\u001b[0ma\u001b[0m\u001b[0;34m,\u001b[0m \u001b[0mreturn_counts\u001b[0m\u001b[0;34m=\u001b[0m\u001b[0;32mTrue\u001b[0m\u001b[0;34m)\u001b[0m\u001b[0;34m\u001b[0m\u001b[0;34m\u001b[0m\u001b[0m\n\u001b[0m\u001b[1;32m    518\u001b[0m     \u001b[0mmodes\u001b[0m\u001b[0;34m,\u001b[0m \u001b[0mcounts\u001b[0m \u001b[0;34m=\u001b[0m \u001b[0mvals\u001b[0m\u001b[0;34m[\u001b[0m\u001b[0mcnts\u001b[0m\u001b[0;34m.\u001b[0m\u001b[0margmax\u001b[0m\u001b[0;34m(\u001b[0m\u001b[0;34m)\u001b[0m\u001b[0;34m]\u001b[0m\u001b[0;34m,\u001b[0m \u001b[0mcnts\u001b[0m\u001b[0;34m.\u001b[0m\u001b[0mmax\u001b[0m\u001b[0;34m(\u001b[0m\u001b[0;34m)\u001b[0m\u001b[0;34m\u001b[0m\u001b[0;34m\u001b[0m\u001b[0m\n\u001b[1;32m    519\u001b[0m     \u001b[0;32mreturn\u001b[0m \u001b[0mModeResult\u001b[0m\u001b[0;34m(\u001b[0m\u001b[0mmodes\u001b[0m\u001b[0;34m[\u001b[0m\u001b[0;34m(\u001b[0m\u001b[0;34m)\u001b[0m\u001b[0;34m]\u001b[0m\u001b[0;34m,\u001b[0m \u001b[0mcounts\u001b[0m\u001b[0;34m[\u001b[0m\u001b[0;34m(\u001b[0m\u001b[0;34m)\u001b[0m\u001b[0;34m]\u001b[0m\u001b[0;34m)\u001b[0m\u001b[0;34m\u001b[0m\u001b[0;34m\u001b[0m\u001b[0m\n",
            "\u001b[0;32m/usr/local/lib/python3.10/dist-packages/numpy/lib/arraysetops.py\u001b[0m in \u001b[0;36munique\u001b[0;34m(ar, return_index, return_inverse, return_counts, axis, equal_nan)\u001b[0m\n\u001b[1;32m    272\u001b[0m     \u001b[0mar\u001b[0m \u001b[0;34m=\u001b[0m \u001b[0mnp\u001b[0m\u001b[0;34m.\u001b[0m\u001b[0masanyarray\u001b[0m\u001b[0;34m(\u001b[0m\u001b[0mar\u001b[0m\u001b[0;34m)\u001b[0m\u001b[0;34m\u001b[0m\u001b[0;34m\u001b[0m\u001b[0m\n\u001b[1;32m    273\u001b[0m     \u001b[0;32mif\u001b[0m \u001b[0maxis\u001b[0m \u001b[0;32mis\u001b[0m \u001b[0;32mNone\u001b[0m\u001b[0;34m:\u001b[0m\u001b[0;34m\u001b[0m\u001b[0;34m\u001b[0m\u001b[0m\n\u001b[0;32m--> 274\u001b[0;31m         ret = _unique1d(ar, return_index, return_inverse, return_counts, \n\u001b[0m\u001b[1;32m    275\u001b[0m                         equal_nan=equal_nan)\n\u001b[1;32m    276\u001b[0m         \u001b[0;32mreturn\u001b[0m \u001b[0m_unpack_tuple\u001b[0m\u001b[0;34m(\u001b[0m\u001b[0mret\u001b[0m\u001b[0;34m)\u001b[0m\u001b[0;34m\u001b[0m\u001b[0;34m\u001b[0m\u001b[0m\n",
            "\u001b[0;32m/usr/local/lib/python3.10/dist-packages/numpy/lib/arraysetops.py\u001b[0m in \u001b[0;36m_unique1d\u001b[0;34m(ar, return_index, return_inverse, return_counts, equal_nan)\u001b[0m\n\u001b[1;32m    353\u001b[0m \u001b[0;34m\u001b[0m\u001b[0m\n\u001b[1;32m    354\u001b[0m     \u001b[0mret\u001b[0m \u001b[0;34m=\u001b[0m \u001b[0;34m(\u001b[0m\u001b[0maux\u001b[0m\u001b[0;34m[\u001b[0m\u001b[0mmask\u001b[0m\u001b[0;34m]\u001b[0m\u001b[0;34m,\u001b[0m\u001b[0;34m)\u001b[0m\u001b[0;34m\u001b[0m\u001b[0;34m\u001b[0m\u001b[0m\n\u001b[0;32m--> 355\u001b[0;31m     \u001b[0;32mif\u001b[0m \u001b[0mreturn_index\u001b[0m\u001b[0;34m:\u001b[0m\u001b[0;34m\u001b[0m\u001b[0;34m\u001b[0m\u001b[0m\n\u001b[0m\u001b[1;32m    356\u001b[0m         \u001b[0mret\u001b[0m \u001b[0;34m+=\u001b[0m \u001b[0;34m(\u001b[0m\u001b[0mperm\u001b[0m\u001b[0;34m[\u001b[0m\u001b[0mmask\u001b[0m\u001b[0;34m]\u001b[0m\u001b[0;34m,\u001b[0m\u001b[0;34m)\u001b[0m\u001b[0;34m\u001b[0m\u001b[0;34m\u001b[0m\u001b[0m\n\u001b[1;32m    357\u001b[0m     \u001b[0;32mif\u001b[0m \u001b[0mreturn_inverse\u001b[0m\u001b[0;34m:\u001b[0m\u001b[0;34m\u001b[0m\u001b[0;34m\u001b[0m\u001b[0m\n",
            "\u001b[0;31mKeyboardInterrupt\u001b[0m: "
          ]
        },
        {
          "output_type": "display_data",
          "data": {
            "text/plain": [
              "<Figure size 1600x800 with 1 Axes>"
            ],
            "image/png": "[encoded data removed]"
          },
          "metadata": {}
        }
      ]
    },
    {
      "cell_type": "markdown",
      "metadata": {
        "id": "dUEKOeVZgFQy"
      },
      "source": [
        "**Задача 1.6 (0.5 балла)** Прокомментируйте результаты, полученные в задачах 1.3 и 1.5. Какое число соседей оптимально использовать для обучения классификатора? Поясните ваш выбор при помощи описания геометрии данных и получаемой решающей поверхности. Какие из результатов явно говорят о переобучении модели? Почему?"
      ]
    },
    {
      "cell_type": "markdown",
      "source": [
        "Для обучения классификатора оптимально использовать 3 или 5 соседей. Такой вывод сделан по результатам значений моделей по тестовой выборке(72%-74%) доля верных ответов). На трейне самый высокий результат показывает модель с 1 соседом, но ее показатели значительно падают при тестировании, откуда можем заключить, что модель переобучается при таком значении. Если взять число соседей больше 5 (10 и т.д.), то качество падает до 60%, что напоминает показатели модели с 1 соседом.\n",
        "\n",
        "Глядя на графики, можно тоже сделать выводы о переобучении. Для 1 соседа на графике заметны несколько точек, которые живут на своих \"острвках\", что явно говорит о переобучении (видно на примере с одним зеленым объетком). С другой стороны, такие \"островки\" есть и на моделях с 3 и 5 соседями (не путать с n_3 n_5 - они пронумированы по порядку, а не по количеству соседей).\n",
        "\n"
      ],
      "metadata": {
        "id": "nLhfu60vEnwG"
      }
    },
    {
      "cell_type": "code",
      "execution_count": null,
      "metadata": {
        "id": "q1FAYqb1gFQ0"
      },
      "outputs": [],
      "source": []
    },
    {
      "cell_type": "markdown",
      "source": [
        "### Задание 2. KNN своими руками. 2 Балла"
      ],
      "metadata": {
        "id": "ehRtcRN3kMgW"
      }
    },
    {
      "cell_type": "markdown",
      "source": [
        "В данном задании мы попробуем реализовать алгоритм KNN своими руками. В данном случае мы попробуем сделать KNN для классификации.\n",
        "\n",
        "![image.png](data:image/png;base64,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)"
      ],
      "metadata": {
        "id": "Y38gBPr1ms8c"
      }
    },
    {
      "cell_type": "code",
      "source": [
        "import numpy as np\n",
        "from collections import Counter\n",
        "\n",
        "class KNN:\n",
        "    def __init__(self, k:int):\n",
        "        self.k = k\n",
        "        self.values = None\n",
        "        self.answers = None\n",
        "\n",
        "    def fit(self, X, y):\n",
        "      self.values = X\n",
        "      self.answers = y\n",
        "\n",
        "    def predict(self, X):\n",
        "      ans = []\n",
        "      for element in X:\n",
        "        d = self.count_distance(self.values, element)\n",
        "        indexes = np.argsort(d)\n",
        "        k_closest = self.answers[indexes][:self.k]\n",
        "        ans.append(Counter(k_closest).most_common()[0][0])\n",
        "\n",
        "      return np.array(ans)\n",
        "\n",
        "    def count_distance(self, x, y):\n",
        "      return np.sqrt(np.sum((x - y)**2, axis=1))"
      ],
      "metadata": {
        "id": "OIsIhp97mXIC"
      },
      "execution_count": 20,
      "outputs": []
    },
    {
      "cell_type": "code",
      "source": [
        "# Не меняйте файл!\n",
        "def test_knn(KNN):\n",
        "  knn = KNN(k=1)\n",
        "  X_train =  np.array([[1, 1], [2, 2]])\n",
        "  y_train =  np.array([0, 1])\n",
        "  X_test =  np.array([[1.5, 1.5]])\n",
        "  knn.fit(X_train, y_train)\n",
        "  assert knn.predict(X_test) == [0]\n",
        "\n",
        "  knn = KNN(k=3)\n",
        "  X_train = np.array([[1, 1], [2, 2], [3, 3], [4, 4], [5, 5], [6, 6], [7, 7], [8, 8], [9, 9], [10, 10]])\n",
        "  y_train = np.array([0, 0, 0, 0, 1, 1, 1, 1, 1, 1])\n",
        "  X_test = np.array([[9.5, 9.5]])\n",
        "  knn.fit(X_train, y_train)\n",
        "  assert knn.predict(X_test) == [1]\n",
        "\n",
        "  knn = KNN(k=3)\n",
        "  X_train = np.array([[1, 1], [2, 2], [3, 3], [4, 4], [5, 5], [6, 6], [7, 7], [8, 8], [9, 9], [10, 10]])\n",
        "  y_train = np.array([0, 0, 0, 0, 1, 1, 1, 1, 1, 1])\n",
        "  X_test = np.array([[5.5, 5.5]])\n",
        "  knn.fit(X_train, y_train)\n",
        "  assert knn.predict(X_test) == [1]\n",
        "\n",
        "  knn = KNN(k=3)\n",
        "  X_train = np.array([[1, 1], [2, 2], [3, 3], [4, 4], [5, 5], [6, 6], [7, 7], [8, 8], [9, 9], [10, 10]])\n",
        "  y_train = np.array([0, 0, 0, 0, 1, 1, 1, 1, 1, 1])\n",
        "  X_test = np.array([[15, 15]])\n",
        "  knn.fit(X_train, y_train)\n",
        "  assert knn.predict(X_test) == [1]\n",
        "\n",
        "  knn = KNN(k=3)\n",
        "  X_train = np.array([[1, 1], [2, 2], [3, 3], [4, 4], [5, 5], [6, 6], [7, 7], [8, 8], [9, 9], [10, 10]])\n",
        "  y_train = np.array([0, 0, 0, 0, 1, 1, 1, 1, 1, 1])\n",
        "  X_test = np.array([[5, 5], [2, 2]])\n",
        "  knn.fit(X_train, y_train)\n",
        "  assert all(knn.predict(X_test) == [1, 0])"
      ],
      "metadata": {
        "id": "Rd0NbTxGmWDE"
      },
      "execution_count": 21,
      "outputs": []
    },
    {
      "cell_type": "code",
      "source": [
        "# Если тесты эти пройдены, то все верно!\n",
        "test_knn(KNN)"
      ],
      "metadata": {
        "id": "ZSLcovKGr7nB"
      },
      "execution_count": 22,
      "outputs": []
    },
    {
      "cell_type": "markdown",
      "metadata": {
        "id": "TeRb5fnjgFQ1"
      },
      "source": [
        "### Задание 3: Линейная регрессия."
      ]
    },
    {
      "cell_type": "markdown",
      "metadata": {
        "id": "-b3qyhPBgFQ1"
      },
      "source": [
        "В этом задании мы рассмотрим различные аспекты построения линейной модели. Мы будем работать с одним из классических наборов данных в статистике, содержащим информацию о бриллиантах. Описание можно посмотреть [здесь](https://www.kaggle.com/shivam2503/diamonds)."
      ]
    },
    {
      "cell_type": "code",
      "execution_count": 23,
      "metadata": {
        "id": "LMxJH2wUgFQ1",
        "outputId": "4a16b591-2985-4001-ec36-8fdf63a36bd8",
        "colab": {
          "base_uri": "https://localhost:8080/",
          "height": 206
        }
      },
      "outputs": [
        {
          "output_type": "execute_result",
          "data": {
            "text/plain": [
              "   Unnamed: 0  carat      cut color clarity  depth  table  price     x     y  \\\n",
              "0           1   0.23    Ideal     E     SI2   61.5   55.0    326  3.95  3.98   \n",
              "1           2   0.21  Premium     E     SI1   59.8   61.0    326  3.89  3.84   \n",
              "2           3   0.23     Good     E     VS1   56.9   65.0    327  4.05  4.07   \n",
              "3           4   0.29  Premium     I     VS2   62.4   58.0    334  4.20  4.23   \n",
              "4           5   0.31     Good     J     SI2   63.3   58.0    335  4.34  4.35   \n",
              "\n",
              "      z  \n",
              "0  2.43  \n",
              "1  2.31  \n",
              "2  2.31  \n",
              "3  2.63  \n",
              "4  2.75  "
            ],
            "text/html": [
              "\n",
              "  <div id=\"df-e9d0ba4c-4ad2-477b-897c-8ec9006e5ac9\" class=\"colab-df-container\">\n",
              "    <div>\n",
              "<style scoped>\n",
              "    .dataframe tbody tr th:only-of-type {\n",
              "        vertical-align: middle;\n",
              "    }\n",
              "\n",
              "    .dataframe tbody tr th {\n",
              "        vertical-align: top;\n",
              "    }\n",
              "\n",
              "    .dataframe thead th {\n",
              "        text-align: right;\n",
              "    }\n",
              "</style>\n",
              "<table border=\"1\" class=\"dataframe\">\n",
              "  <thead>\n",
              "    <tr style=\"text-align: right;\">\n",
              "      <th></th>\n",
              "      <th>Unnamed: 0</th>\n",
              "      <th>carat</th>\n",
              "      <th>cut</th>\n",
              "      <th>color</th>\n",
              "      <th>clarity</th>\n",
              "      <th>depth</th>\n",
              "      <th>table</th>\n",
              "      <th>price</th>\n",
              "      <th>x</th>\n",
              "      <th>y</th>\n",
              "      <th>z</th>\n",
              "    </tr>\n",
              "  </thead>\n",
              "  <tbody>\n",
              "    <tr>\n",
              "      <th>0</th>\n",
              "      <td>1</td>\n",
              "      <td>0.23</td>\n",
              "      <td>Ideal</td>\n",
              "      <td>E</td>\n",
              "      <td>SI2</td>\n",
              "      <td>61.5</td>\n",
              "      <td>55.0</td>\n",
              "      <td>326</td>\n",
              "      <td>3.95</td>\n",
              "      <td>3.98</td>\n",
              "      <td>2.43</td>\n",
              "    </tr>\n",
              "    <tr>\n",
              "      <th>1</th>\n",
              "      <td>2</td>\n",
              "      <td>0.21</td>\n",
              "      <td>Premium</td>\n",
              "      <td>E</td>\n",
              "      <td>SI1</td>\n",
              "      <td>59.8</td>\n",
              "      <td>61.0</td>\n",
              "      <td>326</td>\n",
              "      <td>3.89</td>\n",
              "      <td>3.84</td>\n",
              "      <td>2.31</td>\n",
              "    </tr>\n",
              "    <tr>\n",
              "      <th>2</th>\n",
              "      <td>3</td>\n",
              "      <td>0.23</td>\n",
              "      <td>Good</td>\n",
              "      <td>E</td>\n",
              "      <td>VS1</td>\n",
              "      <td>56.9</td>\n",
              "      <td>65.0</td>\n",
              "      <td>327</td>\n",
              "      <td>4.05</td>\n",
              "      <td>4.07</td>\n",
              "      <td>2.31</td>\n",
              "    </tr>\n",
              "    <tr>\n",
              "      <th>3</th>\n",
              "      <td>4</td>\n",
              "      <td>0.29</td>\n",
              "      <td>Premium</td>\n",
              "      <td>I</td>\n",
              "      <td>VS2</td>\n",
              "      <td>62.4</td>\n",
              "      <td>58.0</td>\n",
              "      <td>334</td>\n",
              "      <td>4.20</td>\n",
              "      <td>4.23</td>\n",
              "      <td>2.63</td>\n",
              "    </tr>\n",
              "    <tr>\n",
              "      <th>4</th>\n",
              "      <td>5</td>\n",
              "      <td>0.31</td>\n",
              "      <td>Good</td>\n",
              "      <td>J</td>\n",
              "      <td>SI2</td>\n",
              "      <td>63.3</td>\n",
              "      <td>58.0</td>\n",
              "      <td>335</td>\n",
              "      <td>4.34</td>\n",
              "      <td>4.35</td>\n",
              "      <td>2.75</td>\n",
              "    </tr>\n",
              "  </tbody>\n",
              "</table>\n",
              "</div>\n",
              "    <div class=\"colab-df-buttons\">\n",
              "\n",
              "  <div class=\"colab-df-container\">\n",
              "    <button class=\"colab-df-convert\" onclick=\"convertToInteractive('df-e9d0ba4c-4ad2-477b-897c-8ec9006e5ac9')\"\n",
              "            title=\"Convert this dataframe to an interactive table.\"\n",
              "            style=\"display:none;\">\n",
              "\n",
              "  <svg xmlns=\"http://www.w3.org/2000/svg\" height=\"24px\" viewBox=\"0 -960 960 960\">\n",
              "    <path d=\"M120-120v-720h720v720H120Zm60-500h600v-160H180v160Zm220 220h160v-160H400v160Zm0 220h160v-160H400v160ZM180-400h160v-160H180v160Zm440 0h160v-160H620v160ZM180-180h160v-160H180v160Zm440 0h160v-160H620v160Z\"/>\n",
              "  </svg>\n",
              "    </button>\n",
              "\n",
              "  <style>\n",
              "    .colab-df-container {\n",
              "      display:flex;\n",
              "      gap: 12px;\n",
              "    }\n",
              "\n",
              "    .colab-df-convert {\n",
              "      background-color: #E8F0FE;\n",
              "      border: none;\n",
              "      border-radius: 50%;\n",
              "      cursor: pointer;\n",
              "      display: none;\n",
              "      fill: #1967D2;\n",
              "      height: 32px;\n",
              "      padding: 0 0 0 0;\n",
              "      width: 32px;\n",
              "    }\n",
              "\n",
              "    .colab-df-convert:hover {\n",
              "      background-color: #E2EBFA;\n",
              "      box-shadow: 0px 1px 2px rgba(60, 64, 67, 0.3), 0px 1px 3px 1px rgba(60, 64, 67, 0.15);\n",
              "      fill: #174EA6;\n",
              "    }\n",
              "\n",
              "    .colab-df-buttons div {\n",
              "      margin-bottom: 4px;\n",
              "    }\n",
              "\n",
              "    [theme=dark] .colab-df-convert {\n",
              "      background-color: #3B4455;\n",
              "      fill: #D2E3FC;\n",
              "    }\n",
              "\n",
              "    [theme=dark] .colab-df-convert:hover {\n",
              "      background-color: #434B5C;\n",
              "      box-shadow: 0px 1px 3px 1px rgba(0, 0, 0, 0.15);\n",
              "      filter: drop-shadow(0px 1px 2px rgba(0, 0, 0, 0.3));\n",
              "      fill: #FFFFFF;\n",
              "    }\n",
              "  </style>\n",
              "\n",
              "    <script>\n",
              "      const buttonEl =\n",
              "        document.querySelector('#df-e9d0ba4c-4ad2-477b-897c-8ec9006e5ac9 button.colab-df-convert');\n",
              "      buttonEl.style.display =\n",
              "        google.colab.kernel.accessAllowed ? 'block' : 'none';\n",
              "\n",
              "      async function convertToInteractive(key) {\n",
              "        const element = document.querySelector('#df-e9d0ba4c-4ad2-477b-897c-8ec9006e5ac9');\n",
              "        const dataTable =\n",
              "          await google.colab.kernel.invokeFunction('convertToInteractive',\n",
              "                                                    [key], {});\n",
              "        if (!dataTable) return;\n",
              "\n",
              "        const docLinkHtml = 'Like what you see? Visit the ' +\n",
              "          '<a target=\"_blank\" href=https://colab.research.google.com/notebooks/data_table.ipynb>data table notebook</a>'\n",
              "          + ' to learn more about interactive tables.';\n",
              "        element.innerHTML = '';\n",
              "        dataTable['output_type'] = 'display_data';\n",
              "        await google.colab.output.renderOutput(dataTable, element);\n",
              "        const docLink = document.createElement('div');\n",
              "        docLink.innerHTML = docLinkHtml;\n",
              "        element.appendChild(docLink);\n",
              "      }\n",
              "    </script>\n",
              "  </div>\n",
              "\n",
              "\n",
              "<div id=\"df-917a1152-d684-4f95-bb3a-6b5ec8116820\">\n",
              "  <button class=\"colab-df-quickchart\" onclick=\"quickchart('df-917a1152-d684-4f95-bb3a-6b5ec8116820')\"\n",
              "            title=\"Suggest charts\"\n",
              "            style=\"display:none;\">\n",
              "\n",
              "<svg xmlns=\"http://www.w3.org/2000/svg\" height=\"24px\"viewBox=\"0 0 24 24\"\n",
              "     width=\"24px\">\n",
              "    <g>\n",
              "        <path d=\"M19 3H5c-1.1 0-2 .9-2 2v14c0 1.1.9 2 2 2h14c1.1 0 2-.9 2-2V5c0-1.1-.9-2-2-2zM9 17H7v-7h2v7zm4 0h-2V7h2v10zm4 0h-2v-4h2v4z\"/>\n",
              "    </g>\n",
              "</svg>\n",
              "  </button>\n",
              "\n",
              "<style>\n",
              "  .colab-df-quickchart {\n",
              "      --bg-color: #E8F0FE;\n",
              "      --fill-color: #1967D2;\n",
              "      --hover-bg-color: #E2EBFA;\n",
              "      --hover-fill-color: #174EA6;\n",
              "      --disabled-fill-color: #AAA;\n",
              "      --disabled-bg-color: #DDD;\n",
              "  }\n",
              "\n",
              "  [theme=dark] .colab-df-quickchart {\n",
              "      --bg-color: #3B4455;\n",
              "      --fill-color: #D2E3FC;\n",
              "      --hover-bg-color: #434B5C;\n",
              "      --hover-fill-color: #FFFFFF;\n",
              "      --disabled-bg-color: #3B4455;\n",
              "      --disabled-fill-color: #666;\n",
              "  }\n",
              "\n",
              "  .colab-df-quickchart {\n",
              "    background-color: var(--bg-color);\n",
              "    border: none;\n",
              "    border-radius: 50%;\n",
              "    cursor: pointer;\n",
              "    display: none;\n",
              "    fill: var(--fill-color);\n",
              "    height: 32px;\n",
              "    padding: 0;\n",
              "    width: 32px;\n",
              "  }\n",
              "\n",
              "  .colab-df-quickchart:hover {\n",
              "    background-color: var(--hover-bg-color);\n",
              "    box-shadow: 0 1px 2px rgba(60, 64, 67, 0.3), 0 1px 3px 1px rgba(60, 64, 67, 0.15);\n",
              "    fill: var(--button-hover-fill-color);\n",
              "  }\n",
              "\n",
              "  .colab-df-quickchart-complete:disabled,\n",
              "  .colab-df-quickchart-complete:disabled:hover {\n",
              "    background-color: var(--disabled-bg-color);\n",
              "    fill: var(--disabled-fill-color);\n",
              "    box-shadow: none;\n",
              "  }\n",
              "\n",
              "  .colab-df-spinner {\n",
              "    border: 2px solid var(--fill-color);\n",
              "    border-color: transparent;\n",
              "    border-bottom-color: var(--fill-color);\n",
              "    animation:\n",
              "      spin 1s steps(1) infinite;\n",
              "  }\n",
              "\n",
              "  @keyframes spin {\n",
              "    0% {\n",
              "      border-color: transparent;\n",
              "      border-bottom-color: var(--fill-color);\n",
              "      border-left-color: var(--fill-color);\n",
              "    }\n",
              "    20% {\n",
              "      border-color: transparent;\n",
              "      border-left-color: var(--fill-color);\n",
              "      border-top-color: var(--fill-color);\n",
              "    }\n",
              "    30% {\n",
              "      border-color: transparent;\n",
              "      border-left-color: var(--fill-color);\n",
              "      border-top-color: var(--fill-color);\n",
              "      border-right-color: var(--fill-color);\n",
              "    }\n",
              "    40% {\n",
              "      border-color: transparent;\n",
              "      border-right-color: var(--fill-color);\n",
              "      border-top-color: var(--fill-color);\n",
              "    }\n",
              "    60% {\n",
              "      border-color: transparent;\n",
              "      border-right-color: var(--fill-color);\n",
              "    }\n",
              "    80% {\n",
              "      border-color: transparent;\n",
              "      border-right-color: var(--fill-color);\n",
              "      border-bottom-color: var(--fill-color);\n",
              "    }\n",
              "    90% {\n",
              "      border-color: transparent;\n",
              "      border-bottom-color: var(--fill-color);\n",
              "    }\n",
              "  }\n",
              "</style>\n",
              "\n",
              "  <script>\n",
              "    async function quickchart(key) {\n",
              "      const quickchartButtonEl =\n",
              "        document.querySelector('#' + key + ' button');\n",
              "      quickchartButtonEl.disabled = true;  // To prevent multiple clicks.\n",
              "      quickchartButtonEl.classList.add('colab-df-spinner');\n",
              "      try {\n",
              "        const charts = await google.colab.kernel.invokeFunction(\n",
              "            'suggestCharts', [key], {});\n",
              "      } catch (error) {\n",
              "        console.error('Error during call to suggestCharts:', error);\n",
              "      }\n",
              "      quickchartButtonEl.classList.remove('colab-df-spinner');\n",
              "      quickchartButtonEl.classList.add('colab-df-quickchart-complete');\n",
              "    }\n",
              "    (() => {\n",
              "      let quickchartButtonEl =\n",
              "        document.querySelector('#df-917a1152-d684-4f95-bb3a-6b5ec8116820 button');\n",
              "      quickchartButtonEl.style.display =\n",
              "        google.colab.kernel.accessAllowed ? 'block' : 'none';\n",
              "    })();\n",
              "  </script>\n",
              "</div>\n",
              "    </div>\n",
              "  </div>\n"
            ],
            "application/vnd.google.colaboratory.intrinsic+json": {
              "type": "dataframe",
              "variable_name": "data",
              "summary": "{\n  \"name\": \"data\",\n  \"rows\": 53940,\n  \"fields\": [\n    {\n      \"column\": \"Unnamed: 0\",\n      \"properties\": {\n        \"dtype\": \"number\",\n        \"std\": 15571,\n        \"min\": 1,\n        \"max\": 53940,\n        \"num_unique_values\": 53940,\n        \"samples\": [\n          1389,\n          50053,\n          41646\n        ],\n        \"semantic_type\": \"\",\n        \"description\": \"\"\n      }\n    },\n    {\n      \"column\": \"carat\",\n      \"properties\": {\n        \"dtype\": \"number\",\n        \"std\": 0.4740112444054184,\n        \"min\": 0.2,\n        \"max\": 5.01,\n        \"num_unique_values\": 273,\n        \"samples\": [\n          0.77,\n          1.58,\n          0.65\n        ],\n        \"semantic_type\": \"\",\n        \"description\": \"\"\n      }\n    },\n    {\n      \"column\": \"cut\",\n      \"properties\": {\n        \"dtype\": \"category\",\n        \"num_unique_values\": 5,\n        \"samples\": [\n          \"Premium\",\n          \"Fair\",\n          \"Good\"\n        ],\n        \"semantic_type\": \"\",\n        \"description\": \"\"\n      }\n    },\n    {\n      \"column\": \"color\",\n      \"properties\": {\n        \"dtype\": \"category\",\n        \"num_unique_values\": 7,\n        \"samples\": [\n          \"E\",\n          \"I\",\n          \"G\"\n        ],\n        \"semantic_type\": \"\",\n        \"description\": \"\"\n      }\n    },\n    {\n      \"column\": \"clarity\",\n      \"properties\": {\n        \"dtype\": \"category\",\n        \"num_unique_values\": 8,\n        \"samples\": [\n          \"SI1\",\n          \"VVS1\",\n          \"SI2\"\n        ],\n        \"semantic_type\": \"\",\n        \"description\": \"\"\n      }\n    },\n    {\n      \"column\": \"depth\",\n      \"properties\": {\n        \"dtype\": \"number\",\n        \"std\": 1.432621318833661,\n        \"min\": 43.0,\n        \"max\": 79.0,\n        \"num_unique_values\": 184,\n        \"samples\": [\n          61.0,\n          62.9,\n          70.2\n        ],\n        \"semantic_type\": \"\",\n        \"description\": \"\"\n      }\n    },\n    {\n      \"column\": \"table\",\n      \"properties\": {\n        \"dtype\": \"number\",\n        \"std\": 2.2344905628213225,\n        \"min\": 43.0,\n        \"max\": 95.0,\n        \"num_unique_values\": 127,\n        \"samples\": [\n          54.8,\n          61.5,\n          57.6\n        ],\n        \"semantic_type\": \"\",\n        \"description\": \"\"\n      }\n    },\n    {\n      \"column\": \"price\",\n      \"properties\": {\n        \"dtype\": \"number\",\n        \"std\": 3989,\n        \"min\": 326,\n        \"max\": 18823,\n        \"num_unique_values\": 11602,\n        \"samples\": [\n          16368,\n          895,\n          748\n        ],\n        \"semantic_type\": \"\",\n        \"description\": \"\"\n      }\n    },\n    {\n      \"column\": \"x\",\n      \"properties\": {\n        \"dtype\": \"number\",\n        \"std\": 1.1217607467924928,\n        \"min\": 0.0,\n        \"max\": 10.74,\n        \"num_unique_values\": 554,\n        \"samples\": [\n          5.88,\n          5.69,\n          4.61\n        ],\n        \"semantic_type\": \"\",\n        \"description\": \"\"\n      }\n    },\n    {\n      \"column\": \"y\",\n      \"properties\": {\n        \"dtype\": \"number\",\n        \"std\": 1.1421346741235552,\n        \"min\": 0.0,\n        \"max\": 58.9,\n        \"num_unique_values\": 552,\n        \"samples\": [\n          5.33,\n          5.61,\n          5.25\n        ],\n        \"semantic_type\": \"\",\n        \"description\": \"\"\n      }\n    },\n    {\n      \"column\": \"z\",\n      \"properties\": {\n        \"dtype\": \"number\",\n        \"std\": 0.7056988469499941,\n        \"min\": 0.0,\n        \"max\": 31.8,\n        \"num_unique_values\": 375,\n        \"samples\": [\n          3.36,\n          2.45,\n          2.7\n        ],\n        \"semantic_type\": \"\",\n        \"description\": \"\"\n      }\n    }\n  ]\n}"
            }
          },
          "metadata": {},
          "execution_count": 23
        }
      ],
      "source": [
        "data = pd.read_csv('https://raw.githubusercontent.com/hse-ds/iad-intro-ds/master/2024/homeworks/hw04_knn_linreg/diamonds.csv')\n",
        "data.head(5)"
      ]
    },
    {
      "cell_type": "code",
      "source": [
        "data.shape"
      ],
      "metadata": {
        "colab": {
          "base_uri": "https://localhost:8080/"
        },
        "id": "eR3DFOHOwylG",
        "outputId": "d219f927-7ad2-487b-a5ad-d43bc1b00778"
      },
      "execution_count": 24,
      "outputs": [
        {
          "output_type": "execute_result",
          "data": {
            "text/plain": [
              "(53940, 11)"
            ]
          },
          "metadata": {},
          "execution_count": 24
        }
      ]
    },
    {
      "cell_type": "markdown",
      "metadata": {
        "id": "up0aSDWUgFQ1"
      },
      "source": [
        "Мы будем решать задачу предсказания цены бриллианта `price` в зависимости от его характеристик."
      ]
    },
    {
      "cell_type": "markdown",
      "metadata": {
        "id": "0miSmx6mgFQ1"
      },
      "source": [
        "**Задача 3.1 (0.2 балла)** Есть ли в наборе данных пропущенные значения? Если да, удалите их.\n",
        "Есть ли в наборе данных бессмысленные столбцы (признаки, не несущие дополнительной информации)? Если да, то удалите их."
      ]
    },
    {
      "cell_type": "code",
      "execution_count": 25,
      "metadata": {
        "id": "Yb_iI9RigFQ1",
        "colab": {
          "base_uri": "https://localhost:8080/"
        },
        "outputId": "3690c347-2f9d-4dce-8635-9e58e998afe6"
      },
      "outputs": [
        {
          "output_type": "execute_result",
          "data": {
            "text/plain": [
              "Unnamed: 0    False\n",
              "carat         False\n",
              "cut           False\n",
              "color         False\n",
              "clarity       False\n",
              "depth         False\n",
              "table         False\n",
              "price         False\n",
              "x             False\n",
              "y             False\n",
              "z             False\n",
              "dtype: bool"
            ]
          },
          "metadata": {},
          "execution_count": 25
        }
      ],
      "source": [
        "data.isna().any()"
      ]
    },
    {
      "cell_type": "code",
      "source": [
        "data = data.drop('Unnamed: 0', axis=1)\n",
        "data.head(5)"
      ],
      "metadata": {
        "colab": {
          "base_uri": "https://localhost:8080/",
          "height": 206
        },
        "id": "v4ezknAWZ9Q1",
        "outputId": "0407c979-a530-4dec-d292-e8e9b7ec3e98"
      },
      "execution_count": 26,
      "outputs": [
        {
          "output_type": "execute_result",
          "data": {
            "text/plain": [
              "   carat      cut color clarity  depth  table  price     x     y     z\n",
              "0   0.23    Ideal     E     SI2   61.5   55.0    326  3.95  3.98  2.43\n",
              "1   0.21  Premium     E     SI1   59.8   61.0    326  3.89  3.84  2.31\n",
              "2   0.23     Good     E     VS1   56.9   65.0    327  4.05  4.07  2.31\n",
              "3   0.29  Premium     I     VS2   62.4   58.0    334  4.20  4.23  2.63\n",
              "4   0.31     Good     J     SI2   63.3   58.0    335  4.34  4.35  2.75"
            ],
            "text/html": [
              "\n",
              "  <div id=\"df-2237abd1-3ff3-44dc-bcb1-406e3bee3197\" class=\"colab-df-container\">\n",
              "    <div>\n",
              "<style scoped>\n",
              "    .dataframe tbody tr th:only-of-type {\n",
              "        vertical-align: middle;\n",
              "    }\n",
              "\n",
              "    .dataframe tbody tr th {\n",
              "        vertical-align: top;\n",
              "    }\n",
              "\n",
              "    .dataframe thead th {\n",
              "        text-align: right;\n",
              "    }\n",
              "</style>\n",
              "<table border=\"1\" class=\"dataframe\">\n",
              "  <thead>\n",
              "    <tr style=\"text-align: right;\">\n",
              "      <th></th>\n",
              "      <th>carat</th>\n",
              "      <th>cut</th>\n",
              "      <th>color</th>\n",
              "      <th>clarity</th>\n",
              "      <th>depth</th>\n",
              "      <th>table</th>\n",
              "      <th>price</th>\n",
              "      <th>x</th>\n",
              "      <th>y</th>\n",
              "      <th>z</th>\n",
              "    </tr>\n",
              "  </thead>\n",
              "  <tbody>\n",
              "    <tr>\n",
              "      <th>0</th>\n",
              "      <td>0.23</td>\n",
              "      <td>Ideal</td>\n",
              "      <td>E</td>\n",
              "      <td>SI2</td>\n",
              "      <td>61.5</td>\n",
              "      <td>55.0</td>\n",
              "      <td>326</td>\n",
              "      <td>3.95</td>\n",
              "      <td>3.98</td>\n",
              "      <td>2.43</td>\n",
              "    </tr>\n",
              "    <tr>\n",
              "      <th>1</th>\n",
              "      <td>0.21</td>\n",
              "      <td>Premium</td>\n",
              "      <td>E</td>\n",
              "      <td>SI1</td>\n",
              "      <td>59.8</td>\n",
              "      <td>61.0</td>\n",
              "      <td>326</td>\n",
              "      <td>3.89</td>\n",
              "      <td>3.84</td>\n",
              "      <td>2.31</td>\n",
              "    </tr>\n",
              "    <tr>\n",
              "      <th>2</th>\n",
              "      <td>0.23</td>\n",
              "      <td>Good</td>\n",
              "      <td>E</td>\n",
              "      <td>VS1</td>\n",
              "      <td>56.9</td>\n",
              "      <td>65.0</td>\n",
              "      <td>327</td>\n",
              "      <td>4.05</td>\n",
              "      <td>4.07</td>\n",
              "      <td>2.31</td>\n",
              "    </tr>\n",
              "    <tr>\n",
              "      <th>3</th>\n",
              "      <td>0.29</td>\n",
              "      <td>Premium</td>\n",
              "      <td>I</td>\n",
              "      <td>VS2</td>\n",
              "      <td>62.4</td>\n",
              "      <td>58.0</td>\n",
              "      <td>334</td>\n",
              "      <td>4.20</td>\n",
              "      <td>4.23</td>\n",
              "      <td>2.63</td>\n",
              "    </tr>\n",
              "    <tr>\n",
              "      <th>4</th>\n",
              "      <td>0.31</td>\n",
              "      <td>Good</td>\n",
              "      <td>J</td>\n",
              "      <td>SI2</td>\n",
              "      <td>63.3</td>\n",
              "      <td>58.0</td>\n",
              "      <td>335</td>\n",
              "      <td>4.34</td>\n",
              "      <td>4.35</td>\n",
              "      <td>2.75</td>\n",
              "    </tr>\n",
              "  </tbody>\n",
              "</table>\n",
              "</div>\n",
              "    <div class=\"colab-df-buttons\">\n",
              "\n",
              "  <div class=\"colab-df-container\">\n",
              "    <button class=\"colab-df-convert\" onclick=\"convertToInteractive('df-2237abd1-3ff3-44dc-bcb1-406e3bee3197')\"\n",
              "            title=\"Convert this dataframe to an interactive table.\"\n",
              "            style=\"display:none;\">\n",
              "\n",
              "  <svg xmlns=\"http://www.w3.org/2000/svg\" height=\"24px\" viewBox=\"0 -960 960 960\">\n",
              "    <path d=\"M120-120v-720h720v720H120Zm60-500h600v-160H180v160Zm220 220h160v-160H400v160Zm0 220h160v-160H400v160ZM180-400h160v-160H180v160Zm440 0h160v-160H620v160ZM180-180h160v-160H180v160Zm440 0h160v-160H620v160Z\"/>\n",
              "  </svg>\n",
              "    </button>\n",
              "\n",
              "  <style>\n",
              "    .colab-df-container {\n",
              "      display:flex;\n",
              "      gap: 12px;\n",
              "    }\n",
              "\n",
              "    .colab-df-convert {\n",
              "      background-color: #E8F0FE;\n",
              "      border: none;\n",
              "      border-radius: 50%;\n",
              "      cursor: pointer;\n",
              "      display: none;\n",
              "      fill: #1967D2;\n",
              "      height: 32px;\n",
              "      padding: 0 0 0 0;\n",
              "      width: 32px;\n",
              "    }\n",
              "\n",
              "    .colab-df-convert:hover {\n",
              "      background-color: #E2EBFA;\n",
              "      box-shadow: 0px 1px 2px rgba(60, 64, 67, 0.3), 0px 1px 3px 1px rgba(60, 64, 67, 0.15);\n",
              "      fill: #174EA6;\n",
              "    }\n",
              "\n",
              "    .colab-df-buttons div {\n",
              "      margin-bottom: 4px;\n",
              "    }\n",
              "\n",
              "    [theme=dark] .colab-df-convert {\n",
              "      background-color: #3B4455;\n",
              "      fill: #D2E3FC;\n",
              "    }\n",
              "\n",
              "    [theme=dark] .colab-df-convert:hover {\n",
              "      background-color: #434B5C;\n",
              "      box-shadow: 0px 1px 3px 1px rgba(0, 0, 0, 0.15);\n",
              "      filter: drop-shadow(0px 1px 2px rgba(0, 0, 0, 0.3));\n",
              "      fill: #FFFFFF;\n",
              "    }\n",
              "  </style>\n",
              "\n",
              "    <script>\n",
              "      const buttonEl =\n",
              "        document.querySelector('#df-2237abd1-3ff3-44dc-bcb1-406e3bee3197 button.colab-df-convert');\n",
              "      buttonEl.style.display =\n",
              "        google.colab.kernel.accessAllowed ? 'block' : 'none';\n",
              "\n",
              "      async function convertToInteractive(key) {\n",
              "        const element = document.querySelector('#df-2237abd1-3ff3-44dc-bcb1-406e3bee3197');\n",
              "        const dataTable =\n",
              "          await google.colab.kernel.invokeFunction('convertToInteractive',\n",
              "                                                    [key], {});\n",
              "        if (!dataTable) return;\n",
              "\n",
              "        const docLinkHtml = 'Like what you see? Visit the ' +\n",
              "          '<a target=\"_blank\" href=https://colab.research.google.com/notebooks/data_table.ipynb>data table notebook</a>'\n",
              "          + ' to learn more about interactive tables.';\n",
              "        element.innerHTML = '';\n",
              "        dataTable['output_type'] = 'display_data';\n",
              "        await google.colab.output.renderOutput(dataTable, element);\n",
              "        const docLink = document.createElement('div');\n",
              "        docLink.innerHTML = docLinkHtml;\n",
              "        element.appendChild(docLink);\n",
              "      }\n",
              "    </script>\n",
              "  </div>\n",
              "\n",
              "\n",
              "<div id=\"df-faef45c7-bd05-46e8-b632-9d7073775373\">\n",
              "  <button class=\"colab-df-quickchart\" onclick=\"quickchart('df-faef45c7-bd05-46e8-b632-9d7073775373')\"\n",
              "            title=\"Suggest charts\"\n",
              "            style=\"display:none;\">\n",
              "\n",
              "<svg xmlns=\"http://www.w3.org/2000/svg\" height=\"24px\"viewBox=\"0 0 24 24\"\n",
              "     width=\"24px\">\n",
              "    <g>\n",
              "        <path d=\"M19 3H5c-1.1 0-2 .9-2 2v14c0 1.1.9 2 2 2h14c1.1 0 2-.9 2-2V5c0-1.1-.9-2-2-2zM9 17H7v-7h2v7zm4 0h-2V7h2v10zm4 0h-2v-4h2v4z\"/>\n",
              "    </g>\n",
              "</svg>\n",
              "  </button>\n",
              "\n",
              "<style>\n",
              "  .colab-df-quickchart {\n",
              "      --bg-color: #E8F0FE;\n",
              "      --fill-color: #1967D2;\n",
              "      --hover-bg-color: #E2EBFA;\n",
              "      --hover-fill-color: #174EA6;\n",
              "      --disabled-fill-color: #AAA;\n",
              "      --disabled-bg-color: #DDD;\n",
              "  }\n",
              "\n",
              "  [theme=dark] .colab-df-quickchart {\n",
              "      --bg-color: #3B4455;\n",
              "      --fill-color: #D2E3FC;\n",
              "      --hover-bg-color: #434B5C;\n",
              "      --hover-fill-color: #FFFFFF;\n",
              "      --disabled-bg-color: #3B4455;\n",
              "      --disabled-fill-color: #666;\n",
              "  }\n",
              "\n",
              "  .colab-df-quickchart {\n",
              "    background-color: var(--bg-color);\n",
              "    border: none;\n",
              "    border-radius: 50%;\n",
              "    cursor: pointer;\n",
              "    display: none;\n",
              "    fill: var(--fill-color);\n",
              "    height: 32px;\n",
              "    padding: 0;\n",
              "    width: 32px;\n",
              "  }\n",
              "\n",
              "  .colab-df-quickchart:hover {\n",
              "    background-color: var(--hover-bg-color);\n",
              "    box-shadow: 0 1px 2px rgba(60, 64, 67, 0.3), 0 1px 3px 1px rgba(60, 64, 67, 0.15);\n",
              "    fill: var(--button-hover-fill-color);\n",
              "  }\n",
              "\n",
              "  .colab-df-quickchart-complete:disabled,\n",
              "  .colab-df-quickchart-complete:disabled:hover {\n",
              "    background-color: var(--disabled-bg-color);\n",
              "    fill: var(--disabled-fill-color);\n",
              "    box-shadow: none;\n",
              "  }\n",
              "\n",
              "  .colab-df-spinner {\n",
              "    border: 2px solid var(--fill-color);\n",
              "    border-color: transparent;\n",
              "    border-bottom-color: var(--fill-color);\n",
              "    animation:\n",
              "      spin 1s steps(1) infinite;\n",
              "  }\n",
              "\n",
              "  @keyframes spin {\n",
              "    0% {\n",
              "      border-color: transparent;\n",
              "      border-bottom-color: var(--fill-color);\n",
              "      border-left-color: var(--fill-color);\n",
              "    }\n",
              "    20% {\n",
              "      border-color: transparent;\n",
              "      border-left-color: var(--fill-color);\n",
              "      border-top-color: var(--fill-color);\n",
              "    }\n",
              "    30% {\n",
              "      border-color: transparent;\n",
              "      border-left-color: var(--fill-color);\n",
              "      border-top-color: var(--fill-color);\n",
              "      border-right-color: var(--fill-color);\n",
              "    }\n",
              "    40% {\n",
              "      border-color: transparent;\n",
              "      border-right-color: var(--fill-color);\n",
              "      border-top-color: var(--fill-color);\n",
              "    }\n",
              "    60% {\n",
              "      border-color: transparent;\n",
              "      border-right-color: var(--fill-color);\n",
              "    }\n",
              "    80% {\n",
              "      border-color: transparent;\n",
              "      border-right-color: var(--fill-color);\n",
              "      border-bottom-color: var(--fill-color);\n",
              "    }\n",
              "    90% {\n",
              "      border-color: transparent;\n",
              "      border-bottom-color: var(--fill-color);\n",
              "    }\n",
              "  }\n",
              "</style>\n",
              "\n",
              "  <script>\n",
              "    async function quickchart(key) {\n",
              "      const quickchartButtonEl =\n",
              "        document.querySelector('#' + key + ' button');\n",
              "      quickchartButtonEl.disabled = true;  // To prevent multiple clicks.\n",
              "      quickchartButtonEl.classList.add('colab-df-spinner');\n",
              "      try {\n",
              "        const charts = await google.colab.kernel.invokeFunction(\n",
              "            'suggestCharts', [key], {});\n",
              "      } catch (error) {\n",
              "        console.error('Error during call to suggestCharts:', error);\n",
              "      }\n",
              "      quickchartButtonEl.classList.remove('colab-df-spinner');\n",
              "      quickchartButtonEl.classList.add('colab-df-quickchart-complete');\n",
              "    }\n",
              "    (() => {\n",
              "      let quickchartButtonEl =\n",
              "        document.querySelector('#df-faef45c7-bd05-46e8-b632-9d7073775373 button');\n",
              "      quickchartButtonEl.style.display =\n",
              "        google.colab.kernel.accessAllowed ? 'block' : 'none';\n",
              "    })();\n",
              "  </script>\n",
              "</div>\n",
              "    </div>\n",
              "  </div>\n"
            ],
            "application/vnd.google.colaboratory.intrinsic+json": {
              "type": "dataframe",
              "variable_name": "data",
              "summary": "{\n  \"name\": \"data\",\n  \"rows\": 53940,\n  \"fields\": [\n    {\n      \"column\": \"carat\",\n      \"properties\": {\n        \"dtype\": \"number\",\n        \"std\": 0.4740112444054184,\n        \"min\": 0.2,\n        \"max\": 5.01,\n        \"num_unique_values\": 273,\n        \"samples\": [\n          0.77,\n          1.58,\n          0.65\n        ],\n        \"semantic_type\": \"\",\n        \"description\": \"\"\n      }\n    },\n    {\n      \"column\": \"cut\",\n      \"properties\": {\n        \"dtype\": \"category\",\n        \"num_unique_values\": 5,\n        \"samples\": [\n          \"Premium\",\n          \"Fair\",\n          \"Good\"\n        ],\n        \"semantic_type\": \"\",\n        \"description\": \"\"\n      }\n    },\n    {\n      \"column\": \"color\",\n      \"properties\": {\n        \"dtype\": \"category\",\n        \"num_unique_values\": 7,\n        \"samples\": [\n          \"E\",\n          \"I\",\n          \"G\"\n        ],\n        \"semantic_type\": \"\",\n        \"description\": \"\"\n      }\n    },\n    {\n      \"column\": \"clarity\",\n      \"properties\": {\n        \"dtype\": \"category\",\n        \"num_unique_values\": 8,\n        \"samples\": [\n          \"SI1\",\n          \"VVS1\",\n          \"SI2\"\n        ],\n        \"semantic_type\": \"\",\n        \"description\": \"\"\n      }\n    },\n    {\n      \"column\": \"depth\",\n      \"properties\": {\n        \"dtype\": \"number\",\n        \"std\": 1.432621318833661,\n        \"min\": 43.0,\n        \"max\": 79.0,\n        \"num_unique_values\": 184,\n        \"samples\": [\n          61.0,\n          62.9,\n          70.2\n        ],\n        \"semantic_type\": \"\",\n        \"description\": \"\"\n      }\n    },\n    {\n      \"column\": \"table\",\n      \"properties\": {\n        \"dtype\": \"number\",\n        \"std\": 2.2344905628213225,\n        \"min\": 43.0,\n        \"max\": 95.0,\n        \"num_unique_values\": 127,\n        \"samples\": [\n          54.8,\n          61.5,\n          57.6\n        ],\n        \"semantic_type\": \"\",\n        \"description\": \"\"\n      }\n    },\n    {\n      \"column\": \"price\",\n      \"properties\": {\n        \"dtype\": \"number\",\n        \"std\": 3989,\n        \"min\": 326,\n        \"max\": 18823,\n        \"num_unique_values\": 11602,\n        \"samples\": [\n          16368,\n          895,\n          748\n        ],\n        \"semantic_type\": \"\",\n        \"description\": \"\"\n      }\n    },\n    {\n      \"column\": \"x\",\n      \"properties\": {\n        \"dtype\": \"number\",\n        \"std\": 1.1217607467924928,\n        \"min\": 0.0,\n        \"max\": 10.74,\n        \"num_unique_values\": 554,\n        \"samples\": [\n          5.88,\n          5.69,\n          4.61\n        ],\n        \"semantic_type\": \"\",\n        \"description\": \"\"\n      }\n    },\n    {\n      \"column\": \"y\",\n      \"properties\": {\n        \"dtype\": \"number\",\n        \"std\": 1.1421346741235552,\n        \"min\": 0.0,\n        \"max\": 58.9,\n        \"num_unique_values\": 552,\n        \"samples\": [\n          5.33,\n          5.61,\n          5.25\n        ],\n        \"semantic_type\": \"\",\n        \"description\": \"\"\n      }\n    },\n    {\n      \"column\": \"z\",\n      \"properties\": {\n        \"dtype\": \"number\",\n        \"std\": 0.7056988469499941,\n        \"min\": 0.0,\n        \"max\": 31.8,\n        \"num_unique_values\": 375,\n        \"samples\": [\n          3.36,\n          2.45,\n          2.7\n        ],\n        \"semantic_type\": \"\",\n        \"description\": \"\"\n      }\n    }\n  ]\n}"
            }
          },
          "metadata": {},
          "execution_count": 26
        }
      ]
    },
    {
      "cell_type": "markdown",
      "source": [
        "Пропусков в данных нет, признак Unnamed не имеет никакого смысла и его можно удалить."
      ],
      "metadata": {
        "id": "CMc39JoTag9n"
      }
    },
    {
      "cell_type": "markdown",
      "metadata": {
        "id": "qyTZyrrfgFQ1"
      },
      "source": [
        "**Задача 3.2 (0.1 балла)** Линейная регрессия основана на предположении о линейной связи между признаками и целевой переменной, а потому перед выбором переменных для включения в модель имеет смысл проверить, насколько эта связь выполняется. Для следующих пунктов нам также потребуются выборочные корреляции между признаками. Выведите матрицу выборочных корреляций между всеми вещественными признаками и целевой переменной (то есть в этой матрице будет $k+1$ строка, где $k$ – количество вещественных признаков).\n",
        "\n",
        "Какие вещественные признаки коррелируют с целевой переменной больше всего?"
      ]
    },
    {
      "cell_type": "code",
      "execution_count": 27,
      "metadata": {
        "id": "dJiOlnVkgFQ1",
        "colab": {
          "base_uri": "https://localhost:8080/",
          "height": 306
        },
        "outputId": "f8331dd3-8596-4ddb-ba9e-bb73ab1d76ee"
      },
      "outputs": [
        {
          "output_type": "stream",
          "name": "stderr",
          "text": [
            "<ipython-input-27-c44ded798807>:1: FutureWarning: The default value of numeric_only in DataFrame.corr is deprecated. In a future version, it will default to False. Select only valid columns or specify the value of numeric_only to silence this warning.\n",
            "  data.corr()\n"
          ]
        },
        {
          "output_type": "execute_result",
          "data": {
            "text/plain": [
              "          carat     depth     table     price         x         y         z\n",
              "carat  1.000000  0.028224  0.181618  0.921591  0.975094  0.951722  0.953387\n",
              "depth  0.028224  1.000000 -0.295779 -0.010647 -0.025289 -0.029341  0.094924\n",
              "table  0.181618 -0.295779  1.000000  0.127134  0.195344  0.183760  0.150929\n",
              "price  0.921591 -0.010647  0.127134  1.000000  0.884435  0.865421  0.861249\n",
              "x      0.975094 -0.025289  0.195344  0.884435  1.000000  0.974701  0.970772\n",
              "y      0.951722 -0.029341  0.183760  0.865421  0.974701  1.000000  0.952006\n",
              "z      0.953387  0.094924  0.150929  0.861249  0.970772  0.952006  1.000000"
            ],
            "text/html": [
              "\n",
              "  <div id=\"df-1c164aea-f2f2-45c9-af4c-48192f4712cd\" class=\"colab-df-container\">\n",
              "    <div>\n",
              "<style scoped>\n",
              "    .dataframe tbody tr th:only-of-type {\n",
              "        vertical-align: middle;\n",
              "    }\n",
              "\n",
              "    .dataframe tbody tr th {\n",
              "        vertical-align: top;\n",
              "    }\n",
              "\n",
              "    .dataframe thead th {\n",
              "        text-align: right;\n",
              "    }\n",
              "</style>\n",
              "<table border=\"1\" class=\"dataframe\">\n",
              "  <thead>\n",
              "    <tr style=\"text-align: right;\">\n",
              "      <th></th>\n",
              "      <th>carat</th>\n",
              "      <th>depth</th>\n",
              "      <th>table</th>\n",
              "      <th>price</th>\n",
              "      <th>x</th>\n",
              "      <th>y</th>\n",
              "      <th>z</th>\n",
              "    </tr>\n",
              "  </thead>\n",
              "  <tbody>\n",
              "    <tr>\n",
              "      <th>carat</th>\n",
              "      <td>1.000000</td>\n",
              "      <td>0.028224</td>\n",
              "      <td>0.181618</td>\n",
              "      <td>0.921591</td>\n",
              "      <td>0.975094</td>\n",
              "      <td>0.951722</td>\n",
              "      <td>0.953387</td>\n",
              "    </tr>\n",
              "    <tr>\n",
              "      <th>depth</th>\n",
              "      <td>0.028224</td>\n",
              "      <td>1.000000</td>\n",
              "      <td>-0.295779</td>\n",
              "      <td>-0.010647</td>\n",
              "      <td>-0.025289</td>\n",
              "      <td>-0.029341</td>\n",
              "      <td>0.094924</td>\n",
              "    </tr>\n",
              "    <tr>\n",
              "      <th>table</th>\n",
              "      <td>0.181618</td>\n",
              "      <td>-0.295779</td>\n",
              "      <td>1.000000</td>\n",
              "      <td>0.127134</td>\n",
              "      <td>0.195344</td>\n",
              "      <td>0.183760</td>\n",
              "      <td>0.150929</td>\n",
              "    </tr>\n",
              "    <tr>\n",
              "      <th>price</th>\n",
              "      <td>0.921591</td>\n",
              "      <td>-0.010647</td>\n",
              "      <td>0.127134</td>\n",
              "      <td>1.000000</td>\n",
              "      <td>0.884435</td>\n",
              "      <td>0.865421</td>\n",
              "      <td>0.861249</td>\n",
              "    </tr>\n",
              "    <tr>\n",
              "      <th>x</th>\n",
              "      <td>0.975094</td>\n",
              "      <td>-0.025289</td>\n",
              "      <td>0.195344</td>\n",
              "      <td>0.884435</td>\n",
              "      <td>1.000000</td>\n",
              "      <td>0.974701</td>\n",
              "      <td>0.970772</td>\n",
              "    </tr>\n",
              "    <tr>\n",
              "      <th>y</th>\n",
              "      <td>0.951722</td>\n",
              "      <td>-0.029341</td>\n",
              "      <td>0.183760</td>\n",
              "      <td>0.865421</td>\n",
              "      <td>0.974701</td>\n",
              "      <td>1.000000</td>\n",
              "      <td>0.952006</td>\n",
              "    </tr>\n",
              "    <tr>\n",
              "      <th>z</th>\n",
              "      <td>0.953387</td>\n",
              "      <td>0.094924</td>\n",
              "      <td>0.150929</td>\n",
              "      <td>0.861249</td>\n",
              "      <td>0.970772</td>\n",
              "      <td>0.952006</td>\n",
              "      <td>1.000000</td>\n",
              "    </tr>\n",
              "  </tbody>\n",
              "</table>\n",
              "</div>\n",
              "    <div class=\"colab-df-buttons\">\n",
              "\n",
              "  <div class=\"colab-df-container\">\n",
              "    <button class=\"colab-df-convert\" onclick=\"convertToInteractive('df-1c164aea-f2f2-45c9-af4c-48192f4712cd')\"\n",
              "            title=\"Convert this dataframe to an interactive table.\"\n",
              "            style=\"display:none;\">\n",
              "\n",
              "  <svg xmlns=\"http://www.w3.org/2000/svg\" height=\"24px\" viewBox=\"0 -960 960 960\">\n",
              "    <path d=\"M120-120v-720h720v720H120Zm60-500h600v-160H180v160Zm220 220h160v-160H400v160Zm0 220h160v-160H400v160ZM180-400h160v-160H180v160Zm440 0h160v-160H620v160ZM180-180h160v-160H180v160Zm440 0h160v-160H620v160Z\"/>\n",
              "  </svg>\n",
              "    </button>\n",
              "\n",
              "  <style>\n",
              "    .colab-df-container {\n",
              "      display:flex;\n",
              "      gap: 12px;\n",
              "    }\n",
              "\n",
              "    .colab-df-convert {\n",
              "      background-color: #E8F0FE;\n",
              "      border: none;\n",
              "      border-radius: 50%;\n",
              "      cursor: pointer;\n",
              "      display: none;\n",
              "      fill: #1967D2;\n",
              "      height: 32px;\n",
              "      padding: 0 0 0 0;\n",
              "      width: 32px;\n",
              "    }\n",
              "\n",
              "    .colab-df-convert:hover {\n",
              "      background-color: #E2EBFA;\n",
              "      box-shadow: 0px 1px 2px rgba(60, 64, 67, 0.3), 0px 1px 3px 1px rgba(60, 64, 67, 0.15);\n",
              "      fill: #174EA6;\n",
              "    }\n",
              "\n",
              "    .colab-df-buttons div {\n",
              "      margin-bottom: 4px;\n",
              "    }\n",
              "\n",
              "    [theme=dark] .colab-df-convert {\n",
              "      background-color: #3B4455;\n",
              "      fill: #D2E3FC;\n",
              "    }\n",
              "\n",
              "    [theme=dark] .colab-df-convert:hover {\n",
              "      background-color: #434B5C;\n",
              "      box-shadow: 0px 1px 3px 1px rgba(0, 0, 0, 0.15);\n",
              "      filter: drop-shadow(0px 1px 2px rgba(0, 0, 0, 0.3));\n",
              "      fill: #FFFFFF;\n",
              "    }\n",
              "  </style>\n",
              "\n",
              "    <script>\n",
              "      const buttonEl =\n",
              "        document.querySelector('#df-1c164aea-f2f2-45c9-af4c-48192f4712cd button.colab-df-convert');\n",
              "      buttonEl.style.display =\n",
              "        google.colab.kernel.accessAllowed ? 'block' : 'none';\n",
              "\n",
              "      async function convertToInteractive(key) {\n",
              "        const element = document.querySelector('#df-1c164aea-f2f2-45c9-af4c-48192f4712cd');\n",
              "        const dataTable =\n",
              "          await google.colab.kernel.invokeFunction('convertToInteractive',\n",
              "                                                    [key], {});\n",
              "        if (!dataTable) return;\n",
              "\n",
              "        const docLinkHtml = 'Like what you see? Visit the ' +\n",
              "          '<a target=\"_blank\" href=https://colab.research.google.com/notebooks/data_table.ipynb>data table notebook</a>'\n",
              "          + ' to learn more about interactive tables.';\n",
              "        element.innerHTML = '';\n",
              "        dataTable['output_type'] = 'display_data';\n",
              "        await google.colab.output.renderOutput(dataTable, element);\n",
              "        const docLink = document.createElement('div');\n",
              "        docLink.innerHTML = docLinkHtml;\n",
              "        element.appendChild(docLink);\n",
              "      }\n",
              "    </script>\n",
              "  </div>\n",
              "\n",
              "\n",
              "<div id=\"df-c3d8ac14-d2da-4406-9fd0-d4462785f789\">\n",
              "  <button class=\"colab-df-quickchart\" onclick=\"quickchart('df-c3d8ac14-d2da-4406-9fd0-d4462785f789')\"\n",
              "            title=\"Suggest charts\"\n",
              "            style=\"display:none;\">\n",
              "\n",
              "<svg xmlns=\"http://www.w3.org/2000/svg\" height=\"24px\"viewBox=\"0 0 24 24\"\n",
              "     width=\"24px\">\n",
              "    <g>\n",
              "        <path d=\"M19 3H5c-1.1 0-2 .9-2 2v14c0 1.1.9 2 2 2h14c1.1 0 2-.9 2-2V5c0-1.1-.9-2-2-2zM9 17H7v-7h2v7zm4 0h-2V7h2v10zm4 0h-2v-4h2v4z\"/>\n",
              "    </g>\n",
              "</svg>\n",
              "  </button>\n",
              "\n",
              "<style>\n",
              "  .colab-df-quickchart {\n",
              "      --bg-color: #E8F0FE;\n",
              "      --fill-color: #1967D2;\n",
              "      --hover-bg-color: #E2EBFA;\n",
              "      --hover-fill-color: #174EA6;\n",
              "      --disabled-fill-color: #AAA;\n",
              "      --disabled-bg-color: #DDD;\n",
              "  }\n",
              "\n",
              "  [theme=dark] .colab-df-quickchart {\n",
              "      --bg-color: #3B4455;\n",
              "      --fill-color: #D2E3FC;\n",
              "      --hover-bg-color: #434B5C;\n",
              "      --hover-fill-color: #FFFFFF;\n",
              "      --disabled-bg-color: #3B4455;\n",
              "      --disabled-fill-color: #666;\n",
              "  }\n",
              "\n",
              "  .colab-df-quickchart {\n",
              "    background-color: var(--bg-color);\n",
              "    border: none;\n",
              "    border-radius: 50%;\n",
              "    cursor: pointer;\n",
              "    display: none;\n",
              "    fill: var(--fill-color);\n",
              "    height: 32px;\n",
              "    padding: 0;\n",
              "    width: 32px;\n",
              "  }\n",
              "\n",
              "  .colab-df-quickchart:hover {\n",
              "    background-color: var(--hover-bg-color);\n",
              "    box-shadow: 0 1px 2px rgba(60, 64, 67, 0.3), 0 1px 3px 1px rgba(60, 64, 67, 0.15);\n",
              "    fill: var(--button-hover-fill-color);\n",
              "  }\n",
              "\n",
              "  .colab-df-quickchart-complete:disabled,\n",
              "  .colab-df-quickchart-complete:disabled:hover {\n",
              "    background-color: var(--disabled-bg-color);\n",
              "    fill: var(--disabled-fill-color);\n",
              "    box-shadow: none;\n",
              "  }\n",
              "\n",
              "  .colab-df-spinner {\n",
              "    border: 2px solid var(--fill-color);\n",
              "    border-color: transparent;\n",
              "    border-bottom-color: var(--fill-color);\n",
              "    animation:\n",
              "      spin 1s steps(1) infinite;\n",
              "  }\n",
              "\n",
              "  @keyframes spin {\n",
              "    0% {\n",
              "      border-color: transparent;\n",
              "      border-bottom-color: var(--fill-color);\n",
              "      border-left-color: var(--fill-color);\n",
              "    }\n",
              "    20% {\n",
              "      border-color: transparent;\n",
              "      border-left-color: var(--fill-color);\n",
              "      border-top-color: var(--fill-color);\n",
              "    }\n",
              "    30% {\n",
              "      border-color: transparent;\n",
              "      border-left-color: var(--fill-color);\n",
              "      border-top-color: var(--fill-color);\n",
              "      border-right-color: var(--fill-color);\n",
              "    }\n",
              "    40% {\n",
              "      border-color: transparent;\n",
              "      border-right-color: var(--fill-color);\n",
              "      border-top-color: var(--fill-color);\n",
              "    }\n",
              "    60% {\n",
              "      border-color: transparent;\n",
              "      border-right-color: var(--fill-color);\n",
              "    }\n",
              "    80% {\n",
              "      border-color: transparent;\n",
              "      border-right-color: var(--fill-color);\n",
              "      border-bottom-color: var(--fill-color);\n",
              "    }\n",
              "    90% {\n",
              "      border-color: transparent;\n",
              "      border-bottom-color: var(--fill-color);\n",
              "    }\n",
              "  }\n",
              "</style>\n",
              "\n",
              "  <script>\n",
              "    async function quickchart(key) {\n",
              "      const quickchartButtonEl =\n",
              "        document.querySelector('#' + key + ' button');\n",
              "      quickchartButtonEl.disabled = true;  // To prevent multiple clicks.\n",
              "      quickchartButtonEl.classList.add('colab-df-spinner');\n",
              "      try {\n",
              "        const charts = await google.colab.kernel.invokeFunction(\n",
              "            'suggestCharts', [key], {});\n",
              "      } catch (error) {\n",
              "        console.error('Error during call to suggestCharts:', error);\n",
              "      }\n",
              "      quickchartButtonEl.classList.remove('colab-df-spinner');\n",
              "      quickchartButtonEl.classList.add('colab-df-quickchart-complete');\n",
              "    }\n",
              "    (() => {\n",
              "      let quickchartButtonEl =\n",
              "        document.querySelector('#df-c3d8ac14-d2da-4406-9fd0-d4462785f789 button');\n",
              "      quickchartButtonEl.style.display =\n",
              "        google.colab.kernel.accessAllowed ? 'block' : 'none';\n",
              "    })();\n",
              "  </script>\n",
              "</div>\n",
              "    </div>\n",
              "  </div>\n"
            ],
            "application/vnd.google.colaboratory.intrinsic+json": {
              "type": "dataframe",
              "summary": "{\n  \"name\": \"data\",\n  \"rows\": 7,\n  \"fields\": [\n    {\n      \"column\": \"carat\",\n      \"properties\": {\n        \"dtype\": \"number\",\n        \"std\": 0.42043059408195754,\n        \"min\": 0.028224314279026518,\n        \"max\": 1.0,\n        \"num_unique_values\": 7,\n        \"samples\": [\n          1.0,\n          0.028224314279026518,\n          0.9517221990129883\n        ],\n        \"semantic_type\": \"\",\n        \"description\": \"\"\n      }\n    },\n    {\n      \"column\": \"depth\",\n      \"properties\": {\n        \"dtype\": \"number\",\n        \"std\": 0.4114884823700745,\n        \"min\": -0.2957785215265925,\n        \"max\": 1.0,\n        \"num_unique_values\": 7,\n        \"samples\": [\n          0.028224314279026518,\n          1.0,\n          -0.029340670703632984\n        ],\n        \"semantic_type\": \"\",\n        \"description\": \"\"\n      }\n    },\n    {\n      \"column\": \"table\",\n      \"properties\": {\n        \"dtype\": \"number\",\n        \"std\": 0.3854035967450122,\n        \"min\": -0.2957785215265925,\n        \"max\": 1.0,\n        \"num_unique_values\": 7,\n        \"samples\": [\n          0.18161754651523193,\n          -0.2957785215265925,\n          0.18376014711635102\n        ],\n        \"semantic_type\": \"\",\n        \"description\": \"\"\n      }\n    },\n    {\n      \"column\": \"price\",\n      \"properties\": {\n        \"dtype\": \"number\",\n        \"std\": 0.41846799706252813,\n        \"min\": -0.010647404584155393,\n        \"max\": 1.0,\n        \"num_unique_values\": 7,\n        \"samples\": [\n          0.9215913011934687,\n          -0.010647404584155393,\n          0.8654208978641909\n        ],\n        \"semantic_type\": \"\",\n        \"description\": \"\"\n      }\n    },\n    {\n      \"column\": \"x\",\n      \"properties\": {\n        \"dtype\": \"number\",\n        \"std\": 0.4336643306849981,\n        \"min\": -0.025289246978973112,\n        \"max\": 1.0,\n        \"num_unique_values\": 7,\n        \"samples\": [\n          0.9750942267264254,\n          -0.025289246978973112,\n          0.9747014796703515\n        ],\n        \"semantic_type\": \"\",\n        \"description\": \"\"\n      }\n    },\n    {\n      \"column\": \"y\",\n      \"properties\": {\n        \"dtype\": \"number\",\n        \"std\": 0.4316898761092159,\n        \"min\": -0.029340670703632984,\n        \"max\": 1.0,\n        \"num_unique_values\": 7,\n        \"samples\": [\n          0.9517221990129883,\n          -0.029340670703632984,\n          1.0\n        ],\n        \"semantic_type\": \"\",\n        \"description\": \"\"\n      }\n    },\n    {\n      \"column\": \"z\",\n      \"properties\": {\n        \"dtype\": \"number\",\n        \"std\": 0.4048943736343492,\n        \"min\": 0.09492388239528399,\n        \"max\": 1.0,\n        \"num_unique_values\": 7,\n        \"samples\": [\n          0.9533873805614275,\n          0.09492388239528399,\n          0.9520057161562947\n        ],\n        \"semantic_type\": \"\",\n        \"description\": \"\"\n      }\n    }\n  ]\n}"
            }
          },
          "metadata": {},
          "execution_count": 27
        }
      ],
      "source": [
        "data.corr()"
      ]
    },
    {
      "cell_type": "markdown",
      "source": [
        "С целевой переменной price лучше всего коррелируют признаки карат, и значения по x, y, z"
      ],
      "metadata": {
        "id": "K-1bMczAbN8l"
      }
    },
    {
      "cell_type": "markdown",
      "metadata": {
        "id": "49JVZnTUgFQ2"
      },
      "source": [
        "**Задача 3.3 (0.1 балла)** Так как линейная модель складывает значения признаков с некоторыми весами, нам нужно аккуратно обработать категориальные признаки. Закодируйте категориальные переменные при помощи OneHot-кодирования."
      ]
    },
    {
      "cell_type": "code",
      "execution_count": 28,
      "metadata": {
        "id": "uujOkneZgFQ2",
        "colab": {
          "base_uri": "https://localhost:8080/",
          "height": 423
        },
        "outputId": "f24b3508-8570-4ff1-c7b0-9561c7d4d3ac"
      },
      "outputs": [
        {
          "output_type": "execute_result",
          "data": {
            "text/plain": [
              "       carat  depth  table  price     x     y     z  cut_Fair  cut_Good  \\\n",
              "0       0.23   61.5   55.0    326  3.95  3.98  2.43         0         0   \n",
              "1       0.21   59.8   61.0    326  3.89  3.84  2.31         0         0   \n",
              "2       0.23   56.9   65.0    327  4.05  4.07  2.31         0         1   \n",
              "3       0.29   62.4   58.0    334  4.20  4.23  2.63         0         0   \n",
              "4       0.31   63.3   58.0    335  4.34  4.35  2.75         0         1   \n",
              "...      ...    ...    ...    ...   ...   ...   ...       ...       ...   \n",
              "53935   0.72   60.8   57.0   2757  5.75  5.76  3.50         0         0   \n",
              "53936   0.72   63.1   55.0   2757  5.69  5.75  3.61         0         1   \n",
              "53937   0.70   62.8   60.0   2757  5.66  5.68  3.56         0         0   \n",
              "53938   0.86   61.0   58.0   2757  6.15  6.12  3.74         0         0   \n",
              "53939   0.75   62.2   55.0   2757  5.83  5.87  3.64         0         0   \n",
              "\n",
              "       cut_Ideal  ...  color_I  color_J  clarity_I1  clarity_IF  clarity_SI1  \\\n",
              "0              1  ...        0        0           0           0            0   \n",
              "1              0  ...        0        0           0           0            1   \n",
              "2              0  ...        0        0           0           0            0   \n",
              "3              0  ...        1        0           0           0            0   \n",
              "4              0  ...        0        1           0           0            0   \n",
              "...          ...  ...      ...      ...         ...         ...          ...   \n",
              "53935          1  ...        0        0           0           0            1   \n",
              "53936          0  ...        0        0           0           0            1   \n",
              "53937          0  ...        0        0           0           0            1   \n",
              "53938          0  ...        0        0           0           0            0   \n",
              "53939          1  ...        0        0           0           0            0   \n",
              "\n",
              "       clarity_SI2  clarity_VS1  clarity_VS2  clarity_VVS1  clarity_VVS2  \n",
              "0                1            0            0             0             0  \n",
              "1                0            0            0             0             0  \n",
              "2                0            1            0             0             0  \n",
              "3                0            0            1             0             0  \n",
              "4                1            0            0             0             0  \n",
              "...            ...          ...          ...           ...           ...  \n",
              "53935            0            0            0             0             0  \n",
              "53936            0            0            0             0             0  \n",
              "53937            0            0            0             0             0  \n",
              "53938            1            0            0             0             0  \n",
              "53939            1            0            0             0             0  \n",
              "\n",
              "[53940 rows x 27 columns]"
            ],
            "text/html": [
              "\n",
              "  <div id=\"df-c8f23e9c-8325-4549-afd2-40dc869ad68d\" class=\"colab-df-container\">\n",
              "    <div>\n",
              "<style scoped>\n",
              "    .dataframe tbody tr th:only-of-type {\n",
              "        vertical-align: middle;\n",
              "    }\n",
              "\n",
              "    .dataframe tbody tr th {\n",
              "        vertical-align: top;\n",
              "    }\n",
              "\n",
              "    .dataframe thead th {\n",
              "        text-align: right;\n",
              "    }\n",
              "</style>\n",
              "<table border=\"1\" class=\"dataframe\">\n",
              "  <thead>\n",
              "    <tr style=\"text-align: right;\">\n",
              "      <th></th>\n",
              "      <th>carat</th>\n",
              "      <th>depth</th>\n",
              "      <th>table</th>\n",
              "      <th>price</th>\n",
              "      <th>x</th>\n",
              "      <th>y</th>\n",
              "      <th>z</th>\n",
              "      <th>cut_Fair</th>\n",
              "      <th>cut_Good</th>\n",
              "      <th>cut_Ideal</th>\n",
              "      <th>...</th>\n",
              "      <th>color_I</th>\n",
              "      <th>color_J</th>\n",
              "      <th>clarity_I1</th>\n",
              "      <th>clarity_IF</th>\n",
              "      <th>clarity_SI1</th>\n",
              "      <th>clarity_SI2</th>\n",
              "      <th>clarity_VS1</th>\n",
              "      <th>clarity_VS2</th>\n",
              "      <th>clarity_VVS1</th>\n",
              "      <th>clarity_VVS2</th>\n",
              "    </tr>\n",
              "  </thead>\n",
              "  <tbody>\n",
              "    <tr>\n",
              "      <th>0</th>\n",
              "      <td>0.23</td>\n",
              "      <td>61.5</td>\n",
              "      <td>55.0</td>\n",
              "      <td>326</td>\n",
              "      <td>3.95</td>\n",
              "      <td>3.98</td>\n",
              "      <td>2.43</td>\n",
              "      <td>0</td>\n",
              "      <td>0</td>\n",
              "      <td>1</td>\n",
              "      <td>...</td>\n",
              "      <td>0</td>\n",
              "      <td>0</td>\n",
              "      <td>0</td>\n",
              "      <td>0</td>\n",
              "      <td>0</td>\n",
              "      <td>1</td>\n",
              "      <td>0</td>\n",
              "      <td>0</td>\n",
              "      <td>0</td>\n",
              "      <td>0</td>\n",
              "    </tr>\n",
              "    <tr>\n",
              "      <th>1</th>\n",
              "      <td>0.21</td>\n",
              "      <td>59.8</td>\n",
              "      <td>61.0</td>\n",
              "      <td>326</td>\n",
              "      <td>3.89</td>\n",
              "      <td>3.84</td>\n",
              "      <td>2.31</td>\n",
              "      <td>0</td>\n",
              "      <td>0</td>\n",
              "      <td>0</td>\n",
              "      <td>...</td>\n",
              "      <td>0</td>\n",
              "      <td>0</td>\n",
              "      <td>0</td>\n",
              "      <td>0</td>\n",
              "      <td>1</td>\n",
              "      <td>0</td>\n",
              "      <td>0</td>\n",
              "      <td>0</td>\n",
              "      <td>0</td>\n",
              "      <td>0</td>\n",
              "    </tr>\n",
              "    <tr>\n",
              "      <th>2</th>\n",
              "      <td>0.23</td>\n",
              "      <td>56.9</td>\n",
              "      <td>65.0</td>\n",
              "      <td>327</td>\n",
              "      <td>4.05</td>\n",
              "      <td>4.07</td>\n",
              "      <td>2.31</td>\n",
              "      <td>0</td>\n",
              "      <td>1</td>\n",
              "      <td>0</td>\n",
              "      <td>...</td>\n",
              "      <td>0</td>\n",
              "      <td>0</td>\n",
              "      <td>0</td>\n",
              "      <td>0</td>\n",
              "      <td>0</td>\n",
              "      <td>0</td>\n",
              "      <td>1</td>\n",
              "      <td>0</td>\n",
              "      <td>0</td>\n",
              "      <td>0</td>\n",
              "    </tr>\n",
              "    <tr>\n",
              "      <th>3</th>\n",
              "      <td>0.29</td>\n",
              "      <td>62.4</td>\n",
              "      <td>58.0</td>\n",
              "      <td>334</td>\n",
              "      <td>4.20</td>\n",
              "      <td>4.23</td>\n",
              "      <td>2.63</td>\n",
              "      <td>0</td>\n",
              "      <td>0</td>\n",
              "      <td>0</td>\n",
              "      <td>...</td>\n",
              "      <td>1</td>\n",
              "      <td>0</td>\n",
              "      <td>0</td>\n",
              "      <td>0</td>\n",
              "      <td>0</td>\n",
              "      <td>0</td>\n",
              "      <td>0</td>\n",
              "      <td>1</td>\n",
              "      <td>0</td>\n",
              "      <td>0</td>\n",
              "    </tr>\n",
              "    <tr>\n",
              "      <th>4</th>\n",
              "      <td>0.31</td>\n",
              "      <td>63.3</td>\n",
              "      <td>58.0</td>\n",
              "      <td>335</td>\n",
              "      <td>4.34</td>\n",
              "      <td>4.35</td>\n",
              "      <td>2.75</td>\n",
              "      <td>0</td>\n",
              "      <td>1</td>\n",
              "      <td>0</td>\n",
              "      <td>...</td>\n",
              "      <td>0</td>\n",
              "      <td>1</td>\n",
              "      <td>0</td>\n",
              "      <td>0</td>\n",
              "      <td>0</td>\n",
              "      <td>1</td>\n",
              "      <td>0</td>\n",
              "      <td>0</td>\n",
              "      <td>0</td>\n",
              "      <td>0</td>\n",
              "    </tr>\n",
              "    <tr>\n",
              "      <th>...</th>\n",
              "      <td>...</td>\n",
              "      <td>...</td>\n",
              "      <td>...</td>\n",
              "      <td>...</td>\n",
              "      <td>...</td>\n",
              "      <td>...</td>\n",
              "      <td>...</td>\n",
              "      <td>...</td>\n",
              "      <td>...</td>\n",
              "      <td>...</td>\n",
              "      <td>...</td>\n",
              "      <td>...</td>\n",
              "      <td>...</td>\n",
              "      <td>...</td>\n",
              "      <td>...</td>\n",
              "      <td>...</td>\n",
              "      <td>...</td>\n",
              "      <td>...</td>\n",
              "      <td>...</td>\n",
              "      <td>...</td>\n",
              "      <td>...</td>\n",
              "    </tr>\n",
              "    <tr>\n",
              "      <th>53935</th>\n",
              "      <td>0.72</td>\n",
              "      <td>60.8</td>\n",
              "      <td>57.0</td>\n",
              "      <td>2757</td>\n",
              "      <td>5.75</td>\n",
              "      <td>5.76</td>\n",
              "      <td>3.50</td>\n",
              "      <td>0</td>\n",
              "      <td>0</td>\n",
              "      <td>1</td>\n",
              "      <td>...</td>\n",
              "      <td>0</td>\n",
              "      <td>0</td>\n",
              "      <td>0</td>\n",
              "      <td>0</td>\n",
              "      <td>1</td>\n",
              "      <td>0</td>\n",
              "      <td>0</td>\n",
              "      <td>0</td>\n",
              "      <td>0</td>\n",
              "      <td>0</td>\n",
              "    </tr>\n",
              "    <tr>\n",
              "      <th>53936</th>\n",
              "      <td>0.72</td>\n",
              "      <td>63.1</td>\n",
              "      <td>55.0</td>\n",
              "      <td>2757</td>\n",
              "      <td>5.69</td>\n",
              "      <td>5.75</td>\n",
              "      <td>3.61</td>\n",
              "      <td>0</td>\n",
              "      <td>1</td>\n",
              "      <td>0</td>\n",
              "      <td>...</td>\n",
              "      <td>0</td>\n",
              "      <td>0</td>\n",
              "      <td>0</td>\n",
              "      <td>0</td>\n",
              "      <td>1</td>\n",
              "      <td>0</td>\n",
              "      <td>0</td>\n",
              "      <td>0</td>\n",
              "      <td>0</td>\n",
              "      <td>0</td>\n",
              "    </tr>\n",
              "    <tr>\n",
              "      <th>53937</th>\n",
              "      <td>0.70</td>\n",
              "      <td>62.8</td>\n",
              "      <td>60.0</td>\n",
              "      <td>2757</td>\n",
              "      <td>5.66</td>\n",
              "      <td>5.68</td>\n",
              "      <td>3.56</td>\n",
              "      <td>0</td>\n",
              "      <td>0</td>\n",
              "      <td>0</td>\n",
              "      <td>...</td>\n",
              "      <td>0</td>\n",
              "      <td>0</td>\n",
              "      <td>0</td>\n",
              "      <td>0</td>\n",
              "      <td>1</td>\n",
              "      <td>0</td>\n",
              "      <td>0</td>\n",
              "      <td>0</td>\n",
              "      <td>0</td>\n",
              "      <td>0</td>\n",
              "    </tr>\n",
              "    <tr>\n",
              "      <th>53938</th>\n",
              "      <td>0.86</td>\n",
              "      <td>61.0</td>\n",
              "      <td>58.0</td>\n",
              "      <td>2757</td>\n",
              "      <td>6.15</td>\n",
              "      <td>6.12</td>\n",
              "      <td>3.74</td>\n",
              "      <td>0</td>\n",
              "      <td>0</td>\n",
              "      <td>0</td>\n",
              "      <td>...</td>\n",
              "      <td>0</td>\n",
              "      <td>0</td>\n",
              "      <td>0</td>\n",
              "      <td>0</td>\n",
              "      <td>0</td>\n",
              "      <td>1</td>\n",
              "      <td>0</td>\n",
              "      <td>0</td>\n",
              "      <td>0</td>\n",
              "      <td>0</td>\n",
              "    </tr>\n",
              "    <tr>\n",
              "      <th>53939</th>\n",
              "      <td>0.75</td>\n",
              "      <td>62.2</td>\n",
              "      <td>55.0</td>\n",
              "      <td>2757</td>\n",
              "      <td>5.83</td>\n",
              "      <td>5.87</td>\n",
              "      <td>3.64</td>\n",
              "      <td>0</td>\n",
              "      <td>0</td>\n",
              "      <td>1</td>\n",
              "      <td>...</td>\n",
              "      <td>0</td>\n",
              "      <td>0</td>\n",
              "      <td>0</td>\n",
              "      <td>0</td>\n",
              "      <td>0</td>\n",
              "      <td>1</td>\n",
              "      <td>0</td>\n",
              "      <td>0</td>\n",
              "      <td>0</td>\n",
              "      <td>0</td>\n",
              "    </tr>\n",
              "  </tbody>\n",
              "</table>\n",
              "<p>53940 rows × 27 columns</p>\n",
              "</div>\n",
              "    <div class=\"colab-df-buttons\">\n",
              "\n",
              "  <div class=\"colab-df-container\">\n",
              "    <button class=\"colab-df-convert\" onclick=\"convertToInteractive('df-c8f23e9c-8325-4549-afd2-40dc869ad68d')\"\n",
              "            title=\"Convert this dataframe to an interactive table.\"\n",
              "            style=\"display:none;\">\n",
              "\n",
              "  <svg xmlns=\"http://www.w3.org/2000/svg\" height=\"24px\" viewBox=\"0 -960 960 960\">\n",
              "    <path d=\"M120-120v-720h720v720H120Zm60-500h600v-160H180v160Zm220 220h160v-160H400v160Zm0 220h160v-160H400v160ZM180-400h160v-160H180v160Zm440 0h160v-160H620v160ZM180-180h160v-160H180v160Zm440 0h160v-160H620v160Z\"/>\n",
              "  </svg>\n",
              "    </button>\n",
              "\n",
              "  <style>\n",
              "    .colab-df-container {\n",
              "      display:flex;\n",
              "      gap: 12px;\n",
              "    }\n",
              "\n",
              "    .colab-df-convert {\n",
              "      background-color: #E8F0FE;\n",
              "      border: none;\n",
              "      border-radius: 50%;\n",
              "      cursor: pointer;\n",
              "      display: none;\n",
              "      fill: #1967D2;\n",
              "      height: 32px;\n",
              "      padding: 0 0 0 0;\n",
              "      width: 32px;\n",
              "    }\n",
              "\n",
              "    .colab-df-convert:hover {\n",
              "      background-color: #E2EBFA;\n",
              "      box-shadow: 0px 1px 2px rgba(60, 64, 67, 0.3), 0px 1px 3px 1px rgba(60, 64, 67, 0.15);\n",
              "      fill: #174EA6;\n",
              "    }\n",
              "\n",
              "    .colab-df-buttons div {\n",
              "      margin-bottom: 4px;\n",
              "    }\n",
              "\n",
              "    [theme=dark] .colab-df-convert {\n",
              "      background-color: #3B4455;\n",
              "      fill: #D2E3FC;\n",
              "    }\n",
              "\n",
              "    [theme=dark] .colab-df-convert:hover {\n",
              "      background-color: #434B5C;\n",
              "      box-shadow: 0px 1px 3px 1px rgba(0, 0, 0, 0.15);\n",
              "      filter: drop-shadow(0px 1px 2px rgba(0, 0, 0, 0.3));\n",
              "      fill: #FFFFFF;\n",
              "    }\n",
              "  </style>\n",
              "\n",
              "    <script>\n",
              "      const buttonEl =\n",
              "        document.querySelector('#df-c8f23e9c-8325-4549-afd2-40dc869ad68d button.colab-df-convert');\n",
              "      buttonEl.style.display =\n",
              "        google.colab.kernel.accessAllowed ? 'block' : 'none';\n",
              "\n",
              "      async function convertToInteractive(key) {\n",
              "        const element = document.querySelector('#df-c8f23e9c-8325-4549-afd2-40dc869ad68d');\n",
              "        const dataTable =\n",
              "          await google.colab.kernel.invokeFunction('convertToInteractive',\n",
              "                                                    [key], {});\n",
              "        if (!dataTable) return;\n",
              "\n",
              "        const docLinkHtml = 'Like what you see? Visit the ' +\n",
              "          '<a target=\"_blank\" href=https://colab.research.google.com/notebooks/data_table.ipynb>data table notebook</a>'\n",
              "          + ' to learn more about interactive tables.';\n",
              "        element.innerHTML = '';\n",
              "        dataTable['output_type'] = 'display_data';\n",
              "        await google.colab.output.renderOutput(dataTable, element);\n",
              "        const docLink = document.createElement('div');\n",
              "        docLink.innerHTML = docLinkHtml;\n",
              "        element.appendChild(docLink);\n",
              "      }\n",
              "    </script>\n",
              "  </div>\n",
              "\n",
              "\n",
              "<div id=\"df-ffd54156-9519-4e03-8aac-0a4d2b377875\">\n",
              "  <button class=\"colab-df-quickchart\" onclick=\"quickchart('df-ffd54156-9519-4e03-8aac-0a4d2b377875')\"\n",
              "            title=\"Suggest charts\"\n",
              "            style=\"display:none;\">\n",
              "\n",
              "<svg xmlns=\"http://www.w3.org/2000/svg\" height=\"24px\"viewBox=\"0 0 24 24\"\n",
              "     width=\"24px\">\n",
              "    <g>\n",
              "        <path d=\"M19 3H5c-1.1 0-2 .9-2 2v14c0 1.1.9 2 2 2h14c1.1 0 2-.9 2-2V5c0-1.1-.9-2-2-2zM9 17H7v-7h2v7zm4 0h-2V7h2v10zm4 0h-2v-4h2v4z\"/>\n",
              "    </g>\n",
              "</svg>\n",
              "  </button>\n",
              "\n",
              "<style>\n",
              "  .colab-df-quickchart {\n",
              "      --bg-color: #E8F0FE;\n",
              "      --fill-color: #1967D2;\n",
              "      --hover-bg-color: #E2EBFA;\n",
              "      --hover-fill-color: #174EA6;\n",
              "      --disabled-fill-color: #AAA;\n",
              "      --disabled-bg-color: #DDD;\n",
              "  }\n",
              "\n",
              "  [theme=dark] .colab-df-quickchart {\n",
              "      --bg-color: #3B4455;\n",
              "      --fill-color: #D2E3FC;\n",
              "      --hover-bg-color: #434B5C;\n",
              "      --hover-fill-color: #FFFFFF;\n",
              "      --disabled-bg-color: #3B4455;\n",
              "      --disabled-fill-color: #666;\n",
              "  }\n",
              "\n",
              "  .colab-df-quickchart {\n",
              "    background-color: var(--bg-color);\n",
              "    border: none;\n",
              "    border-radius: 50%;\n",
              "    cursor: pointer;\n",
              "    display: none;\n",
              "    fill: var(--fill-color);\n",
              "    height: 32px;\n",
              "    padding: 0;\n",
              "    width: 32px;\n",
              "  }\n",
              "\n",
              "  .colab-df-quickchart:hover {\n",
              "    background-color: var(--hover-bg-color);\n",
              "    box-shadow: 0 1px 2px rgba(60, 64, 67, 0.3), 0 1px 3px 1px rgba(60, 64, 67, 0.15);\n",
              "    fill: var(--button-hover-fill-color);\n",
              "  }\n",
              "\n",
              "  .colab-df-quickchart-complete:disabled,\n",
              "  .colab-df-quickchart-complete:disabled:hover {\n",
              "    background-color: var(--disabled-bg-color);\n",
              "    fill: var(--disabled-fill-color);\n",
              "    box-shadow: none;\n",
              "  }\n",
              "\n",
              "  .colab-df-spinner {\n",
              "    border: 2px solid var(--fill-color);\n",
              "    border-color: transparent;\n",
              "    border-bottom-color: var(--fill-color);\n",
              "    animation:\n",
              "      spin 1s steps(1) infinite;\n",
              "  }\n",
              "\n",
              "  @keyframes spin {\n",
              "    0% {\n",
              "      border-color: transparent;\n",
              "      border-bottom-color: var(--fill-color);\n",
              "      border-left-color: var(--fill-color);\n",
              "    }\n",
              "    20% {\n",
              "      border-color: transparent;\n",
              "      border-left-color: var(--fill-color);\n",
              "      border-top-color: var(--fill-color);\n",
              "    }\n",
              "    30% {\n",
              "      border-color: transparent;\n",
              "      border-left-color: var(--fill-color);\n",
              "      border-top-color: var(--fill-color);\n",
              "      border-right-color: var(--fill-color);\n",
              "    }\n",
              "    40% {\n",
              "      border-color: transparent;\n",
              "      border-right-color: var(--fill-color);\n",
              "      border-top-color: var(--fill-color);\n",
              "    }\n",
              "    60% {\n",
              "      border-color: transparent;\n",
              "      border-right-color: var(--fill-color);\n",
              "    }\n",
              "    80% {\n",
              "      border-color: transparent;\n",
              "      border-right-color: var(--fill-color);\n",
              "      border-bottom-color: var(--fill-color);\n",
              "    }\n",
              "    90% {\n",
              "      border-color: transparent;\n",
              "      border-bottom-color: var(--fill-color);\n",
              "    }\n",
              "  }\n",
              "</style>\n",
              "\n",
              "  <script>\n",
              "    async function quickchart(key) {\n",
              "      const quickchartButtonEl =\n",
              "        document.querySelector('#' + key + ' button');\n",
              "      quickchartButtonEl.disabled = true;  // To prevent multiple clicks.\n",
              "      quickchartButtonEl.classList.add('colab-df-spinner');\n",
              "      try {\n",
              "        const charts = await google.colab.kernel.invokeFunction(\n",
              "            'suggestCharts', [key], {});\n",
              "      } catch (error) {\n",
              "        console.error('Error during call to suggestCharts:', error);\n",
              "      }\n",
              "      quickchartButtonEl.classList.remove('colab-df-spinner');\n",
              "      quickchartButtonEl.classList.add('colab-df-quickchart-complete');\n",
              "    }\n",
              "    (() => {\n",
              "      let quickchartButtonEl =\n",
              "        document.querySelector('#df-ffd54156-9519-4e03-8aac-0a4d2b377875 button');\n",
              "      quickchartButtonEl.style.display =\n",
              "        google.colab.kernel.accessAllowed ? 'block' : 'none';\n",
              "    })();\n",
              "  </script>\n",
              "</div>\n",
              "    </div>\n",
              "  </div>\n"
            ],
            "application/vnd.google.colaboratory.intrinsic+json": {
              "type": "dataframe",
              "variable_name": "data"
            }
          },
          "metadata": {},
          "execution_count": 28
        }
      ],
      "source": [
        "data = pd.get_dummies(data)\n",
        "data"
      ]
    },
    {
      "cell_type": "markdown",
      "metadata": {
        "id": "AP2Ejcg-gFQ2"
      },
      "source": [
        "**Задача 3.4 (0.2 балла)** Разделите выборку на тренировочную и тестовую. Долю тестовой выборки укажите равной 0.3. Не забудьте про параметр `stratify`."
      ]
    },
    {
      "cell_type": "code",
      "execution_count": 29,
      "metadata": {
        "id": "7Fx0sgtvgFQ2"
      },
      "outputs": [],
      "source": [
        "from sklearn.model_selection import train_test_split\n",
        "X, y = data.drop('price', axis=1), data['price']\n",
        "X_train, X_test, y_train, y_test = train_test_split(X, y, test_size=0.3, random_state=np.random.seed(7777))"
      ]
    },
    {
      "cell_type": "markdown",
      "source": [
        "Не очень ясно как тут применить stratify, так как наша целевая переменная - это целое число и мы решаем задачу регрессии."
      ],
      "metadata": {
        "id": "0hq4r1cOjSIy"
      }
    },
    {
      "cell_type": "markdown",
      "metadata": {
        "id": "rcUS-idKgFQ2"
      },
      "source": [
        "**Задача 3.5 (0.3 балла)** Зачастую при использовании линейных моделей вещественные признаки масштабируются. При этом оценки коэффициентов теряют прямую статистическую интерпретацию (\"при увеличении $X_1$ на 1, $y$ увеличивается на $w_1$\"), но приобретают свойства, полезные в задачах машинного обучения. В этой задаче масштабируйте вещественные признаки тренировочной и тестовой выборок при помощи модуля `StandardScaler`."
      ]
    },
    {
      "cell_type": "code",
      "execution_count": 30,
      "metadata": {
        "id": "lrzWDPivgFQ2"
      },
      "outputs": [],
      "source": [
        "from sklearn.preprocessing import StandardScaler\n",
        "scaler = StandardScaler()\n",
        "X_train[['carat',\t'depth',\t'table',\t'x',\t'y',\t'z']] = scaler.fit_transform(X_train[['carat',\t'depth',\t'table',\t'x',\t'y',\t'z']])\n",
        "X_test[['carat',\t'depth',\t'table',\t'x',\t'y',\t'z']] = scaler.transform(X_test[['carat',\t'depth',\t'table',\t'x',\t'y',\t'z']])"
      ]
    },
    {
      "cell_type": "markdown",
      "metadata": {
        "id": "m7epyRtVgFQ2"
      },
      "source": [
        "**Задача 3.6 (0.2 балла)** Оцените линейную регрессию на тренировочной выборке. Выведите среднеквадратичную ошибку на тренировочной и тестовой выборках."
      ]
    },
    {
      "cell_type": "code",
      "execution_count": 31,
      "metadata": {
        "id": "j6JrJ6UfgFQ2",
        "colab": {
          "base_uri": "https://localhost:8080/"
        },
        "outputId": "eeb3162e-3f2b-4e44-ace6-384e33b6d77d"
      },
      "outputs": [
        {
          "output_type": "stream",
          "name": "stdout",
          "text": [
            "Train mse: 1281557.2135993468\n",
            "Test mse: 1266040.087620711\n"
          ]
        }
      ],
      "source": [
        "from sklearn.linear_model import LinearRegression\n",
        "from sklearn.metrics import mean_squared_error\n",
        "\n",
        "lin_regr = LinearRegression()\n",
        "lin_regr.fit(X_train, y_train)\n",
        "pred_train = lin_regr.predict(X_train)\n",
        "pred_test = lin_regr.predict(X_test)\n",
        "\n",
        "print(f'Train mse: {mean_squared_error(y_train, pred_train)}')\n",
        "print(f'Test mse: {mean_squared_error(y_test, pred_test)}')"
      ]
    },
    {
      "cell_type": "markdown",
      "metadata": {
        "id": "dN17tJ7LgFQ2"
      },
      "source": [
        "**Задача 3.7 (0.2 балла)** Изучите [документацию](https://scikit-learn.org/stable/modules/generated/sklearn.linear_model.LinearRegression.html) модуля `LinearRegression` и выведите полученные оценки коэффициентов. Назовите вещественные переменные, оценки коэффициентов которых по модулю на порядок превышают оценки прочих вещественных переменных."
      ]
    },
    {
      "cell_type": "code",
      "execution_count": 32,
      "metadata": {
        "id": "yCjyJCiNgFQ2",
        "colab": {
          "base_uri": "https://localhost:8080/"
        },
        "outputId": "7ee87739-ffeb-4861-ef58-0d26acae1da4"
      },
      "outputs": [
        {
          "output_type": "execute_result",
          "data": {
            "text/plain": [
              "array([ 5.28245580e+03, -8.40847749e+01, -5.82827609e+01, -1.08924330e+03,\n",
              "       -2.16713828e+00, -1.63587860e+01, -5.60829778e+02, -1.76854591e+00,\n",
              "        2.46359571e+02,  1.75228507e+02,  1.41010245e+02,  8.31381698e+02,\n",
              "        6.12880925e+02,  5.49145975e+02,  3.44196325e+02, -1.54575261e+02,\n",
              "       -6.40589204e+02, -1.54244046e+03, -3.77155410e+03,  1.52613771e+03,\n",
              "       -1.58878077e+02, -1.11171331e+03,  7.43502463e+02,  4.41556348e+02,\n",
              "        1.18943042e+03,  1.14151855e+03])"
            ]
          },
          "metadata": {},
          "execution_count": 32
        }
      ],
      "source": [
        "lin_regr.coef_"
      ]
    },
    {
      "cell_type": "markdown",
      "source": [
        "На порядок отличается вещественная переменная carat - у нее также был самый высокий коэффицент корреляции. Также большие веса есть у признаков категориальных переменных. Самый высокий порядок появляется с коэфициентом 10^3"
      ],
      "metadata": {
        "id": "JSKmoVk9oqh0"
      }
    },
    {
      "cell_type": "markdown",
      "metadata": {
        "id": "zWzWm834gFQ2"
      },
      "source": [
        "**Задача 3.8 (0.4 балла)** Как можно заметить из анализа корреляционной матрицы в задаче 3.3, между некоторыми признаками имеется сильная корреляция, что может быть индикатором проблемы *мультиколлинеарности*. Различия в порядке коэффициентов, выявленные в предыдущей задаче также намекают на её присутствие. Как известно, для решения этой проблемы можно либо исключить некоторые признаки из модели, либо использовать регуляризацию. Мы воспользуемся вторым вариантом.\n",
        "\n",
        "Вспомним, что смысл регуляризации заключается в том, чтобы изменить функцию потерь так, чтобы устранить проблемы, появляющиеся из-за мультиколлинеарности. При L1-регуляризации предлагается минимизировать следующую функцию потерь:\n",
        "\n",
        "$$\n",
        "\\|y - X\\hat{w}\\|^2 + \\alpha\\sum_{i=1}^k|w_i|\n",
        "$$\n",
        "\n",
        "Такая модель называется Lasso-регрессией.\n",
        "\n",
        "При L2-регуляризации предлагается минимизировать следующую функцию потерь:\n",
        "\n",
        "$$\n",
        "\\|y - X\\hat{w}\\|^2 + \\frac{1}{2}\\alpha\\|w\\|^2\n",
        "$$\n",
        "\n",
        "Такая модель называется Ridge-регрессией.\n",
        "\n",
        "Обучите Lasso-регрессию и Ridge-регрессию, уставновив гиперпараметр регуляризации равным 10. Для этого используйте модули `Lasso` и `Ridge` из `sklearn`. Сильно ли уменьшились веса? Сделайте вывод о том, насколько сильно проблема мультиколлинеарности проявлялась в изначальной регрессии."
      ]
    },
    {
      "cell_type": "code",
      "execution_count": 33,
      "metadata": {
        "id": "AeA2LWLagFQ2",
        "colab": {
          "base_uri": "https://localhost:8080/"
        },
        "outputId": "da1ec6b1-9127-4be6-eb35-ca28df3b9f37"
      },
      "outputs": [
        {
          "output_type": "stream",
          "name": "stdout",
          "text": [
            "[ 5.24379735e+03 -8.15745702e+01 -5.86990611e+01 -1.04050775e+03\n",
            " -3.61306593e+00 -2.86640061e+01 -5.63729340e+02 -1.69132793e+00\n",
            "  2.47483669e+02  1.75321150e+02  1.42615848e+02  8.26587185e+02\n",
            "  6.09351461e+02  5.45557030e+02  3.42526688e+02 -1.54897825e+02\n",
            " -6.37456944e+02 -1.53166759e+03 -3.69984916e+03  1.50674433e+03\n",
            " -1.66825897e+02 -1.11521525e+03  7.33470851e+02  4.33133360e+02\n",
            "  1.17762246e+03  1.13091931e+03]\n",
            "\n",
            "[ 4807.45093171   -92.66408954   -77.11864003  -676.8104292\n",
            "    -0.           -29.41111819  -410.18881853   -30.19544098\n",
            "    88.12037511     0.             0.           339.8131111\n",
            "   163.79601077   109.59639757     0.          -436.07287849\n",
            "  -857.49139849 -1653.89667321 -3513.85580208   693.70486905\n",
            "  -629.09614368 -1520.44290186   142.98814176   -21.22370403\n",
            "   522.03449366   528.01733056]\n"
          ]
        }
      ],
      "source": [
        "from sklearn.linear_model import Lasso\n",
        "from sklearn.linear_model import Ridge\n",
        "\n",
        "lasso = Lasso(alpha=10)\n",
        "lasso.fit(X_train, y_train)\n",
        "lasso_predict_train = lasso.predict(X_train)\n",
        "lasso_predict_test = lasso.predict(X_test)\n",
        "\n",
        "ridge = Ridge(alpha=10)\n",
        "ridge.fit(X_train, y_train)\n",
        "ridge_predict_train = lasso.predict(X_train)\n",
        "ridge_predict_test = lasso.predict(X_test)\n",
        "\n",
        "print(ridge.coef_)\n",
        "print()\n",
        "print(lasso.coef_)\n"
      ]
    },
    {
      "cell_type": "markdown",
      "source": [
        "Для Ridge регрессии веса почти не изменились, порядок тот же, числа почти не отличаются. Lasso регрессия показала небольшие изменения, но порядок остался тот же. Скорее всего, проблема мультиколлениарности не была такой значительной в изначальной регресии."
      ],
      "metadata": {
        "id": "7J9GZhSCMP19"
      }
    },
    {
      "cell_type": "markdown",
      "metadata": {
        "id": "DftPGQdkgFQ3"
      },
      "source": [
        "**Задача 3.9 (0.4 балла)** Как обсуждалось на семинарах, Lasso-регрессию можно использовать для отбора наиболее информативных признаков. Для следующих значений параметра регуляриазции $\\alpha$: 0.1, 1, 10, 100, 200 –  обучите Lasso- и Ridge-регрессии и постройте график измненения евклидовой нормы весов (`np.linalg.norm()` от вектора оценок коэффициентов) в зависимости от параметра $\\alpha$. Как известно, норма является численной характеристикой величины вектора, а потому по норме можно судить о том, насколько большие элементы содержит вектор оценок коэффициентов.\n",
        "\n",
        "Какой метод агрессивнее уменьшает веса? Поясните, почему Lasso-регрессию часто используют для отбора признаков."
      ]
    },
    {
      "cell_type": "code",
      "execution_count": 34,
      "metadata": {
        "id": "lT_Vob-2gFQ3",
        "colab": {
          "base_uri": "https://localhost:8080/"
        },
        "outputId": "85c904e0-d9ba-4057-94c6-cbb2750e5fe3"
      },
      "outputs": [
        {
          "output_type": "stream",
          "name": "stderr",
          "text": [
            "/usr/local/lib/python3.10/dist-packages/sklearn/linear_model/_coordinate_descent.py:631: ConvergenceWarning: Objective did not converge. You might want to increase the number of iterations, check the scale of the features or consider increasing regularisation. Duality gap: 7.338e+07, tolerance: 5.982e+07\n",
            "  model = cd_fast.enet_coordinate_descent(\n"
          ]
        }
      ],
      "source": [
        "weights_lasso = []\n",
        "weights_ridge = []\n",
        "gammas = [0.1, 1, 10, 100, 200]\n",
        "\n",
        "for gamma in gammas:\n",
        "  ridge = Ridge(alpha=gamma)\n",
        "  lasso = Lasso(alpha=gamma)\n",
        "  ridge.fit(X_train, y_train)\n",
        "  lasso.fit(X_train, y_train)\n",
        "  weights_lasso.append(np.linalg.norm(lasso.coef_))\n",
        "  weights_ridge.append(np.linalg.norm(ridge.coef_))\n"
      ]
    },
    {
      "cell_type": "code",
      "source": [
        "fig, ax = plt.subplots(1, 2, figsize=(16, 6))\n",
        "\n",
        "plt.subplot(1, 2, 1)\n",
        "plt.bar(list(map(str, gammas)), np.array(weights_lasso), color='maroon')\n",
        "plt.xlabel('alpha')\n",
        "plt.ylabel('norm')\n",
        "plt.title('Lasso')\n",
        "\n",
        "plt.subplot(1, 2, 2)\n",
        "plt.bar(list(map(str, gammas)), np.array(weights_ridge), color='coral')\n",
        "plt.xlabel('alpha')\n",
        "plt.title('Ridge')\n",
        "\n",
        "plt.show()"
      ],
      "metadata": {
        "colab": {
          "base_uri": "https://localhost:8080/",
          "height": 564
        },
        "id": "Lg8v7CMoVn1f",
        "outputId": "b14d3e71-6398-43e7-b179-9b39f9a836b5"
      },
      "execution_count": 35,
      "outputs": [
        {
          "output_type": "display_data",
          "data": {
            "text/plain": [
              "<Figure size 1600x600 with 2 Axes>"
            ],
            "image/png": "[encoded data removed]"
          },
          "metadata": {}
        }
      ]
    },
    {
      "cell_type": "markdown",
      "source": [
        "Агрессивнее уменьшает веса Lasso регрессия. Это можно заметить на графиках, где при значении альфа = 100 и 200 Lasso регрессия уменьшает норму до 3500, в то время как Ridge регрессия при таком же альфа доходит только до примерно 6500-7000.\n",
        "\n",
        "Одним из частых самых объяснений явления отбора признаков Lasso регрессией звучит так. Модуль нормы весов на графике предстваляет собой ромб с центром в начале координат. В свою очередь, Rdige регрессия со своим квадратом нормы предствляет собой окружность. Таким образом, при приближении к своему локальному или глобальному минимуму, линии уровня нашей функции в Ridge регрессии с большей вероятностью попадут на саму окружность, а в Lasso регресии они вероятнее попадут в углы ромба, где один или несколько признаков зануляются. Такое объяснение не является строгим, но позволяет интуитивно понять суть подхода Lasso регресии\n",
        "\n",
        "\n",
        "![l1_l2.png](data:image/png;base64,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)"
      ],
      "metadata": {
        "id": "ZuS_SiPvY-HI"
      }
    },
    {
      "cell_type": "markdown",
      "metadata": {
        "id": "O0iVRfS1gFQ3"
      },
      "source": [
        "**Задача 3.10 (0.5 балла)**\n",
        "В зависимости от значения параметра $\\alpha$ в Lasso-регрессии зануляются разные оценки коэффициентов. Оптимальное значение $\\alpha$ можно подобрать, например, при помощи кросс-валидации по тренировочной выборке.\n",
        "\n",
        "Для проведения кросс-валидации можно использовать модуль `LassoCV`. Этот модуль принимает список значений $\\alpha$ (параметр `alphas`) и при обучении проводит кросс-валидацию для каждого значения из этого списка, сохраняя MSE на каждом участке кросс-валидации (количество участков – параметр `cv`) в матрицу ошибок (то есть итоговая матрица будет иметь размер `len(alphas)` $\\times$ `cv`). После обучения модели матрицу ошибок можно получить, обратившись к атрибуту `.mse_path_`.\n",
        "\n",
        "Заметим, что модель может использовать $\\alpha$ не в том порядке, в котором вы подаёте их в функцию: для определения порядка используйте атрибут `.alphas_` Установите количество участков для кросс-валидации (параметр `cv`) равным 5.\n",
        "\n",
        "Усредните ошибки для каждого значения $\\alpha$ (то есть по строкам матрицы ошибок) и выберите то значение, которое даёт наибольшее качество."
      ]
    },
    {
      "cell_type": "code",
      "execution_count": 36,
      "metadata": {
        "id": "gMwL5-Y4gFQ3",
        "colab": {
          "base_uri": "https://localhost:8080/",
          "height": 110
        },
        "outputId": "c7e68604-c074-4446-a398-7e050903e5a3"
      },
      "outputs": [
        {
          "output_type": "execute_result",
          "data": {
            "text/plain": [
              "LassoCV(alphas=[1, 2, 3, 4, 5, 6, 7, 8, 9, 10, 20, 30, 40, 50, 60, 70, 80, 90,\n",
              "                100],\n",
              "        cv=5)"
            ],
            "text/html": [
              "<style>#sk-container-id-2 {color: black;background-color: white;}#sk-container-id-2 pre{padding: 0;}#sk-container-id-2 div.sk-toggleable {background-color: white;}#sk-container-id-2 label.sk-toggleable__label {cursor: pointer;display: block;width: 100%;margin-bottom: 0;padding: 0.3em;box-sizing: border-box;text-align: center;}#sk-container-id-2 label.sk-toggleable__label-arrow:before {content: \"▸\";float: left;margin-right: 0.25em;color: #696969;}#sk-container-id-2 label.sk-toggleable__label-arrow:hover:before {color: black;}#sk-container-id-2 div.sk-estimator:hover label.sk-toggleable__label-arrow:before {color: black;}#sk-container-id-2 div.sk-toggleable__content {max-height: 0;max-width: 0;overflow: hidden;text-align: left;background-color: #f0f8ff;}#sk-container-id-2 div.sk-toggleable__content pre {margin: 0.2em;color: black;border-radius: 0.25em;background-color: #f0f8ff;}#sk-container-id-2 input.sk-toggleable__control:checked~div.sk-toggleable__content {max-height: 200px;max-width: 100%;overflow: auto;}#sk-container-id-2 input.sk-toggleable__control:checked~label.sk-toggleable__label-arrow:before {content: \"▾\";}#sk-container-id-2 div.sk-estimator input.sk-toggleable__control:checked~label.sk-toggleable__label {background-color: #d4ebff;}#sk-container-id-2 div.sk-label input.sk-toggleable__control:checked~label.sk-toggleable__label {background-color: #d4ebff;}#sk-container-id-2 input.sk-hidden--visually {border: 0;clip: rect(1px 1px 1px 1px);clip: rect(1px, 1px, 1px, 1px);height: 1px;margin: -1px;overflow: hidden;padding: 0;position: absolute;width: 1px;}#sk-container-id-2 div.sk-estimator {font-family: monospace;background-color: #f0f8ff;border: 1px dotted black;border-radius: 0.25em;box-sizing: border-box;margin-bottom: 0.5em;}#sk-container-id-2 div.sk-estimator:hover {background-color: #d4ebff;}#sk-container-id-2 div.sk-parallel-item::after {content: \"\";width: 100%;border-bottom: 1px solid gray;flex-grow: 1;}#sk-container-id-2 div.sk-label:hover label.sk-toggleable__label {background-color: #d4ebff;}#sk-container-id-2 div.sk-serial::before {content: \"\";position: absolute;border-left: 1px solid gray;box-sizing: border-box;top: 0;bottom: 0;left: 50%;z-index: 0;}#sk-container-id-2 div.sk-serial {display: flex;flex-direction: column;align-items: center;background-color: white;padding-right: 0.2em;padding-left: 0.2em;position: relative;}#sk-container-id-2 div.sk-item {position: relative;z-index: 1;}#sk-container-id-2 div.sk-parallel {display: flex;align-items: stretch;justify-content: center;background-color: white;position: relative;}#sk-container-id-2 div.sk-item::before, #sk-container-id-2 div.sk-parallel-item::before {content: \"\";position: absolute;border-left: 1px solid gray;box-sizing: border-box;top: 0;bottom: 0;left: 50%;z-index: -1;}#sk-container-id-2 div.sk-parallel-item {display: flex;flex-direction: column;z-index: 1;position: relative;background-color: white;}#sk-container-id-2 div.sk-parallel-item:first-child::after {align-self: flex-end;width: 50%;}#sk-container-id-2 div.sk-parallel-item:last-child::after {align-self: flex-start;width: 50%;}#sk-container-id-2 div.sk-parallel-item:only-child::after {width: 0;}#sk-container-id-2 div.sk-dashed-wrapped {border: 1px dashed gray;margin: 0 0.4em 0.5em 0.4em;box-sizing: border-box;padding-bottom: 0.4em;background-color: white;}#sk-container-id-2 div.sk-label label {font-family: monospace;font-weight: bold;display: inline-block;line-height: 1.2em;}#sk-container-id-2 div.sk-label-container {text-align: center;}#sk-container-id-2 div.sk-container {/* jupyter's `normalize.less` sets `[hidden] { display: none; }` but bootstrap.min.css set `[hidden] { display: none !important; }` so we also need the `!important` here to be able to override the default hidden behavior on the sphinx rendered scikit-learn.org. See: https://github.com/scikit-learn/scikit-learn/issues/21755 */display: inline-block !important;position: relative;}#sk-container-id-2 div.sk-text-repr-fallback {display: none;}</style><div id=\"sk-container-id-2\" class=\"sk-top-container\"><div class=\"sk-text-repr-fallback\"><pre>LassoCV(alphas=[1, 2, 3, 4, 5, 6, 7, 8, 9, 10, 20, 30, 40, 50, 60, 70, 80, 90,\n",
              "                100],\n",
              "        cv=5)</pre><b>In a Jupyter environment, please rerun this cell to show the HTML representation or trust the notebook. <br />On GitHub, the HTML representation is unable to render, please try loading this page with nbviewer.org.</b></div><div class=\"sk-container\" hidden><div class=\"sk-item\"><div class=\"sk-estimator sk-toggleable\"><input class=\"sk-toggleable__control sk-hidden--visually\" id=\"sk-estimator-id-2\" type=\"checkbox\" checked><label for=\"sk-estimator-id-2\" class=\"sk-toggleable__label sk-toggleable__label-arrow\">LassoCV</label><div class=\"sk-toggleable__content\"><pre>LassoCV(alphas=[1, 2, 3, 4, 5, 6, 7, 8, 9, 10, 20, 30, 40, 50, 60, 70, 80, 90,\n",
              "                100],\n",
              "        cv=5)</pre></div></div></div></div></div>"
            ]
          },
          "metadata": {},
          "execution_count": 36
        }
      ],
      "source": [
        "from sklearn.linear_model import LassoCV\n",
        "\n",
        "parametrs = list(range(1, 10)) + list(range(10, 101, 10))\n",
        "lasso_cv = LassoCV(alphas=parametrs, cv=5)\n",
        "lasso_cv.fit(X_train, y_train)"
      ]
    },
    {
      "cell_type": "code",
      "source": [
        "np.mean(lasso_cv.mse_path_, axis=1).shape"
      ],
      "metadata": {
        "colab": {
          "base_uri": "https://localhost:8080/"
        },
        "id": "0YnVRoxvz7nO",
        "outputId": "0ce9305a-bd3c-48f0-da00-49a01637b4b7"
      },
      "execution_count": 37,
      "outputs": [
        {
          "output_type": "execute_result",
          "data": {
            "text/plain": [
              "(19,)"
            ]
          },
          "metadata": {},
          "execution_count": 37
        }
      ]
    },
    {
      "cell_type": "code",
      "source": [
        "mean_errors = np.mean(lasso_cv.mse_path_, axis=1)\n",
        "\n",
        "print(lasso_cv.alphas_)\n",
        "print(mean_errors)\n",
        "print(f'MSE: {mean_errors[np.argsort(mean_errors)[0]]}')\n",
        "print(f'alpha = {lasso_cv.alphas_[np.argsort(mean_errors)[0]]}')"
      ],
      "metadata": {
        "colab": {
          "base_uri": "https://localhost:8080/"
        },
        "id": "uJxpAcs0gFAC",
        "outputId": "a0c85e7c-625e-4f60-acd5-781dadccf3f7"
      },
      "execution_count": 38,
      "outputs": [
        {
          "output_type": "stream",
          "name": "stdout",
          "text": [
            "[100  90  80  70  60  50  40  30  20  10   9   8   7   6   5   4   3   2\n",
            "   1]\n",
            "[2225731.23979769 2181360.98891973 2140316.027898   2087445.53556933\n",
            " 2008312.70242949 1886766.68727293 1720380.851065   1579086.02885508\n",
            " 1429284.31897711 1322989.89738653 1316081.22400081 1309912.05843668\n",
            " 1304489.19097154 1299806.9881647  1295864.44375229 1292658.14170123\n",
            " 1290160.94480547 1288404.01964836 1287395.96022641]\n",
            "MSE: 1287395.9602264105\n",
            "alpha = 1\n"
          ]
        }
      ]
    },
    {
      "cell_type": "markdown",
      "source": [
        "Для дополнительной проверки были добавлены еще значения для альфа, изначально эксперементы проводились с данными 5 значениями, но на ответ это не повлияло, лучшее значение остается 1."
      ],
      "metadata": {
        "id": "huiJCUxCmtkL"
      }
    },
    {
      "cell_type": "markdown",
      "metadata": {
        "id": "RVUxxxhYgFQ3"
      },
      "source": [
        "**Задача 3.11 (0.5 балла)** Обучите итоговую Lasso-регрессию с выбранным параметром $\\alpha$ на тренировочной выборке. Выведите полученные коэффициенты и прокомментируйте, какие признаки оказались неинформативными, а какие – наиболее информативными. Приведите возможное смысловое объяснение этого результата."
      ]
    },
    {
      "cell_type": "code",
      "execution_count": 39,
      "metadata": {
        "id": "fQtobJcQgFQ3",
        "colab": {
          "base_uri": "https://localhost:8080/",
          "height": 75
        },
        "outputId": "a9094d9a-4ebd-4efe-be03-8c29234e7231"
      },
      "outputs": [
        {
          "output_type": "execute_result",
          "data": {
            "text/plain": [
              "Lasso(alpha=1)"
            ],
            "text/html": [
              "<style>#sk-container-id-3 {color: black;background-color: white;}#sk-container-id-3 pre{padding: 0;}#sk-container-id-3 div.sk-toggleable {background-color: white;}#sk-container-id-3 label.sk-toggleable__label {cursor: pointer;display: block;width: 100%;margin-bottom: 0;padding: 0.3em;box-sizing: border-box;text-align: center;}#sk-container-id-3 label.sk-toggleable__label-arrow:before {content: \"▸\";float: left;margin-right: 0.25em;color: #696969;}#sk-container-id-3 label.sk-toggleable__label-arrow:hover:before {color: black;}#sk-container-id-3 div.sk-estimator:hover label.sk-toggleable__label-arrow:before {color: black;}#sk-container-id-3 div.sk-toggleable__content {max-height: 0;max-width: 0;overflow: hidden;text-align: left;background-color: #f0f8ff;}#sk-container-id-3 div.sk-toggleable__content pre {margin: 0.2em;color: black;border-radius: 0.25em;background-color: #f0f8ff;}#sk-container-id-3 input.sk-toggleable__control:checked~div.sk-toggleable__content {max-height: 200px;max-width: 100%;overflow: auto;}#sk-container-id-3 input.sk-toggleable__control:checked~label.sk-toggleable__label-arrow:before {content: \"▾\";}#sk-container-id-3 div.sk-estimator input.sk-toggleable__control:checked~label.sk-toggleable__label {background-color: #d4ebff;}#sk-container-id-3 div.sk-label input.sk-toggleable__control:checked~label.sk-toggleable__label {background-color: #d4ebff;}#sk-container-id-3 input.sk-hidden--visually {border: 0;clip: rect(1px 1px 1px 1px);clip: rect(1px, 1px, 1px, 1px);height: 1px;margin: -1px;overflow: hidden;padding: 0;position: absolute;width: 1px;}#sk-container-id-3 div.sk-estimator {font-family: monospace;background-color: #f0f8ff;border: 1px dotted black;border-radius: 0.25em;box-sizing: border-box;margin-bottom: 0.5em;}#sk-container-id-3 div.sk-estimator:hover {background-color: #d4ebff;}#sk-container-id-3 div.sk-parallel-item::after {content: \"\";width: 100%;border-bottom: 1px solid gray;flex-grow: 1;}#sk-container-id-3 div.sk-label:hover label.sk-toggleable__label {background-color: #d4ebff;}#sk-container-id-3 div.sk-serial::before {content: \"\";position: absolute;border-left: 1px solid gray;box-sizing: border-box;top: 0;bottom: 0;left: 50%;z-index: 0;}#sk-container-id-3 div.sk-serial {display: flex;flex-direction: column;align-items: center;background-color: white;padding-right: 0.2em;padding-left: 0.2em;position: relative;}#sk-container-id-3 div.sk-item {position: relative;z-index: 1;}#sk-container-id-3 div.sk-parallel {display: flex;align-items: stretch;justify-content: center;background-color: white;position: relative;}#sk-container-id-3 div.sk-item::before, #sk-container-id-3 div.sk-parallel-item::before {content: \"\";position: absolute;border-left: 1px solid gray;box-sizing: border-box;top: 0;bottom: 0;left: 50%;z-index: -1;}#sk-container-id-3 div.sk-parallel-item {display: flex;flex-direction: column;z-index: 1;position: relative;background-color: white;}#sk-container-id-3 div.sk-parallel-item:first-child::after {align-self: flex-end;width: 50%;}#sk-container-id-3 div.sk-parallel-item:last-child::after {align-self: flex-start;width: 50%;}#sk-container-id-3 div.sk-parallel-item:only-child::after {width: 0;}#sk-container-id-3 div.sk-dashed-wrapped {border: 1px dashed gray;margin: 0 0.4em 0.5em 0.4em;box-sizing: border-box;padding-bottom: 0.4em;background-color: white;}#sk-container-id-3 div.sk-label label {font-family: monospace;font-weight: bold;display: inline-block;line-height: 1.2em;}#sk-container-id-3 div.sk-label-container {text-align: center;}#sk-container-id-3 div.sk-container {/* jupyter's `normalize.less` sets `[hidden] { display: none; }` but bootstrap.min.css set `[hidden] { display: none !important; }` so we also need the `!important` here to be able to override the default hidden behavior on the sphinx rendered scikit-learn.org. See: https://github.com/scikit-learn/scikit-learn/issues/21755 */display: inline-block !important;position: relative;}#sk-container-id-3 div.sk-text-repr-fallback {display: none;}</style><div id=\"sk-container-id-3\" class=\"sk-top-container\"><div class=\"sk-text-repr-fallback\"><pre>Lasso(alpha=1)</pre><b>In a Jupyter environment, please rerun this cell to show the HTML representation or trust the notebook. <br />On GitHub, the HTML representation is unable to render, please try loading this page with nbviewer.org.</b></div><div class=\"sk-container\" hidden><div class=\"sk-item\"><div class=\"sk-estimator sk-toggleable\"><input class=\"sk-toggleable__control sk-hidden--visually\" id=\"sk-estimator-id-3\" type=\"checkbox\" checked><label for=\"sk-estimator-id-3\" class=\"sk-toggleable__label sk-toggleable__label-arrow\">Lasso</label><div class=\"sk-toggleable__content\"><pre>Lasso(alpha=1)</pre></div></div></div></div></div>"
            ]
          },
          "metadata": {},
          "execution_count": 39
        }
      ],
      "source": [
        "lasso_best = Lasso(alpha=1)\n",
        "lasso_best.fit(X_train, y_train)"
      ]
    },
    {
      "cell_type": "code",
      "source": [
        "lasso_best.score(X_test, y_test)"
      ],
      "metadata": {
        "colab": {
          "base_uri": "https://localhost:8080/"
        },
        "id": "Y3UZeUrrsrl3",
        "outputId": "e2ff19ea-0855-46c8-d576-866ddbb46241"
      },
      "execution_count": 40,
      "outputs": [
        {
          "output_type": "execute_result",
          "data": {
            "text/plain": [
              "0.9211644152132491"
            ]
          },
          "metadata": {},
          "execution_count": 40
        }
      ]
    },
    {
      "cell_type": "code",
      "source": [
        "pd.DataFrame(data=lasso_best.coef_, index=X.columns)"
      ],
      "metadata": {
        "colab": {
          "base_uri": "https://localhost:8080/",
          "height": 864
        },
        "id": "KI4j9CCWjex2",
        "outputId": "e3dc6c27-4a74-4fd7-9083-48e2e6902d13"
      },
      "execution_count": 41,
      "outputs": [
        {
          "output_type": "execute_result",
          "data": {
            "text/plain": [
              "                         0\n",
              "carat          5235.158229\n",
              "depth           -84.869361\n",
              "table           -60.033934\n",
              "x             -1048.731375\n",
              "y                -0.000000\n",
              "z               -18.952689\n",
              "cut_Fair       -673.962354\n",
              "cut_Good       -132.990641\n",
              "cut_Ideal       102.330421\n",
              "cut_Premium      28.011924\n",
              "cut_Very Good     0.000000\n",
              "color_D         473.046641\n",
              "color_E         258.683006\n",
              "color_F         195.867425\n",
              "color_G           0.000000\n",
              "color_H        -492.086499\n",
              "color_I        -971.724204\n",
              "color_J       -1863.082349\n",
              "clarity_I1    -4230.553785\n",
              "clarity_IF      958.022450\n",
              "clarity_SI1    -690.853655\n",
              "clarity_SI2   -1637.503058\n",
              "clarity_VS1     198.592463\n",
              "clarity_VS2     -89.573121\n",
              "clarity_VVS1    637.764992\n",
              "clarity_VVS2    595.187718"
            ],
            "text/html": [
              "\n",
              "  <div id=\"df-7b251878-7c7b-4f00-80ec-374c329c5c65\" class=\"colab-df-container\">\n",
              "    <div>\n",
              "<style scoped>\n",
              "    .dataframe tbody tr th:only-of-type {\n",
              "        vertical-align: middle;\n",
              "    }\n",
              "\n",
              "    .dataframe tbody tr th {\n",
              "        vertical-align: top;\n",
              "    }\n",
              "\n",
              "    .dataframe thead th {\n",
              "        text-align: right;\n",
              "    }\n",
              "</style>\n",
              "<table border=\"1\" class=\"dataframe\">\n",
              "  <thead>\n",
              "    <tr style=\"text-align: right;\">\n",
              "      <th></th>\n",
              "      <th>0</th>\n",
              "    </tr>\n",
              "  </thead>\n",
              "  <tbody>\n",
              "    <tr>\n",
              "      <th>carat</th>\n",
              "      <td>5235.158229</td>\n",
              "    </tr>\n",
              "    <tr>\n",
              "      <th>depth</th>\n",
              "      <td>-84.869361</td>\n",
              "    </tr>\n",
              "    <tr>\n",
              "      <th>table</th>\n",
              "      <td>-60.033934</td>\n",
              "    </tr>\n",
              "    <tr>\n",
              "      <th>x</th>\n",
              "      <td>-1048.731375</td>\n",
              "    </tr>\n",
              "    <tr>\n",
              "      <th>y</th>\n",
              "      <td>-0.000000</td>\n",
              "    </tr>\n",
              "    <tr>\n",
              "      <th>z</th>\n",
              "      <td>-18.952689</td>\n",
              "    </tr>\n",
              "    <tr>\n",
              "      <th>cut_Fair</th>\n",
              "      <td>-673.962354</td>\n",
              "    </tr>\n",
              "    <tr>\n",
              "      <th>cut_Good</th>\n",
              "      <td>-132.990641</td>\n",
              "    </tr>\n",
              "    <tr>\n",
              "      <th>cut_Ideal</th>\n",
              "      <td>102.330421</td>\n",
              "    </tr>\n",
              "    <tr>\n",
              "      <th>cut_Premium</th>\n",
              "      <td>28.011924</td>\n",
              "    </tr>\n",
              "    <tr>\n",
              "      <th>cut_Very Good</th>\n",
              "      <td>0.000000</td>\n",
              "    </tr>\n",
              "    <tr>\n",
              "      <th>color_D</th>\n",
              "      <td>473.046641</td>\n",
              "    </tr>\n",
              "    <tr>\n",
              "      <th>color_E</th>\n",
              "      <td>258.683006</td>\n",
              "    </tr>\n",
              "    <tr>\n",
              "      <th>color_F</th>\n",
              "      <td>195.867425</td>\n",
              "    </tr>\n",
              "    <tr>\n",
              "      <th>color_G</th>\n",
              "      <td>0.000000</td>\n",
              "    </tr>\n",
              "    <tr>\n",
              "      <th>color_H</th>\n",
              "      <td>-492.086499</td>\n",
              "    </tr>\n",
              "    <tr>\n",
              "      <th>color_I</th>\n",
              "      <td>-971.724204</td>\n",
              "    </tr>\n",
              "    <tr>\n",
              "      <th>color_J</th>\n",
              "      <td>-1863.082349</td>\n",
              "    </tr>\n",
              "    <tr>\n",
              "      <th>clarity_I1</th>\n",
              "      <td>-4230.553785</td>\n",
              "    </tr>\n",
              "    <tr>\n",
              "      <th>clarity_IF</th>\n",
              "      <td>958.022450</td>\n",
              "    </tr>\n",
              "    <tr>\n",
              "      <th>clarity_SI1</th>\n",
              "      <td>-690.853655</td>\n",
              "    </tr>\n",
              "    <tr>\n",
              "      <th>clarity_SI2</th>\n",
              "      <td>-1637.503058</td>\n",
              "    </tr>\n",
              "    <tr>\n",
              "      <th>clarity_VS1</th>\n",
              "      <td>198.592463</td>\n",
              "    </tr>\n",
              "    <tr>\n",
              "      <th>clarity_VS2</th>\n",
              "      <td>-89.573121</td>\n",
              "    </tr>\n",
              "    <tr>\n",
              "      <th>clarity_VVS1</th>\n",
              "      <td>637.764992</td>\n",
              "    </tr>\n",
              "    <tr>\n",
              "      <th>clarity_VVS2</th>\n",
              "      <td>595.187718</td>\n",
              "    </tr>\n",
              "  </tbody>\n",
              "</table>\n",
              "</div>\n",
              "    <div class=\"colab-df-buttons\">\n",
              "\n",
              "  <div class=\"colab-df-container\">\n",
              "    <button class=\"colab-df-convert\" onclick=\"convertToInteractive('df-7b251878-7c7b-4f00-80ec-374c329c5c65')\"\n",
              "            title=\"Convert this dataframe to an interactive table.\"\n",
              "            style=\"display:none;\">\n",
              "\n",
              "  <svg xmlns=\"http://www.w3.org/2000/svg\" height=\"24px\" viewBox=\"0 -960 960 960\">\n",
              "    <path d=\"M120-120v-720h720v720H120Zm60-500h600v-160H180v160Zm220 220h160v-160H400v160Zm0 220h160v-160H400v160ZM180-400h160v-160H180v160Zm440 0h160v-160H620v160ZM180-180h160v-160H180v160Zm440 0h160v-160H620v160Z\"/>\n",
              "  </svg>\n",
              "    </button>\n",
              "\n",
              "  <style>\n",
              "    .colab-df-container {\n",
              "      display:flex;\n",
              "      gap: 12px;\n",
              "    }\n",
              "\n",
              "    .colab-df-convert {\n",
              "      background-color: #E8F0FE;\n",
              "      border: none;\n",
              "      border-radius: 50%;\n",
              "      cursor: pointer;\n",
              "      display: none;\n",
              "      fill: #1967D2;\n",
              "      height: 32px;\n",
              "      padding: 0 0 0 0;\n",
              "      width: 32px;\n",
              "    }\n",
              "\n",
              "    .colab-df-convert:hover {\n",
              "      background-color: #E2EBFA;\n",
              "      box-shadow: 0px 1px 2px rgba(60, 64, 67, 0.3), 0px 1px 3px 1px rgba(60, 64, 67, 0.15);\n",
              "      fill: #174EA6;\n",
              "    }\n",
              "\n",
              "    .colab-df-buttons div {\n",
              "      margin-bottom: 4px;\n",
              "    }\n",
              "\n",
              "    [theme=dark] .colab-df-convert {\n",
              "      background-color: #3B4455;\n",
              "      fill: #D2E3FC;\n",
              "    }\n",
              "\n",
              "    [theme=dark] .colab-df-convert:hover {\n",
              "      background-color: #434B5C;\n",
              "      box-shadow: 0px 1px 3px 1px rgba(0, 0, 0, 0.15);\n",
              "      filter: drop-shadow(0px 1px 2px rgba(0, 0, 0, 0.3));\n",
              "      fill: #FFFFFF;\n",
              "    }\n",
              "  </style>\n",
              "\n",
              "    <script>\n",
              "      const buttonEl =\n",
              "        document.querySelector('#df-7b251878-7c7b-4f00-80ec-374c329c5c65 button.colab-df-convert');\n",
              "      buttonEl.style.display =\n",
              "        google.colab.kernel.accessAllowed ? 'block' : 'none';\n",
              "\n",
              "      async function convertToInteractive(key) {\n",
              "        const element = document.querySelector('#df-7b251878-7c7b-4f00-80ec-374c329c5c65');\n",
              "        const dataTable =\n",
              "          await google.colab.kernel.invokeFunction('convertToInteractive',\n",
              "                                                    [key], {});\n",
              "        if (!dataTable) return;\n",
              "\n",
              "        const docLinkHtml = 'Like what you see? Visit the ' +\n",
              "          '<a target=\"_blank\" href=https://colab.research.google.com/notebooks/data_table.ipynb>data table notebook</a>'\n",
              "          + ' to learn more about interactive tables.';\n",
              "        element.innerHTML = '';\n",
              "        dataTable['output_type'] = 'display_data';\n",
              "        await google.colab.output.renderOutput(dataTable, element);\n",
              "        const docLink = document.createElement('div');\n",
              "        docLink.innerHTML = docLinkHtml;\n",
              "        element.appendChild(docLink);\n",
              "      }\n",
              "    </script>\n",
              "  </div>\n",
              "\n",
              "\n",
              "<div id=\"df-c61a3874-ba95-452e-be2a-918a86b5ddb8\">\n",
              "  <button class=\"colab-df-quickchart\" onclick=\"quickchart('df-c61a3874-ba95-452e-be2a-918a86b5ddb8')\"\n",
              "            title=\"Suggest charts\"\n",
              "            style=\"display:none;\">\n",
              "\n",
              "<svg xmlns=\"http://www.w3.org/2000/svg\" height=\"24px\"viewBox=\"0 0 24 24\"\n",
              "     width=\"24px\">\n",
              "    <g>\n",
              "        <path d=\"M19 3H5c-1.1 0-2 .9-2 2v14c0 1.1.9 2 2 2h14c1.1 0 2-.9 2-2V5c0-1.1-.9-2-2-2zM9 17H7v-7h2v7zm4 0h-2V7h2v10zm4 0h-2v-4h2v4z\"/>\n",
              "    </g>\n",
              "</svg>\n",
              "  </button>\n",
              "\n",
              "<style>\n",
              "  .colab-df-quickchart {\n",
              "      --bg-color: #E8F0FE;\n",
              "      --fill-color: #1967D2;\n",
              "      --hover-bg-color: #E2EBFA;\n",
              "      --hover-fill-color: #174EA6;\n",
              "      --disabled-fill-color: #AAA;\n",
              "      --disabled-bg-color: #DDD;\n",
              "  }\n",
              "\n",
              "  [theme=dark] .colab-df-quickchart {\n",
              "      --bg-color: #3B4455;\n",
              "      --fill-color: #D2E3FC;\n",
              "      --hover-bg-color: #434B5C;\n",
              "      --hover-fill-color: #FFFFFF;\n",
              "      --disabled-bg-color: #3B4455;\n",
              "      --disabled-fill-color: #666;\n",
              "  }\n",
              "\n",
              "  .colab-df-quickchart {\n",
              "    background-color: var(--bg-color);\n",
              "    border: none;\n",
              "    border-radius: 50%;\n",
              "    cursor: pointer;\n",
              "    display: none;\n",
              "    fill: var(--fill-color);\n",
              "    height: 32px;\n",
              "    padding: 0;\n",
              "    width: 32px;\n",
              "  }\n",
              "\n",
              "  .colab-df-quickchart:hover {\n",
              "    background-color: var(--hover-bg-color);\n",
              "    box-shadow: 0 1px 2px rgba(60, 64, 67, 0.3), 0 1px 3px 1px rgba(60, 64, 67, 0.15);\n",
              "    fill: var(--button-hover-fill-color);\n",
              "  }\n",
              "\n",
              "  .colab-df-quickchart-complete:disabled,\n",
              "  .colab-df-quickchart-complete:disabled:hover {\n",
              "    background-color: var(--disabled-bg-color);\n",
              "    fill: var(--disabled-fill-color);\n",
              "    box-shadow: none;\n",
              "  }\n",
              "\n",
              "  .colab-df-spinner {\n",
              "    border: 2px solid var(--fill-color);\n",
              "    border-color: transparent;\n",
              "    border-bottom-color: var(--fill-color);\n",
              "    animation:\n",
              "      spin 1s steps(1) infinite;\n",
              "  }\n",
              "\n",
              "  @keyframes spin {\n",
              "    0% {\n",
              "      border-color: transparent;\n",
              "      border-bottom-color: var(--fill-color);\n",
              "      border-left-color: var(--fill-color);\n",
              "    }\n",
              "    20% {\n",
              "      border-color: transparent;\n",
              "      border-left-color: var(--fill-color);\n",
              "      border-top-color: var(--fill-color);\n",
              "    }\n",
              "    30% {\n",
              "      border-color: transparent;\n",
              "      border-left-color: var(--fill-color);\n",
              "      border-top-color: var(--fill-color);\n",
              "      border-right-color: var(--fill-color);\n",
              "    }\n",
              "    40% {\n",
              "      border-color: transparent;\n",
              "      border-right-color: var(--fill-color);\n",
              "      border-top-color: var(--fill-color);\n",
              "    }\n",
              "    60% {\n",
              "      border-color: transparent;\n",
              "      border-right-color: var(--fill-color);\n",
              "    }\n",
              "    80% {\n",
              "      border-color: transparent;\n",
              "      border-right-color: var(--fill-color);\n",
              "      border-bottom-color: var(--fill-color);\n",
              "    }\n",
              "    90% {\n",
              "      border-color: transparent;\n",
              "      border-bottom-color: var(--fill-color);\n",
              "    }\n",
              "  }\n",
              "</style>\n",
              "\n",
              "  <script>\n",
              "    async function quickchart(key) {\n",
              "      const quickchartButtonEl =\n",
              "        document.querySelector('#' + key + ' button');\n",
              "      quickchartButtonEl.disabled = true;  // To prevent multiple clicks.\n",
              "      quickchartButtonEl.classList.add('colab-df-spinner');\n",
              "      try {\n",
              "        const charts = await google.colab.kernel.invokeFunction(\n",
              "            'suggestCharts', [key], {});\n",
              "      } catch (error) {\n",
              "        console.error('Error during call to suggestCharts:', error);\n",
              "      }\n",
              "      quickchartButtonEl.classList.remove('colab-df-spinner');\n",
              "      quickchartButtonEl.classList.add('colab-df-quickchart-complete');\n",
              "    }\n",
              "    (() => {\n",
              "      let quickchartButtonEl =\n",
              "        document.querySelector('#df-c61a3874-ba95-452e-be2a-918a86b5ddb8 button');\n",
              "      quickchartButtonEl.style.display =\n",
              "        google.colab.kernel.accessAllowed ? 'block' : 'none';\n",
              "    })();\n",
              "  </script>\n",
              "</div>\n",
              "    </div>\n",
              "  </div>\n"
            ],
            "application/vnd.google.colaboratory.intrinsic+json": {
              "type": "dataframe",
              "summary": "{\n  \"name\": \"pd\",\n  \"rows\": 26,\n  \"fields\": [\n    {\n      \"column\": 0,\n      \"properties\": {\n        \"dtype\": \"number\",\n        \"std\": 1501.3082359147143,\n        \"min\": -4230.553785302252,\n        \"max\": 5235.158228698442,\n        \"num_unique_values\": 24,\n        \"samples\": [\n          102.33042076683607,\n          -4230.553785302252,\n          5235.158228698442\n        ],\n        \"semantic_type\": \"\",\n        \"description\": \"\"\n      }\n    }\n  ]\n}"
            }
          },
          "metadata": {},
          "execution_count": 41
        }
      ]
    },
    {
      "cell_type": "markdown",
      "source": [
        "При первом же взгляде на приведенную выше таблице очевидно, что самым значимым признаком оказалось количество карат - вес при это признаке наибольший. Признаки depth, table почти не играют роли, их веса очень малы, как и веса y, z.\n",
        "С другой стороны, вес параметра x достаточно большой и при это отрицательный. Возможно, что одного значений x достаточно, или связь признаков нелинейная, здесь сказать трудно. С категориальными признаками нужно быть осторожно, так как их наличие может встречаться не так часто и модель может быть гиперчувтсвительна к ним. Признак cut показывает разные значения в зависимости от категории, значение \"Very Good\" вообще занулилось, а наиоболее значимым видом этого признака оказалось значение \"Fair\". Почему так остается только догадываться. Признак цвета имеет схожую ситуацию, есть занулившийся признак и большой отрицательный признак. Возможно, что наличие цвета J сигнализирует о низкой цене. Наконец, в признаке прозрачности выделяются две категории SI2, I1. Оба имеют большое абсолютное значение и оба отрицательны, что может сигнализировать о низкой цене как в предыдущем случае."
      ],
      "metadata": {
        "id": "G15V64Vem14X"
      }
    },
    {
      "cell_type": "markdown",
      "metadata": {
        "id": "Cef0Qif4gFQ3"
      },
      "source": [
        "**Задача 3.12 (0.4 балла)** Сделайте предсказания обученной Lasso-регрессии на тестовой выборке и сравните среднеквадратичную ошибку с ошибкой обычной линейной регрессии из задачи 3.7. Какую модель лучше использовать для предсказаний? Приведите возможное объяснение, почему одна модель оказалась лучше другой."
      ]
    },
    {
      "cell_type": "code",
      "execution_count": 42,
      "metadata": {
        "id": "QCgns9cigFQ3",
        "colab": {
          "base_uri": "https://localhost:8080/",
          "height": 445
        },
        "outputId": "8b8fa19a-a8cf-42ad-c837-d44b8a36833e"
      },
      "outputs": [
        {
          "output_type": "display_data",
          "data": {
            "text/plain": [
              "<Figure size 640x480 with 1 Axes>"
            ],
            "image/png": "[encoded data removed]"
          },
          "metadata": {}
        }
      ],
      "source": [
        "best_mse = mean_squared_error(y_test, lasso_best.predict(X_test))\n",
        "base_mse = mean_squared_error(y_test, pred_test)\n",
        "\n",
        "plt.bar(['Lasso (alpha = 1)', 'LinearRegression'], [best_mse, base_mse], color='maroon')\n",
        "plt.show()"
      ]
    },
    {
      "cell_type": "code",
      "source": [
        "print(best_mse)\n",
        "print(base_mse)"
      ],
      "metadata": {
        "colab": {
          "base_uri": "https://localhost:8080/"
        },
        "id": "l1CWrLPinyBu",
        "outputId": "3c6a60a7-d196-46f8-edf6-3063d81bbbe8"
      },
      "execution_count": 43,
      "outputs": [
        {
          "output_type": "stream",
          "name": "stdout",
          "text": [
            "1267656.731630648\n",
            "1266040.087620711\n"
          ]
        }
      ]
    },
    {
      "cell_type": "markdown",
      "source": [
        "Показатели линейной регрессии с и без регуляризации оказалось схожими. Оба показывают почти одинаковые результаты, отиличие может быть просто погрешностью. Одно из возможных объяснений - это что модели не так сильно нужна регуляризация. Веса у модели не такие уж и большие, поэтому сооброжение о переобучении на больших весах здесь не применимо. Зануление каких-то признаков тоже не повлияло на точность, там, где модель занулила много объектов, ошибка оказалась на порядок больше."
      ],
      "metadata": {
        "id": "X4c-uS1WnsDe"
      }
    }
  ],
  "metadata": {
    "kernelspec": {
      "display_name": "Python 3",
      "language": "python",
      "name": "python3"
    },
    "language_info": {
      "codemirror_mode": {
        "name": "ipython",
        "version": 3
      },
      "file_extension": ".py",
      "mimetype": "text/x-python",
      "name": "python",
      "nbconvert_exporter": "python",
      "pygments_lexer": "ipython3",
      "version": "3.8.5"
    },
    "colab": {
      "provenance": []
    }
  },
  "nbformat": 4,
  "nbformat_minor": 0
}